{
 "cells": [
  {
   "cell_type": "markdown",
   "id": "69988c40-42d4-49e3-b539-4e1458f92a93",
   "metadata": {},
   "source": [
    "# Clasificación de textos con deep learning"
   ]
  },
  {
   "cell_type": "code",
   "execution_count": 1,
   "id": "e038198f-51e3-487a-b787-d1f583d8925e",
   "metadata": {
    "tags": []
   },
   "outputs": [],
   "source": [
    "import pandas as pd\n",
    "import numpy as np\n",
    "import warnings\n",
    "warnings.filterwarnings(\"ignore\")"
   ]
  },
  {
   "cell_type": "code",
   "execution_count": 2,
   "id": "858b9278-4539-47a1-aa08-09e3fc26ac48",
   "metadata": {
    "tags": []
   },
   "outputs": [],
   "source": [
    "import os\n",
    "\n",
    "os.chdir(r\"C:\\Users\\borja\\OneDrive\\Documents\\C2B\\Bootcamp\\Módulo 8\\Módulo 8\\scripts\\16.PLN\")\n",
    "\n",
    "df = pd.read_csv('spam.csv', encoding = \"ISO-8859-1\")"
   ]
  },
  {
   "cell_type": "code",
   "execution_count": 3,
   "id": "68ec7038-0dea-4beb-b90d-a0ace9d11492",
   "metadata": {},
   "outputs": [
    {
     "data": {
      "text/html": [
       "<div>\n",
       "<style scoped>\n",
       "    .dataframe tbody tr th:only-of-type {\n",
       "        vertical-align: middle;\n",
       "    }\n",
       "\n",
       "    .dataframe tbody tr th {\n",
       "        vertical-align: top;\n",
       "    }\n",
       "\n",
       "    .dataframe thead th {\n",
       "        text-align: right;\n",
       "    }\n",
       "</style>\n",
       "<table border=\"1\" class=\"dataframe\">\n",
       "  <thead>\n",
       "    <tr style=\"text-align: right;\">\n",
       "      <th></th>\n",
       "      <th>v1</th>\n",
       "      <th>v2</th>\n",
       "      <th>Unnamed: 2</th>\n",
       "      <th>Unnamed: 3</th>\n",
       "      <th>Unnamed: 4</th>\n",
       "    </tr>\n",
       "  </thead>\n",
       "  <tbody>\n",
       "    <tr>\n",
       "      <th>0</th>\n",
       "      <td>ham</td>\n",
       "      <td>Go until jurong point, crazy.. Available only ...</td>\n",
       "      <td>NaN</td>\n",
       "      <td>NaN</td>\n",
       "      <td>NaN</td>\n",
       "    </tr>\n",
       "    <tr>\n",
       "      <th>1</th>\n",
       "      <td>ham</td>\n",
       "      <td>Ok lar... Joking wif u oni...</td>\n",
       "      <td>NaN</td>\n",
       "      <td>NaN</td>\n",
       "      <td>NaN</td>\n",
       "    </tr>\n",
       "    <tr>\n",
       "      <th>2</th>\n",
       "      <td>spam</td>\n",
       "      <td>Free entry in 2 a wkly comp to win FA Cup fina...</td>\n",
       "      <td>NaN</td>\n",
       "      <td>NaN</td>\n",
       "      <td>NaN</td>\n",
       "    </tr>\n",
       "    <tr>\n",
       "      <th>3</th>\n",
       "      <td>ham</td>\n",
       "      <td>U dun say so early hor... U c already then say...</td>\n",
       "      <td>NaN</td>\n",
       "      <td>NaN</td>\n",
       "      <td>NaN</td>\n",
       "    </tr>\n",
       "    <tr>\n",
       "      <th>4</th>\n",
       "      <td>ham</td>\n",
       "      <td>Nah I don't think he goes to usf, he lives aro...</td>\n",
       "      <td>NaN</td>\n",
       "      <td>NaN</td>\n",
       "      <td>NaN</td>\n",
       "    </tr>\n",
       "    <tr>\n",
       "      <th>...</th>\n",
       "      <td>...</td>\n",
       "      <td>...</td>\n",
       "      <td>...</td>\n",
       "      <td>...</td>\n",
       "      <td>...</td>\n",
       "    </tr>\n",
       "    <tr>\n",
       "      <th>5567</th>\n",
       "      <td>spam</td>\n",
       "      <td>This is the 2nd time we have tried 2 contact u...</td>\n",
       "      <td>NaN</td>\n",
       "      <td>NaN</td>\n",
       "      <td>NaN</td>\n",
       "    </tr>\n",
       "    <tr>\n",
       "      <th>5568</th>\n",
       "      <td>ham</td>\n",
       "      <td>Will Ì_ b going to esplanade fr home?</td>\n",
       "      <td>NaN</td>\n",
       "      <td>NaN</td>\n",
       "      <td>NaN</td>\n",
       "    </tr>\n",
       "    <tr>\n",
       "      <th>5569</th>\n",
       "      <td>ham</td>\n",
       "      <td>Pity, * was in mood for that. So...any other s...</td>\n",
       "      <td>NaN</td>\n",
       "      <td>NaN</td>\n",
       "      <td>NaN</td>\n",
       "    </tr>\n",
       "    <tr>\n",
       "      <th>5570</th>\n",
       "      <td>ham</td>\n",
       "      <td>The guy did some bitching but I acted like i'd...</td>\n",
       "      <td>NaN</td>\n",
       "      <td>NaN</td>\n",
       "      <td>NaN</td>\n",
       "    </tr>\n",
       "    <tr>\n",
       "      <th>5571</th>\n",
       "      <td>ham</td>\n",
       "      <td>Rofl. Its true to its name</td>\n",
       "      <td>NaN</td>\n",
       "      <td>NaN</td>\n",
       "      <td>NaN</td>\n",
       "    </tr>\n",
       "  </tbody>\n",
       "</table>\n",
       "<p>5572 rows × 5 columns</p>\n",
       "</div>"
      ],
      "text/plain": [
       "        v1                                                 v2 Unnamed: 2  \\\n",
       "0      ham  Go until jurong point, crazy.. Available only ...        NaN   \n",
       "1      ham                      Ok lar... Joking wif u oni...        NaN   \n",
       "2     spam  Free entry in 2 a wkly comp to win FA Cup fina...        NaN   \n",
       "3      ham  U dun say so early hor... U c already then say...        NaN   \n",
       "4      ham  Nah I don't think he goes to usf, he lives aro...        NaN   \n",
       "...    ...                                                ...        ...   \n",
       "5567  spam  This is the 2nd time we have tried 2 contact u...        NaN   \n",
       "5568   ham              Will Ì_ b going to esplanade fr home?        NaN   \n",
       "5569   ham  Pity, * was in mood for that. So...any other s...        NaN   \n",
       "5570   ham  The guy did some bitching but I acted like i'd...        NaN   \n",
       "5571   ham                         Rofl. Its true to its name        NaN   \n",
       "\n",
       "     Unnamed: 3 Unnamed: 4  \n",
       "0           NaN        NaN  \n",
       "1           NaN        NaN  \n",
       "2           NaN        NaN  \n",
       "3           NaN        NaN  \n",
       "4           NaN        NaN  \n",
       "...         ...        ...  \n",
       "5567        NaN        NaN  \n",
       "5568        NaN        NaN  \n",
       "5569        NaN        NaN  \n",
       "5570        NaN        NaN  \n",
       "5571        NaN        NaN  \n",
       "\n",
       "[5572 rows x 5 columns]"
      ]
     },
     "execution_count": 3,
     "metadata": {},
     "output_type": "execute_result"
    }
   ],
   "source": [
    "df"
   ]
  },
  {
   "cell_type": "markdown",
   "id": "60c38961-a84a-463f-824a-aaa1416ff260",
   "metadata": {},
   "source": [
    "Borramos columnas innecesarias"
   ]
  },
  {
   "cell_type": "code",
   "execution_count": 4,
   "id": "82ed545a-0e0f-481b-b48f-78a21eb1b9a8",
   "metadata": {},
   "outputs": [],
   "source": [
    "df = df.iloc [:,0:2]"
   ]
  },
  {
   "cell_type": "code",
   "execution_count": 5,
   "id": "4efe99c6-92d8-4f27-896d-39951bbfdd8a",
   "metadata": {},
   "outputs": [
    {
     "data": {
      "text/html": [
       "<div>\n",
       "<style scoped>\n",
       "    .dataframe tbody tr th:only-of-type {\n",
       "        vertical-align: middle;\n",
       "    }\n",
       "\n",
       "    .dataframe tbody tr th {\n",
       "        vertical-align: top;\n",
       "    }\n",
       "\n",
       "    .dataframe thead th {\n",
       "        text-align: right;\n",
       "    }\n",
       "</style>\n",
       "<table border=\"1\" class=\"dataframe\">\n",
       "  <thead>\n",
       "    <tr style=\"text-align: right;\">\n",
       "      <th></th>\n",
       "      <th>v1</th>\n",
       "      <th>v2</th>\n",
       "    </tr>\n",
       "  </thead>\n",
       "  <tbody>\n",
       "    <tr>\n",
       "      <th>0</th>\n",
       "      <td>ham</td>\n",
       "      <td>Go until jurong point, crazy.. Available only ...</td>\n",
       "    </tr>\n",
       "    <tr>\n",
       "      <th>1</th>\n",
       "      <td>ham</td>\n",
       "      <td>Ok lar... Joking wif u oni...</td>\n",
       "    </tr>\n",
       "    <tr>\n",
       "      <th>2</th>\n",
       "      <td>spam</td>\n",
       "      <td>Free entry in 2 a wkly comp to win FA Cup fina...</td>\n",
       "    </tr>\n",
       "    <tr>\n",
       "      <th>3</th>\n",
       "      <td>ham</td>\n",
       "      <td>U dun say so early hor... U c already then say...</td>\n",
       "    </tr>\n",
       "    <tr>\n",
       "      <th>4</th>\n",
       "      <td>ham</td>\n",
       "      <td>Nah I don't think he goes to usf, he lives aro...</td>\n",
       "    </tr>\n",
       "  </tbody>\n",
       "</table>\n",
       "</div>"
      ],
      "text/plain": [
       "     v1                                                 v2\n",
       "0   ham  Go until jurong point, crazy.. Available only ...\n",
       "1   ham                      Ok lar... Joking wif u oni...\n",
       "2  spam  Free entry in 2 a wkly comp to win FA Cup fina...\n",
       "3   ham  U dun say so early hor... U c already then say...\n",
       "4   ham  Nah I don't think he goes to usf, he lives aro..."
      ]
     },
     "execution_count": 5,
     "metadata": {},
     "output_type": "execute_result"
    }
   ],
   "source": [
    "df.head()"
   ]
  },
  {
   "cell_type": "code",
   "execution_count": 6,
   "id": "4d5e87d1-6e9e-4762-9a5e-b2bc13903e71",
   "metadata": {},
   "outputs": [],
   "source": [
    "df.columns = ['Target','Email']"
   ]
  },
  {
   "cell_type": "code",
   "execution_count": 7,
   "id": "4757fd25",
   "metadata": {},
   "outputs": [
    {
     "name": "stdout",
     "output_type": "stream",
     "text": [
      "showing info https://raw.githubusercontent.com/nltk/nltk_data/gh-pages/index.xml\n"
     ]
    },
    {
     "data": {
      "text/plain": [
       "True"
      ]
     },
     "execution_count": 7,
     "metadata": {},
     "output_type": "execute_result"
    }
   ],
   "source": [
    "import nltk\n",
    "nltk.download()"
   ]
  },
  {
   "cell_type": "code",
   "execution_count": 8,
   "id": "2181f246-94c3-4d46-991d-425c3233c01f",
   "metadata": {},
   "outputs": [],
   "source": [
    "from nltk.corpus import stopwords\n",
    "from nltk import *\n",
    "from sklearn.feature_extraction.text import TfidfVectorizer\n",
    "from nltk.stem import WordNetLemmatizer\n",
    "import matplotlib.pyplot as plt\n",
    "from sklearn.model_selection import train_test_split"
   ]
  },
  {
   "cell_type": "markdown",
   "id": "466d6e33-4d60-408c-9d42-31e2e94e6b86",
   "metadata": {},
   "source": [
    "Eliminamos stopwords de la columna Email"
   ]
  },
  {
   "cell_type": "code",
   "execution_count": 9,
   "id": "49a3a84c-8fe1-4187-8a6c-19ae88973b8a",
   "metadata": {},
   "outputs": [],
   "source": [
    "stop = stopwords.words('english')\n",
    "df['Email'] = df['Email'].apply(lambda x: \" \".join(x for x in x.split() if x not in stop))"
   ]
  },
  {
   "cell_type": "code",
   "execution_count": 10,
   "id": "6659ca0c-30ea-48ef-a736-69d2f434ee79",
   "metadata": {},
   "outputs": [
    {
     "data": {
      "text/html": [
       "<div>\n",
       "<style scoped>\n",
       "    .dataframe tbody tr th:only-of-type {\n",
       "        vertical-align: middle;\n",
       "    }\n",
       "\n",
       "    .dataframe tbody tr th {\n",
       "        vertical-align: top;\n",
       "    }\n",
       "\n",
       "    .dataframe thead th {\n",
       "        text-align: right;\n",
       "    }\n",
       "</style>\n",
       "<table border=\"1\" class=\"dataframe\">\n",
       "  <thead>\n",
       "    <tr style=\"text-align: right;\">\n",
       "      <th></th>\n",
       "      <th>Target</th>\n",
       "      <th>Email</th>\n",
       "    </tr>\n",
       "  </thead>\n",
       "  <tbody>\n",
       "    <tr>\n",
       "      <th>0</th>\n",
       "      <td>ham</td>\n",
       "      <td>Go jurong point, crazy.. Available bugis n gre...</td>\n",
       "    </tr>\n",
       "    <tr>\n",
       "      <th>1</th>\n",
       "      <td>ham</td>\n",
       "      <td>Ok lar... Joking wif u oni...</td>\n",
       "    </tr>\n",
       "    <tr>\n",
       "      <th>2</th>\n",
       "      <td>spam</td>\n",
       "      <td>Free entry 2 wkly comp win FA Cup final tkts 2...</td>\n",
       "    </tr>\n",
       "    <tr>\n",
       "      <th>3</th>\n",
       "      <td>ham</td>\n",
       "      <td>U dun say early hor... U c already say...</td>\n",
       "    </tr>\n",
       "    <tr>\n",
       "      <th>4</th>\n",
       "      <td>ham</td>\n",
       "      <td>Nah I think goes usf, lives around though</td>\n",
       "    </tr>\n",
       "    <tr>\n",
       "      <th>...</th>\n",
       "      <td>...</td>\n",
       "      <td>...</td>\n",
       "    </tr>\n",
       "    <tr>\n",
       "      <th>5567</th>\n",
       "      <td>spam</td>\n",
       "      <td>This 2nd time tried 2 contact u. U å£750 Pound...</td>\n",
       "    </tr>\n",
       "    <tr>\n",
       "      <th>5568</th>\n",
       "      <td>ham</td>\n",
       "      <td>Will Ì_ b going esplanade fr home?</td>\n",
       "    </tr>\n",
       "    <tr>\n",
       "      <th>5569</th>\n",
       "      <td>ham</td>\n",
       "      <td>Pity, * mood that. So...any suggestions?</td>\n",
       "    </tr>\n",
       "    <tr>\n",
       "      <th>5570</th>\n",
       "      <td>ham</td>\n",
       "      <td>The guy bitching I acted like i'd interested b...</td>\n",
       "    </tr>\n",
       "    <tr>\n",
       "      <th>5571</th>\n",
       "      <td>ham</td>\n",
       "      <td>Rofl. Its true name</td>\n",
       "    </tr>\n",
       "  </tbody>\n",
       "</table>\n",
       "<p>5572 rows × 2 columns</p>\n",
       "</div>"
      ],
      "text/plain": [
       "     Target                                              Email\n",
       "0       ham  Go jurong point, crazy.. Available bugis n gre...\n",
       "1       ham                      Ok lar... Joking wif u oni...\n",
       "2      spam  Free entry 2 wkly comp win FA Cup final tkts 2...\n",
       "3       ham          U dun say early hor... U c already say...\n",
       "4       ham          Nah I think goes usf, lives around though\n",
       "...     ...                                                ...\n",
       "5567   spam  This 2nd time tried 2 contact u. U å£750 Pound...\n",
       "5568    ham                 Will Ì_ b going esplanade fr home?\n",
       "5569    ham           Pity, * mood that. So...any suggestions?\n",
       "5570    ham  The guy bitching I acted like i'd interested b...\n",
       "5571    ham                                Rofl. Its true name\n",
       "\n",
       "[5572 rows x 2 columns]"
      ]
     },
     "execution_count": 10,
     "metadata": {},
     "output_type": "execute_result"
    }
   ],
   "source": [
    "df"
   ]
  },
  {
   "cell_type": "markdown",
   "id": "64d4bd65-e54e-4b68-814d-5014aeb1d1ba",
   "metadata": {},
   "source": [
    "Eliminamos símbolos puntuación y convertimos a minúsculas..."
   ]
  },
  {
   "cell_type": "code",
   "execution_count": 11,
   "id": "d3ae4a7d-a104-4685-9dca-366805ff7be7",
   "metadata": {},
   "outputs": [],
   "source": [
    "df['Email'] = df['Email'].apply(lambda x: re.sub('[!@#$:).;,?&]',' ', x.lower()))"
   ]
  },
  {
   "cell_type": "code",
   "execution_count": 12,
   "id": "07d61f4f-c20e-4bfa-9fcf-393f16313446",
   "metadata": {},
   "outputs": [
    {
     "data": {
      "text/html": [
       "<div>\n",
       "<style scoped>\n",
       "    .dataframe tbody tr th:only-of-type {\n",
       "        vertical-align: middle;\n",
       "    }\n",
       "\n",
       "    .dataframe tbody tr th {\n",
       "        vertical-align: top;\n",
       "    }\n",
       "\n",
       "    .dataframe thead th {\n",
       "        text-align: right;\n",
       "    }\n",
       "</style>\n",
       "<table border=\"1\" class=\"dataframe\">\n",
       "  <thead>\n",
       "    <tr style=\"text-align: right;\">\n",
       "      <th></th>\n",
       "      <th>Target</th>\n",
       "      <th>Email</th>\n",
       "    </tr>\n",
       "  </thead>\n",
       "  <tbody>\n",
       "    <tr>\n",
       "      <th>0</th>\n",
       "      <td>ham</td>\n",
       "      <td>go jurong point  crazy   available bugis n gre...</td>\n",
       "    </tr>\n",
       "    <tr>\n",
       "      <th>1</th>\n",
       "      <td>ham</td>\n",
       "      <td>ok lar    joking wif u oni</td>\n",
       "    </tr>\n",
       "    <tr>\n",
       "      <th>2</th>\n",
       "      <td>spam</td>\n",
       "      <td>free entry 2 wkly comp win fa cup final tkts 2...</td>\n",
       "    </tr>\n",
       "    <tr>\n",
       "      <th>3</th>\n",
       "      <td>ham</td>\n",
       "      <td>u dun say early hor    u c already say</td>\n",
       "    </tr>\n",
       "    <tr>\n",
       "      <th>4</th>\n",
       "      <td>ham</td>\n",
       "      <td>nah i think goes usf  lives around though</td>\n",
       "    </tr>\n",
       "    <tr>\n",
       "      <th>...</th>\n",
       "      <td>...</td>\n",
       "      <td>...</td>\n",
       "    </tr>\n",
       "    <tr>\n",
       "      <th>5567</th>\n",
       "      <td>spam</td>\n",
       "      <td>this 2nd time tried 2 contact u  u å£750 pound...</td>\n",
       "    </tr>\n",
       "    <tr>\n",
       "      <th>5568</th>\n",
       "      <td>ham</td>\n",
       "      <td>will ì_ b going esplanade fr home</td>\n",
       "    </tr>\n",
       "    <tr>\n",
       "      <th>5569</th>\n",
       "      <td>ham</td>\n",
       "      <td>pity  * mood that  so   any suggestions</td>\n",
       "    </tr>\n",
       "    <tr>\n",
       "      <th>5570</th>\n",
       "      <td>ham</td>\n",
       "      <td>the guy bitching i acted like i'd interested b...</td>\n",
       "    </tr>\n",
       "    <tr>\n",
       "      <th>5571</th>\n",
       "      <td>ham</td>\n",
       "      <td>rofl  its true name</td>\n",
       "    </tr>\n",
       "  </tbody>\n",
       "</table>\n",
       "<p>5572 rows × 2 columns</p>\n",
       "</div>"
      ],
      "text/plain": [
       "     Target                                              Email\n",
       "0       ham  go jurong point  crazy   available bugis n gre...\n",
       "1       ham                      ok lar    joking wif u oni   \n",
       "2      spam  free entry 2 wkly comp win fa cup final tkts 2...\n",
       "3       ham          u dun say early hor    u c already say   \n",
       "4       ham          nah i think goes usf  lives around though\n",
       "...     ...                                                ...\n",
       "5567   spam  this 2nd time tried 2 contact u  u å£750 pound...\n",
       "5568    ham                 will ì_ b going esplanade fr home \n",
       "5569    ham           pity  * mood that  so   any suggestions \n",
       "5570    ham  the guy bitching i acted like i'd interested b...\n",
       "5571    ham                                rofl  its true name\n",
       "\n",
       "[5572 rows x 2 columns]"
      ]
     },
     "execution_count": 12,
     "metadata": {},
     "output_type": "execute_result"
    }
   ],
   "source": [
    "df"
   ]
  },
  {
   "cell_type": "code",
   "execution_count": 13,
   "id": "1026e418-7700-4e01-a8b8-6befa3663521",
   "metadata": {},
   "outputs": [],
   "source": [
    "df['Email'] = df['Email'].apply(lambda x:  re.sub('[áéíóúå]','', x))"
   ]
  },
  {
   "cell_type": "code",
   "execution_count": 14,
   "id": "418f4d96-685e-4094-a0ec-bf87437778ff",
   "metadata": {},
   "outputs": [
    {
     "data": {
      "text/html": [
       "<div>\n",
       "<style scoped>\n",
       "    .dataframe tbody tr th:only-of-type {\n",
       "        vertical-align: middle;\n",
       "    }\n",
       "\n",
       "    .dataframe tbody tr th {\n",
       "        vertical-align: top;\n",
       "    }\n",
       "\n",
       "    .dataframe thead th {\n",
       "        text-align: right;\n",
       "    }\n",
       "</style>\n",
       "<table border=\"1\" class=\"dataframe\">\n",
       "  <thead>\n",
       "    <tr style=\"text-align: right;\">\n",
       "      <th></th>\n",
       "      <th>Target</th>\n",
       "      <th>Email</th>\n",
       "    </tr>\n",
       "  </thead>\n",
       "  <tbody>\n",
       "    <tr>\n",
       "      <th>0</th>\n",
       "      <td>ham</td>\n",
       "      <td>go jurong point  crazy   available bugis n gre...</td>\n",
       "    </tr>\n",
       "    <tr>\n",
       "      <th>1</th>\n",
       "      <td>ham</td>\n",
       "      <td>ok lar    joking wif u oni</td>\n",
       "    </tr>\n",
       "    <tr>\n",
       "      <th>2</th>\n",
       "      <td>spam</td>\n",
       "      <td>free entry 2 wkly comp win fa cup final tkts 2...</td>\n",
       "    </tr>\n",
       "    <tr>\n",
       "      <th>3</th>\n",
       "      <td>ham</td>\n",
       "      <td>u dun say early hor    u c already say</td>\n",
       "    </tr>\n",
       "    <tr>\n",
       "      <th>4</th>\n",
       "      <td>ham</td>\n",
       "      <td>nah i think goes usf  lives around though</td>\n",
       "    </tr>\n",
       "    <tr>\n",
       "      <th>...</th>\n",
       "      <td>...</td>\n",
       "      <td>...</td>\n",
       "    </tr>\n",
       "    <tr>\n",
       "      <th>5567</th>\n",
       "      <td>spam</td>\n",
       "      <td>this 2nd time tried 2 contact u  u £750 pound ...</td>\n",
       "    </tr>\n",
       "    <tr>\n",
       "      <th>5568</th>\n",
       "      <td>ham</td>\n",
       "      <td>will ì_ b going esplanade fr home</td>\n",
       "    </tr>\n",
       "    <tr>\n",
       "      <th>5569</th>\n",
       "      <td>ham</td>\n",
       "      <td>pity  * mood that  so   any suggestions</td>\n",
       "    </tr>\n",
       "    <tr>\n",
       "      <th>5570</th>\n",
       "      <td>ham</td>\n",
       "      <td>the guy bitching i acted like i'd interested b...</td>\n",
       "    </tr>\n",
       "    <tr>\n",
       "      <th>5571</th>\n",
       "      <td>ham</td>\n",
       "      <td>rofl  its true name</td>\n",
       "    </tr>\n",
       "  </tbody>\n",
       "</table>\n",
       "<p>5572 rows × 2 columns</p>\n",
       "</div>"
      ],
      "text/plain": [
       "     Target                                              Email\n",
       "0       ham  go jurong point  crazy   available bugis n gre...\n",
       "1       ham                      ok lar    joking wif u oni   \n",
       "2      spam  free entry 2 wkly comp win fa cup final tkts 2...\n",
       "3       ham          u dun say early hor    u c already say   \n",
       "4       ham          nah i think goes usf  lives around though\n",
       "...     ...                                                ...\n",
       "5567   spam  this 2nd time tried 2 contact u  u £750 pound ...\n",
       "5568    ham                 will ì_ b going esplanade fr home \n",
       "5569    ham           pity  * mood that  so   any suggestions \n",
       "5570    ham  the guy bitching i acted like i'd interested b...\n",
       "5571    ham                                rofl  its true name\n",
       "\n",
       "[5572 rows x 2 columns]"
      ]
     },
     "execution_count": 14,
     "metadata": {},
     "output_type": "execute_result"
    }
   ],
   "source": [
    "df"
   ]
  },
  {
   "cell_type": "markdown",
   "id": "b83108c3-cd46-41c7-86f8-8af524595f56",
   "metadata": {},
   "source": [
    "Separamos los datos de la variable clase"
   ]
  },
  {
   "cell_type": "code",
   "execution_count": 15,
   "id": "614d6cff-d1f2-42ee-90cc-bff7ecac87a3",
   "metadata": {},
   "outputs": [],
   "source": [
    "df2=df[['Email', 'Target']]"
   ]
  },
  {
   "cell_type": "markdown",
   "id": "434869e0-bcd3-41bf-ad0b-9bf0d82cc5e4",
   "metadata": {},
   "source": [
    "Dividimos los datos en train y test en una proporción de 80:20"
   ]
  },
  {
   "cell_type": "code",
   "execution_count": 16,
   "id": "b14d96d9-b25c-4bad-b89d-ddf91bc3d3a4",
   "metadata": {},
   "outputs": [],
   "source": [
    "train, test = train_test_split(df2, \n",
    "                               test_size=0.2,\n",
    "                               random_state = 123)"
   ]
  },
  {
   "cell_type": "markdown",
   "id": "9ac9ef3d-aa2a-4111-a9aa-f5b4dee768ed",
   "metadata": {},
   "source": [
    "Definimos las variables longuitud máxima de la sentencia y las n palabras más frecuentes"
   ]
  },
  {
   "cell_type": "code",
   "execution_count": 17,
   "id": "9e6c9321-e433-4d87-83fd-fb4c08d3e57b",
   "metadata": {},
   "outputs": [],
   "source": [
    "long_max_sentencia = 300\n",
    "num_palabras = 20000"
   ]
  },
  {
   "cell_type": "markdown",
   "id": "703bfe28-f46b-497a-835a-4670363ff79f",
   "metadata": {},
   "source": [
    "Keras nos permite usar Redes Neuronales con datos de texto.\n",
    "Para ello necesitamos que los datos de entrada, estén codificados, de manera que cada palabra esté representada como un número entero único."
   ]
  },
  {
   "cell_type": "code",
   "execution_count": 18,
   "id": "8e9dc00a-804d-423b-a3dc-3b68db0b1081",
   "metadata": {},
   "outputs": [],
   "source": [
    "from keras.preprocessing.text import Tokenizer\n",
    "\n",
    "# Tokenizamos las 20000 palabras más frecuentes\n",
    "tokenizer = Tokenizer(num_palabras)\n",
    "\n",
    "# Creamos un índice de vocabulario basado en la frecuencia de las palabras\n",
    "tokenizer.fit_on_texts(train.Email)\n",
    "\n",
    "# Transformamos cada texto en los textos en una secuencia de números.\n",
    "# Básicamente cogemos cada palabra y la sustitímos por el valor entero\n",
    "# generado en fit_on_texts\n",
    "train_sequences = tokenizer.texts_to_sequences(train.Email)\n",
    "test_sequences = tokenizer.texts_to_sequences(test.Email)"
   ]
  },
  {
   "cell_type": "code",
   "execution_count": 19,
   "id": "73bc2a85-add8-454b-8d4b-f4f296bacd03",
   "metadata": {
    "scrolled": true,
    "tags": []
   },
   "outputs": [
    {
     "data": {
      "text/plain": [
       "{1: 'i',\n",
       " 2: 'u',\n",
       " 3: 'call',\n",
       " 4: '2',\n",
       " 5: 'you',\n",
       " 6: \"i'm\",\n",
       " 7: 'ur',\n",
       " 8: 'get',\n",
       " 9: 'now',\n",
       " 10: '4',\n",
       " 11: 'gt',\n",
       " 12: 'lt',\n",
       " 13: 'free',\n",
       " 14: 'go',\n",
       " 15: 'ok',\n",
       " 16: 'know',\n",
       " 17: 'like',\n",
       " 18: 'me',\n",
       " 19: 'come',\n",
       " 20: 'no',\n",
       " 21: 'got',\n",
       " 22: 'good',\n",
       " 23: 'it',\n",
       " 24: 'time',\n",
       " 25: 'send',\n",
       " 26: 'day',\n",
       " 27: 'love',\n",
       " 28: 'text',\n",
       " 29: 'txt',\n",
       " 30: 'want',\n",
       " 31: 'going',\n",
       " 32: 'home',\n",
       " 33: 'stop',\n",
       " 34: 'so',\n",
       " 35: 'sorry',\n",
       " 36: 'one',\n",
       " 37: 'do',\n",
       " 38: \"i'll\",\n",
       " 39: 'see',\n",
       " 40: 'lor',\n",
       " 41: 'still',\n",
       " 42: 'how',\n",
       " 43: 'need',\n",
       " 44: 'if',\n",
       " 45: 'r',\n",
       " 46: 'da',\n",
       " 47: 'reply',\n",
       " 48: 'back',\n",
       " 49: 'tell',\n",
       " 50: 'n',\n",
       " 51: 'dont',\n",
       " 52: 'k',\n",
       " 53: 'but',\n",
       " 54: 'today',\n",
       " 55: 'mobile',\n",
       " 56: 'just',\n",
       " 57: 'take',\n",
       " 58: 'pls',\n",
       " 59: 'new',\n",
       " 60: 'later',\n",
       " 61: 'we',\n",
       " 62: 'the',\n",
       " 63: 'please',\n",
       " 64: 'hi',\n",
       " 65: 'think',\n",
       " 66: 'my',\n",
       " 67: 'this',\n",
       " 68: 'dear',\n",
       " 69: 'ì',\n",
       " 70: 'oh',\n",
       " 71: 'night',\n",
       " 72: 'claim',\n",
       " 73: 'and',\n",
       " 74: 'phone',\n",
       " 75: '1',\n",
       " 76: 'what',\n",
       " 77: 'week',\n",
       " 78: 'to',\n",
       " 79: 'great',\n",
       " 80: 'well',\n",
       " 81: 'is',\n",
       " 82: 'much',\n",
       " 83: 'your',\n",
       " 84: 'msg',\n",
       " 85: 'way',\n",
       " 86: 'hope',\n",
       " 87: 'make',\n",
       " 88: 'can',\n",
       " 89: 'its',\n",
       " 90: 'hey',\n",
       " 91: 'a',\n",
       " 92: 'c',\n",
       " 93: 'in',\n",
       " 94: 'have',\n",
       " 95: 'yes',\n",
       " 96: 'message',\n",
       " 97: 'are',\n",
       " 98: 'www',\n",
       " 99: 'prize',\n",
       " 100: '3',\n",
       " 101: 'number',\n",
       " 102: 'then',\n",
       " 103: 'right',\n",
       " 104: 'give',\n",
       " 105: 'already',\n",
       " 106: 'yeah',\n",
       " 107: 'wat',\n",
       " 108: 'tomorrow',\n",
       " 109: 'e',\n",
       " 110: 'work',\n",
       " 111: 'ask',\n",
       " 112: 'happy',\n",
       " 113: 'cash',\n",
       " 114: 'not',\n",
       " 115: 'say',\n",
       " 116: 'im',\n",
       " 117: 'anything',\n",
       " 118: 'thanks',\n",
       " 119: 'really',\n",
       " 120: 'find',\n",
       " 121: 'meet',\n",
       " 122: 'said',\n",
       " 123: 'there',\n",
       " 124: 'amp',\n",
       " 125: 'that',\n",
       " 126: 'miss',\n",
       " 127: 'win',\n",
       " 128: 'b',\n",
       " 129: 'lol',\n",
       " 130: 'babe',\n",
       " 131: 'care',\n",
       " 132: '150p',\n",
       " 133: 'urgent',\n",
       " 134: 'pick',\n",
       " 135: 'morning',\n",
       " 136: 't',\n",
       " 137: 'uk',\n",
       " 138: 'also',\n",
       " 139: 'would',\n",
       " 140: 'every',\n",
       " 141: 'wait',\n",
       " 142: 'let',\n",
       " 143: 'keep',\n",
       " 144: 'buy',\n",
       " 145: 'last',\n",
       " 146: 'sent',\n",
       " 147: 'cos',\n",
       " 148: 'only',\n",
       " 149: 'nokia',\n",
       " 150: 'min',\n",
       " 151: 'us',\n",
       " 152: 'he',\n",
       " 153: 'up',\n",
       " 154: 'sure',\n",
       " 155: 'life',\n",
       " 156: 'when',\n",
       " 157: \"i've\",\n",
       " 158: 'something',\n",
       " 159: 'did',\n",
       " 160: 'nice',\n",
       " 161: 'late',\n",
       " 162: '5',\n",
       " 163: 'next',\n",
       " 164: 'service',\n",
       " 165: 'customer',\n",
       " 166: 'went',\n",
       " 167: '50',\n",
       " 168: 'out',\n",
       " 169: 'tonight',\n",
       " 170: 'cant',\n",
       " 171: 'hello',\n",
       " 172: 'ya',\n",
       " 173: 'contact',\n",
       " 174: 'gud',\n",
       " 175: 'could',\n",
       " 176: 'first',\n",
       " 177: 'chat',\n",
       " 178: 'com',\n",
       " 179: 'even',\n",
       " 180: 'around',\n",
       " 181: 'money',\n",
       " 182: 'thing',\n",
       " 183: 'place',\n",
       " 184: 'someone',\n",
       " 185: 'tone',\n",
       " 186: 'per',\n",
       " 187: 'co',\n",
       " 188: 'many',\n",
       " 189: 'wan',\n",
       " 190: 'she',\n",
       " 191: 'sleep',\n",
       " 192: 'v',\n",
       " 193: 'sms',\n",
       " 194: 'gonna',\n",
       " 195: 'for',\n",
       " 196: 'always',\n",
       " 197: 'all',\n",
       " 198: 'haha',\n",
       " 199: 'friends',\n",
       " 200: 'things',\n",
       " 201: 'leave',\n",
       " 202: 'where',\n",
       " 203: 'friend',\n",
       " 204: 'feel',\n",
       " 205: 'dun',\n",
       " 206: 'done',\n",
       " 207: 'told',\n",
       " 208: '18',\n",
       " 209: 'thought',\n",
       " 210: \"that's\",\n",
       " 211: 'soon',\n",
       " 212: 'here',\n",
       " 213: 's',\n",
       " 214: 'help',\n",
       " 215: 'name',\n",
       " 216: 'ìï',\n",
       " 217: 'year',\n",
       " 218: '16',\n",
       " 219: 'fine',\n",
       " 220: 'yet',\n",
       " 221: 'lunch',\n",
       " 222: 'wish',\n",
       " 223: 'waiting',\n",
       " 224: 'as',\n",
       " 225: 'special',\n",
       " 226: 'thk',\n",
       " 227: 'mins',\n",
       " 228: 'may',\n",
       " 229: 'guaranteed',\n",
       " 230: 'coming',\n",
       " 231: 'person',\n",
       " 232: \"can't\",\n",
       " 233: 'use',\n",
       " 234: 'will',\n",
       " 235: '6',\n",
       " 236: 'man',\n",
       " 237: 'days',\n",
       " 238: 'at',\n",
       " 239: 'on',\n",
       " 240: 'holiday',\n",
       " 241: 'best',\n",
       " 242: 'bit',\n",
       " 243: 'live',\n",
       " 244: 'x',\n",
       " 245: 'try',\n",
       " 246: 'meeting',\n",
       " 247: 'or',\n",
       " 248: 'thats',\n",
       " 249: 'smile',\n",
       " 250: 'wk',\n",
       " 251: 'never',\n",
       " 252: 'car',\n",
       " 253: 'people',\n",
       " 254: 'line',\n",
       " 255: 'talk',\n",
       " 256: 'trying',\n",
       " 257: 'cs',\n",
       " 258: 'job',\n",
       " 259: 'enjoy',\n",
       " 260: 'stuff',\n",
       " 261: 'class',\n",
       " 262: 'receive',\n",
       " 263: '7',\n",
       " 264: '£1',\n",
       " 265: 'eat',\n",
       " 266: 'heart',\n",
       " 267: \"it's\",\n",
       " 268: 'better',\n",
       " 269: 'latest',\n",
       " 270: 'getting',\n",
       " 271: '1st',\n",
       " 272: 'long',\n",
       " 273: 'chance',\n",
       " 274: 'ready',\n",
       " 275: 'check',\n",
       " 276: 'ill',\n",
       " 277: 'another',\n",
       " 278: 'too',\n",
       " 279: 'liao',\n",
       " 280: 'draw',\n",
       " 281: 'guess',\n",
       " 282: 'play',\n",
       " 283: 'lar',\n",
       " 284: 'mind',\n",
       " 285: 'camera',\n",
       " 286: 'they',\n",
       " 287: 'shit',\n",
       " 288: 'cool',\n",
       " 289: 'yo',\n",
       " 290: 'half',\n",
       " 291: 'guys',\n",
       " 292: 'box',\n",
       " 293: 'bt',\n",
       " 294: 'finish',\n",
       " 295: 'world',\n",
       " 296: 'dat',\n",
       " 297: 'house',\n",
       " 298: 'sweet',\n",
       " 299: 'again',\n",
       " 300: 'apply',\n",
       " 301: 'yup',\n",
       " 302: 'problem',\n",
       " 303: 'word',\n",
       " 304: '9',\n",
       " 305: 'sir',\n",
       " 306: 'lot',\n",
       " 307: 'early',\n",
       " 308: 'tv',\n",
       " 309: 'real',\n",
       " 310: 'end',\n",
       " 311: 'po',\n",
       " 312: 'dinner',\n",
       " 313: 'luv',\n",
       " 314: 'wanna',\n",
       " 315: 'might',\n",
       " 316: 'offer',\n",
       " 317: 'why',\n",
       " 318: 'account',\n",
       " 319: 'shows',\n",
       " 320: 'bed',\n",
       " 321: 'awarded',\n",
       " 322: 'sat',\n",
       " 323: 'ringtone',\n",
       " 324: 'am',\n",
       " 325: 'month',\n",
       " 326: 'hour',\n",
       " 327: 'orange',\n",
       " 328: 'big',\n",
       " 329: 'nothing',\n",
       " 330: 'start',\n",
       " 331: 'landline',\n",
       " 332: 'birthday',\n",
       " 333: 'rate',\n",
       " 334: \"he's\",\n",
       " 335: 'part',\n",
       " 336: 'didnt',\n",
       " 337: 'xxx',\n",
       " 338: 'girl',\n",
       " 339: 'cost',\n",
       " 340: 'working',\n",
       " 341: 'called',\n",
       " 342: 'room',\n",
       " 343: 'kiss',\n",
       " 344: 'watching',\n",
       " 345: 'ever',\n",
       " 346: 'little',\n",
       " 347: 'thanx',\n",
       " 348: '150ppm',\n",
       " 349: 'watch',\n",
       " 350: 'forgot',\n",
       " 351: 'bad',\n",
       " 352: '000',\n",
       " 353: 'selected',\n",
       " 354: 'code',\n",
       " 355: 'god',\n",
       " 356: 'aight',\n",
       " 357: 'speak',\n",
       " 358: 'probably',\n",
       " 359: 'den',\n",
       " 360: 'face',\n",
       " 361: 'fun',\n",
       " 362: 'left',\n",
       " 363: 'look',\n",
       " 364: 'ah',\n",
       " 365: 'had',\n",
       " 366: 'easy',\n",
       " 367: 'tones',\n",
       " 368: \"there's\",\n",
       " 369: '10',\n",
       " 370: 'reach',\n",
       " 371: 'says',\n",
       " 372: 'video',\n",
       " 373: 'wont',\n",
       " 374: '£1000',\n",
       " 375: 'dis',\n",
       " 376: 'pay',\n",
       " 377: 'remember',\n",
       " 378: 'from',\n",
       " 379: 'plan',\n",
       " 380: 'princess',\n",
       " 381: 'was',\n",
       " 382: 'wife',\n",
       " 383: 'quite',\n",
       " 384: 'missing',\n",
       " 385: 'weekend',\n",
       " 386: 'everything',\n",
       " 387: '2nd',\n",
       " 388: 'network',\n",
       " 389: 'shopping',\n",
       " 390: 'collect',\n",
       " 391: 'dunno',\n",
       " 392: 'boy',\n",
       " 393: 'anyway',\n",
       " 394: 'office',\n",
       " 395: '8',\n",
       " 396: 'll',\n",
       " 397: 'actually',\n",
       " 398: 'won',\n",
       " 399: 'jus',\n",
       " 400: 'thank',\n",
       " 401: 'bus',\n",
       " 402: 'details',\n",
       " 403: 'leh',\n",
       " 404: 'afternoon',\n",
       " 405: 'since',\n",
       " 406: 'made',\n",
       " 407: 'maybe',\n",
       " 408: 'else',\n",
       " 409: 'wif',\n",
       " 410: 'school',\n",
       " 411: 'away',\n",
       " 412: 'her',\n",
       " 413: 'collection',\n",
       " 414: 'shop',\n",
       " 415: 'asked',\n",
       " 416: 'of',\n",
       " 417: 'okay',\n",
       " 418: 'award',\n",
       " 419: 'wot',\n",
       " 420: 'two',\n",
       " 421: 'baby',\n",
       " 422: 'put',\n",
       " 423: 'years',\n",
       " 424: 'net',\n",
       " 425: 'over',\n",
       " 426: 'doing',\n",
       " 427: 'came',\n",
       " 428: 'pa',\n",
       " 429: 'fuck',\n",
       " 430: 'sexy',\n",
       " 431: 'hear',\n",
       " 432: 'wake',\n",
       " 433: 'shall',\n",
       " 434: 'stay',\n",
       " 435: 'wen',\n",
       " 436: 'must',\n",
       " 437: 'double',\n",
       " 438: 'looking',\n",
       " 439: 'able',\n",
       " 440: 'important',\n",
       " 441: 'enough',\n",
       " 442: 'tmr',\n",
       " 443: 'g',\n",
       " 444: 'wanted',\n",
       " 445: 'pain',\n",
       " 446: 'hav',\n",
       " 447: 'movie',\n",
       " 448: 'goes',\n",
       " 449: 'decimal',\n",
       " 450: 'top',\n",
       " 451: 'entry',\n",
       " 452: '10p',\n",
       " 453: 'with',\n",
       " 454: 'texts',\n",
       " 455: 'yesterday',\n",
       " 456: 'minutes',\n",
       " 457: 'mob',\n",
       " 458: 'join',\n",
       " 459: 'times',\n",
       " 460: 'goin',\n",
       " 461: 'guy',\n",
       " 462: 'evening',\n",
       " 463: 'coz',\n",
       " 464: 'saying',\n",
       " 465: \"how's\",\n",
       " 466: 'without',\n",
       " 467: 'show',\n",
       " 468: 'address',\n",
       " 469: 'alright',\n",
       " 470: 'plz',\n",
       " 471: 'should',\n",
       " 472: 'test',\n",
       " 473: 'valid',\n",
       " 474: \"don't\",\n",
       " 475: 'price',\n",
       " 476: 'plus',\n",
       " 477: 'missed',\n",
       " 478: 'bring',\n",
       " 479: 'hours',\n",
       " 480: 'national',\n",
       " 481: 'mail',\n",
       " 482: 'our',\n",
       " 483: 'd',\n",
       " 484: 'attempt',\n",
       " 485: 'todays',\n",
       " 486: 'id',\n",
       " 487: 'havent',\n",
       " 488: 'lei',\n",
       " 489: 'abt',\n",
       " 490: 'dad',\n",
       " 491: 'hot',\n",
       " 492: 'eve',\n",
       " 493: 'update',\n",
       " 494: 'date',\n",
       " 495: 'poly',\n",
       " 496: 'true',\n",
       " 497: 'wants',\n",
       " 498: \"what's\",\n",
       " 499: 'means',\n",
       " 500: 'bored',\n",
       " 501: 'weekly',\n",
       " 502: 'y',\n",
       " 503: 'any',\n",
       " 504: \"''\",\n",
       " 505: 'drop',\n",
       " 506: 'driving',\n",
       " 507: 'gr8',\n",
       " 508: 'wid',\n",
       " 509: 'making',\n",
       " 510: 'tot',\n",
       " 511: 'feeling',\n",
       " 512: 'words',\n",
       " 513: 'messages',\n",
       " 514: 'til',\n",
       " 515: 'town',\n",
       " 516: 'sch',\n",
       " 517: '500',\n",
       " 518: 'row',\n",
       " 519: 'xmas',\n",
       " 520: '£5000',\n",
       " 521: 'friendship',\n",
       " 522: 'be',\n",
       " 523: 'juz',\n",
       " 524: '£100',\n",
       " 525: 'music',\n",
       " 526: 'till',\n",
       " 527: '8007',\n",
       " 528: 'dude',\n",
       " 529: 'question',\n",
       " 530: 'de',\n",
       " 531: 'tried',\n",
       " 532: 'family',\n",
       " 533: \"we're\",\n",
       " 534: 'charge',\n",
       " 535: 'nite',\n",
       " 536: 'drive',\n",
       " 537: 'smoke',\n",
       " 538: '£2000',\n",
       " 539: 'chikku',\n",
       " 540: 'ring',\n",
       " 541: 'await',\n",
       " 542: 'pm',\n",
       " 543: '86688',\n",
       " 544: 'makes',\n",
       " 545: 'leaving',\n",
       " 546: 'hair',\n",
       " 547: 'online',\n",
       " 548: 'saw',\n",
       " 549: 'worry',\n",
       " 550: 'm',\n",
       " 551: 'http',\n",
       " 552: 'haf',\n",
       " 553: 'second',\n",
       " 554: 'run',\n",
       " 555: 'calling',\n",
       " 556: 'food',\n",
       " 557: 'oso',\n",
       " 558: 'sae',\n",
       " 559: \"c's\",\n",
       " 560: 'after',\n",
       " 561: 'sad',\n",
       " 562: 'awesome',\n",
       " 563: 'mean',\n",
       " 564: 'old',\n",
       " 565: 'believe',\n",
       " 566: 'calls',\n",
       " 567: 'smiling',\n",
       " 568: 'game',\n",
       " 569: 'delivery',\n",
       " 570: 'minute',\n",
       " 571: 'took',\n",
       " 572: 'wil',\n",
       " 573: 'pic',\n",
       " 574: 'aft',\n",
       " 575: 'services',\n",
       " 576: 'together',\n",
       " 577: 'order',\n",
       " 578: 'land',\n",
       " 579: 'simple',\n",
       " 580: 'worth',\n",
       " 581: 'tomo',\n",
       " 582: 'msgs',\n",
       " 583: 'available',\n",
       " 584: 'private',\n",
       " 585: 'okie',\n",
       " 586: 'set',\n",
       " 587: 'games',\n",
       " 588: 'taking',\n",
       " 589: 'who',\n",
       " 590: 'though',\n",
       " 591: 'happen',\n",
       " 592: 'congrats',\n",
       " 593: 'change',\n",
       " 594: 'college',\n",
       " 595: 'story',\n",
       " 596: 'post',\n",
       " 597: 'opt',\n",
       " 598: 'gd',\n",
       " 599: 'either',\n",
       " 600: 'lose',\n",
       " 601: 'bonus',\n",
       " 602: 'mine',\n",
       " 603: 'finished',\n",
       " 604: 'lesson',\n",
       " 605: 'knw',\n",
       " 606: 'him',\n",
       " 607: 'ard',\n",
       " 608: 'pounds',\n",
       " 609: 'walk',\n",
       " 610: 'lets',\n",
       " 611: 'busy',\n",
       " 612: 'card',\n",
       " 613: 'points',\n",
       " 614: '11',\n",
       " 615: 'started',\n",
       " 616: 'pub',\n",
       " 617: 'gift',\n",
       " 618: 'vouchers',\n",
       " 619: 'thinking',\n",
       " 620: 'brother',\n",
       " 621: 'voucher',\n",
       " 622: 'carlos',\n",
       " 623: 'email',\n",
       " 624: 'forget',\n",
       " 625: 'pics',\n",
       " 626: '£500',\n",
       " 627: 'answer',\n",
       " 628: 'news',\n",
       " 629: 'kind',\n",
       " 630: 'search',\n",
       " 631: 'found',\n",
       " 632: 'xx',\n",
       " 633: 'touch',\n",
       " 634: 'book',\n",
       " 635: 'tho',\n",
       " 636: 'sounds',\n",
       " 637: 'auction',\n",
       " 638: 'final',\n",
       " 639: 'friday',\n",
       " 640: 'wit',\n",
       " 641: 'company',\n",
       " 642: 'choose',\n",
       " 643: 'content',\n",
       " 644: \"we'll\",\n",
       " 645: 'hurt',\n",
       " 646: 'cause',\n",
       " 647: 'alone',\n",
       " 648: 'suite342',\n",
       " 649: '2lands',\n",
       " 650: 'about',\n",
       " 651: 'needs',\n",
       " 652: 'off',\n",
       " 653: 'mobileupd8',\n",
       " 654: 'saturday',\n",
       " 655: 'full',\n",
       " 656: 'rite',\n",
       " 657: 'statement',\n",
       " 658: 'decided',\n",
       " 659: 'loving',\n",
       " 660: 'sis',\n",
       " 661: 'sleeping',\n",
       " 662: 'far',\n",
       " 663: '12hrs',\n",
       " 664: 'bank',\n",
       " 665: 'huh',\n",
       " 666: 'beautiful',\n",
       " 667: 'hold',\n",
       " 668: 'treat',\n",
       " 669: 'open',\n",
       " 670: 'unsubscribe',\n",
       " 671: 'everyone',\n",
       " 672: 'read',\n",
       " 673: 'gone',\n",
       " 674: 'angry',\n",
       " 675: 'weeks',\n",
       " 676: 'hard',\n",
       " 677: 'whatever',\n",
       " 678: 'dreams',\n",
       " 679: 'fast',\n",
       " 680: 'hit',\n",
       " 681: 'wonderful',\n",
       " 682: 'club',\n",
       " 683: 'lots',\n",
       " 684: 'numbers',\n",
       " 685: 'f',\n",
       " 686: 'head',\n",
       " 687: 'boytoy',\n",
       " 688: '750',\n",
       " 689: 'drink',\n",
       " 690: 'same',\n",
       " 691: 'trip',\n",
       " 692: 'dating',\n",
       " 693: 'break',\n",
       " 694: 'crazy',\n",
       " 695: '08000839402',\n",
       " 696: '100',\n",
       " 697: 'quiz',\n",
       " 698: 'mrng',\n",
       " 699: 'blue',\n",
       " 700: 'chennai',\n",
       " 701: 'takes',\n",
       " 702: 'mum',\n",
       " 703: 'expires',\n",
       " 704: 'w',\n",
       " 705: 'secret',\n",
       " 706: 'noe',\n",
       " 707: 'more',\n",
       " 708: '£350',\n",
       " 709: 'neva',\n",
       " 710: 'b4',\n",
       " 711: 'anyone',\n",
       " 712: 'wkly',\n",
       " 713: 'player',\n",
       " 714: 'luck',\n",
       " 715: 'colour',\n",
       " 716: '£3',\n",
       " 717: 'savamob',\n",
       " 718: 'offers',\n",
       " 719: 'tel',\n",
       " 720: 'tc',\n",
       " 721: 'smth',\n",
       " 722: 'hows',\n",
       " 723: 'girls',\n",
       " 724: 'reading',\n",
       " 725: 'party',\n",
       " 726: 'gal',\n",
       " 727: 'sending',\n",
       " 728: 'congratulations',\n",
       " 729: 'winner',\n",
       " 730: 'close',\n",
       " 731: 'earlier',\n",
       " 732: 'currently',\n",
       " 733: 'pass',\n",
       " 734: 'identifier',\n",
       " 735: 'his',\n",
       " 736: 'finally',\n",
       " 737: 'pobox',\n",
       " 738: 'frnd',\n",
       " 739: 'tired',\n",
       " 740: 'ni8',\n",
       " 741: 'yar',\n",
       " 742: 'ltd',\n",
       " 743: '£250',\n",
       " 744: 'fancy',\n",
       " 745: 'valued',\n",
       " 746: 'lucky',\n",
       " 747: 'sunday',\n",
       " 748: 'light',\n",
       " 749: 'operator',\n",
       " 750: 'by',\n",
       " 751: 'phones',\n",
       " 752: 'darlin',\n",
       " 753: 'sea',\n",
       " 754: 'type',\n",
       " 755: 'heard',\n",
       " 756: 'before',\n",
       " 757: 'sister',\n",
       " 758: 'comes',\n",
       " 759: 'mu',\n",
       " 760: 'whats',\n",
       " 761: 'them',\n",
       " 762: 'mr',\n",
       " 763: 'nt',\n",
       " 764: 'song',\n",
       " 765: 'small',\n",
       " 766: 'darren',\n",
       " 767: 'mah',\n",
       " 768: 'gotta',\n",
       " 769: 'course',\n",
       " 770: 'o',\n",
       " 771: 'laptop',\n",
       " 772: 'used',\n",
       " 773: 'whole',\n",
       " 774: 'motorola',\n",
       " 775: '20',\n",
       " 776: 'askd',\n",
       " 777: 'frm',\n",
       " 778: 'sun',\n",
       " 779: 'cut',\n",
       " 780: 'swing',\n",
       " 781: 'thinks',\n",
       " 782: 'picking',\n",
       " 783: '2003',\n",
       " 784: '800',\n",
       " 785: 'un',\n",
       " 786: 'hmm',\n",
       " 787: \"'\",\n",
       " 788: 'bath',\n",
       " 789: 'visit',\n",
       " 790: 'lovely',\n",
       " 791: 'lovable',\n",
       " 792: 'nope',\n",
       " 793: '12',\n",
       " 794: 'download',\n",
       " 795: 'mobiles',\n",
       " 796: 'somebody',\n",
       " 797: 'least',\n",
       " 798: 'side',\n",
       " 799: 'which',\n",
       " 800: 'semester',\n",
       " 801: '£2',\n",
       " 802: 'yours',\n",
       " 803: 'etc',\n",
       " 804: 'fone',\n",
       " 805: 'snow',\n",
       " 806: 'eh',\n",
       " 807: 'log',\n",
       " 808: 'surprise',\n",
       " 809: 'eg',\n",
       " 810: '\\x89û',\n",
       " 811: 'muz',\n",
       " 812: 'feels',\n",
       " 813: 'seeing',\n",
       " 814: 'ends',\n",
       " 815: 'outside',\n",
       " 816: 'enter',\n",
       " 817: '30',\n",
       " 818: 'jay',\n",
       " 819: 'cum',\n",
       " 820: 'truth',\n",
       " 821: 'invited',\n",
       " 822: 'hand',\n",
       " 823: 'comp',\n",
       " 824: 'rs',\n",
       " 825: 'std',\n",
       " 826: 'caller',\n",
       " 827: 'welcome',\n",
       " 828: 'felt',\n",
       " 829: 'once',\n",
       " 830: 'confirm',\n",
       " 831: 'booked',\n",
       " 832: 'match',\n",
       " 833: 'rates',\n",
       " 834: 'bout',\n",
       " 835: 'gn',\n",
       " 836: 'lost',\n",
       " 837: 'knew',\n",
       " 838: 'unlimited',\n",
       " 839: 'del',\n",
       " 840: 'leaves',\n",
       " 841: 'point',\n",
       " 842: 'balance',\n",
       " 843: 'hg',\n",
       " 844: 'w1j6hl',\n",
       " 845: 'gym',\n",
       " 846: 'parents',\n",
       " 847: 'wow',\n",
       " 848: 'call2optout',\n",
       " 849: 'computer',\n",
       " 850: 'fucking',\n",
       " 851: 'mates',\n",
       " 852: 'laugh',\n",
       " 853: 'yr',\n",
       " 854: 'usf',\n",
       " 855: 'whenever',\n",
       " 856: 'redeemed',\n",
       " 857: '04',\n",
       " 858: 'meant',\n",
       " 859: 'exam',\n",
       " 860: 'ac',\n",
       " 861: 'ass',\n",
       " 862: 'reveal',\n",
       " 863: 'goodmorning',\n",
       " 864: 'press',\n",
       " 865: 'paper',\n",
       " 866: 'die',\n",
       " 867: 'txts',\n",
       " 868: 'p',\n",
       " 869: 'wrong',\n",
       " 870: 'case',\n",
       " 871: 'deep',\n",
       " 872: 'rock',\n",
       " 873: 'checking',\n",
       " 874: 'ugh',\n",
       " 875: 'almost',\n",
       " 876: 'rply',\n",
       " 877: 'information',\n",
       " 878: 'ipod',\n",
       " 879: 'freemsg',\n",
       " 880: 'father',\n",
       " 881: 'john',\n",
       " 882: 'ts',\n",
       " 883: 'happened',\n",
       " 884: 'support',\n",
       " 885: 'dnt',\n",
       " 886: 'dream',\n",
       " 887: 'reason',\n",
       " 888: 'prob',\n",
       " 889: 'don',\n",
       " 890: 'ten',\n",
       " 891: 'monday',\n",
       " 892: 'rental',\n",
       " 893: 'hee',\n",
       " 894: 'police',\n",
       " 895: 'film',\n",
       " 896: 'sell',\n",
       " 897: 'fri',\n",
       " 898: 'plans',\n",
       " 899: 'seen',\n",
       " 900: 'frnds',\n",
       " 901: 'sound',\n",
       " 902: '0800',\n",
       " 903: 'figure',\n",
       " 904: 'fr',\n",
       " 905: 'telling',\n",
       " 906: '03',\n",
       " 907: 'asap',\n",
       " 908: 'dogging',\n",
       " 909: 'direct',\n",
       " 910: 'txting',\n",
       " 911: 'ago',\n",
       " 912: 'sex',\n",
       " 913: 'nah',\n",
       " 914: 'moral',\n",
       " 915: 'ge',\n",
       " 916: 'oredi',\n",
       " 917: 'decide',\n",
       " 918: 'oops',\n",
       " 919: 'camcorder',\n",
       " 920: '08000930705',\n",
       " 921: 'move',\n",
       " 922: 'ha',\n",
       " 923: 'al',\n",
       " 924: 'down',\n",
       " 925: 'forwarded',\n",
       " 926: 'immediately',\n",
       " 927: 'info',\n",
       " 928: 'red',\n",
       " 929: 'wana',\n",
       " 930: 'sony',\n",
       " 931: 'sort',\n",
       " 932: 'bathe',\n",
       " 933: 'hmmm',\n",
       " 934: 'lazy',\n",
       " 935: 'otherwise',\n",
       " 936: 'grins',\n",
       " 937: '2nite',\n",
       " 938: \"i'd\",\n",
       " 939: 'mate',\n",
       " 940: 'mayb',\n",
       " 941: 'save',\n",
       " 942: '87066',\n",
       " 943: \"she's\",\n",
       " 944: 'children',\n",
       " 945: 'charity',\n",
       " 946: 'understand',\n",
       " 947: 'forever',\n",
       " 948: 'pretty',\n",
       " 949: 'slow',\n",
       " 950: 'th',\n",
       " 951: 'ntt',\n",
       " 952: 'area',\n",
       " 953: 'bslvyl',\n",
       " 954: 'others',\n",
       " 955: 'different',\n",
       " 956: 'complimentary',\n",
       " 957: 'custcare',\n",
       " 958: 'reward',\n",
       " 959: 'does',\n",
       " 960: 'credit',\n",
       " 961: 'supposed',\n",
       " 962: 'listen',\n",
       " 963: 'nyt',\n",
       " 964: 'summer',\n",
       " 965: 'wine',\n",
       " 966: 'fantastic',\n",
       " 967: 'difficult',\n",
       " 968: 'gas',\n",
       " 969: 'st',\n",
       " 970: 'woke',\n",
       " 971: 'discount',\n",
       " 972: '00',\n",
       " 973: 'sub',\n",
       " 974: 'uncle',\n",
       " 975: 'england',\n",
       " 976: 'clean',\n",
       " 977: 'while',\n",
       " 978: 'couple',\n",
       " 979: 'hiya',\n",
       " 980: 'within',\n",
       " 981: '£10',\n",
       " 982: 'park',\n",
       " 983: 'loved',\n",
       " 984: 'na',\n",
       " 985: 'rakhesh',\n",
       " 986: 'anytime',\n",
       " 987: 'been',\n",
       " 988: 'thinkin',\n",
       " 989: 'bcoz',\n",
       " 990: 'nobody',\n",
       " 991: 'correct',\n",
       " 992: 'wishing',\n",
       " 993: 'mom',\n",
       " 994: 'india',\n",
       " 995: 'entered',\n",
       " 996: 'weed',\n",
       " 997: 'doin',\n",
       " 998: 'ending',\n",
       " 999: 'cancel',\n",
       " 1000: 'met',\n",
       " ...}"
      ]
     },
     "execution_count": 19,
     "metadata": {},
     "output_type": "execute_result"
    }
   ],
   "source": [
    "tokenizer.index_word "
   ]
  },
  {
   "cell_type": "code",
   "execution_count": 20,
   "id": "bf186840-023d-4dd4-ae49-303451f4a363",
   "metadata": {
    "scrolled": true,
    "tags": []
   },
   "outputs": [
    {
     "data": {
      "text/plain": [
       "[[23, 571, 762, 3854, 100, 2552],\n",
       " [80,\n",
       "  368,\n",
       "  3855,\n",
       "  3856,\n",
       "  199,\n",
       "  905,\n",
       "  536,\n",
       "  19,\n",
       "  537,\n",
       "  905,\n",
       "  6,\n",
       "  996,\n",
       "  3857,\n",
       "  87,\n",
       "  537,\n",
       "  82,\n",
       "  3858,\n",
       "  200,\n",
       "  39,\n",
       "  6,\n",
       "  3859],\n",
       " [95, 209, 34, 118],\n",
       " [133,\n",
       "  83,\n",
       "  55,\n",
       "  101,\n",
       "  398,\n",
       "  538,\n",
       "  601,\n",
       "  826,\n",
       "  99,\n",
       "  369,\n",
       "  1097,\n",
       "  906,\n",
       "  67,\n",
       "  387,\n",
       "  484,\n",
       "  370,\n",
       "  5,\n",
       "  3,\n",
       "  3860,\n",
       "  907,\n",
       "  292,\n",
       "  3861,\n",
       "  348],\n",
       " [1654, 35, 40, 1, 349, 308, 349, 350, 4, 275, 74]]"
      ]
     },
     "execution_count": 20,
     "metadata": {},
     "output_type": "execute_result"
    }
   ],
   "source": [
    "train_sequences [0:5]"
   ]
  },
  {
   "cell_type": "code",
   "execution_count": 21,
   "id": "8c052a25-3063-4873-81c5-a47ab346c76f",
   "metadata": {},
   "outputs": [
    {
     "name": "stdout",
     "output_type": "stream",
     "text": [
      "Tenemos 7890 tokens únicos.\n"
     ]
    }
   ],
   "source": [
    "# Creamos un diccionario que contenga las palabras y su índice (el opuesto a index_word)\n",
    "word_index = tokenizer.word_index\n",
    "print('Tenemos %s tokens únicos.' % len(word_index))"
   ]
  },
  {
   "cell_type": "code",
   "execution_count": 22,
   "id": "fe133f28-89eb-4ffb-901c-434d3f886de4",
   "metadata": {},
   "outputs": [],
   "source": [
    "from tensorflow.keras.preprocessing.sequence import pad_sequences\n",
    "\n",
    "# con pad_sequences conseguimos que todas las secuencias de datos tengan la misma longuitud\n",
    "train_data = pad_sequences(train_sequences, maxlen=long_max_sentencia)\n",
    "test_data = pad_sequences(test_sequences, maxlen=long_max_sentencia)"
   ]
  },
  {
   "cell_type": "code",
   "execution_count": 23,
   "id": "279d712b-0316-4437-873d-b6705d4d0536",
   "metadata": {},
   "outputs": [
    {
     "name": "stdout",
     "output_type": "stream",
     "text": [
      "(4457, 300)\n",
      "(1115, 300)\n"
     ]
    }
   ],
   "source": [
    "print(train_data.shape)\n",
    "print(test_data.shape)"
   ]
  },
  {
   "cell_type": "code",
   "execution_count": 24,
   "id": "8e413ab7-515f-4786-b811-1968485ea5bd",
   "metadata": {},
   "outputs": [],
   "source": [
    "train_labels = train['Target']\n",
    "test_labels = test['Target']"
   ]
  },
  {
   "cell_type": "code",
   "execution_count": 25,
   "id": "e6a40a79-402a-4d4c-aa44-55119164df56",
   "metadata": {},
   "outputs": [
    {
     "data": {
      "text/plain": [
       "5218    ham\n",
       "4060    ham\n",
       "1346    ham\n",
       "3454    ham\n",
       "3582    ham\n",
       "Name: Target, dtype: object"
      ]
     },
     "execution_count": 25,
     "metadata": {},
     "output_type": "execute_result"
    }
   ],
   "source": [
    "train_labels.tail()"
   ]
  },
  {
   "cell_type": "code",
   "execution_count": 26,
   "id": "32dd107f",
   "metadata": {},
   "outputs": [
    {
     "data": {
      "text/plain": [
       "(4457,)"
      ]
     },
     "execution_count": 26,
     "metadata": {},
     "output_type": "execute_result"
    }
   ],
   "source": [
    "train_labels.shape"
   ]
  },
  {
   "cell_type": "code",
   "execution_count": 27,
   "id": "5e526e2f-8c83-46b8-96d2-7813fd6e7566",
   "metadata": {},
   "outputs": [],
   "source": [
    "from sklearn.preprocessing import LabelEncoder"
   ]
  },
  {
   "cell_type": "markdown",
   "id": "65adde90-6511-4e82-bfd2-0943bfdd00c9",
   "metadata": {},
   "source": [
    "Convertimos la matriz de caracteres en un matriz numérica.  Asignamos los niveles a etiquetas únicas.  (Similar a OneHot Encoding)"
   ]
  },
  {
   "cell_type": "code",
   "execution_count": 28,
   "id": "b611f7c3-b1dd-4fcb-a5f6-f708faa73263",
   "metadata": {},
   "outputs": [],
   "source": [
    "le = LabelEncoder()\n",
    "le.fit(train_labels)\n",
    "train_labels = le.transform(train_labels)\n",
    "test_labels = le.transform(test_labels)"
   ]
  },
  {
   "cell_type": "code",
   "execution_count": 29,
   "id": "d7f68673-5fec-4602-993d-a45881958e6e",
   "metadata": {},
   "outputs": [
    {
     "name": "stdout",
     "output_type": "stream",
     "text": [
      "['ham' 'spam']\n",
      "(array([0, 1]), array([3843,  614], dtype=int64))\n",
      "(array([0, 1]), array([982, 133], dtype=int64))\n"
     ]
    }
   ],
   "source": [
    "# Vemos el total de elementos de cada clase existentes en los set de datos\n",
    "print(le.classes_)\n",
    "print(np.unique(train_labels, return_counts=True))\n",
    "print(np.unique(test_labels, return_counts=True))"
   ]
  },
  {
   "cell_type": "markdown",
   "id": "507c2847-027f-4559-a77a-d9350c4c9129",
   "metadata": {},
   "source": [
    "Convertimos los vectores train_labels y test_labels en una matriz binaria"
   ]
  },
  {
   "cell_type": "code",
   "execution_count": 30,
   "id": "e2c6c3c7-6d86-496c-8b77-2019fad45ec0",
   "metadata": {},
   "outputs": [
    {
     "name": "stdout",
     "output_type": "stream",
     "text": [
      "Dimensiones del tensor con los datos de entrenamiento: (4457, 300)\n",
      "Dimensiones del tensor con las etiquetas de entrenamiento: (4457, 2)\n",
      "Dimensiones del tensor con los datos de test: (1115, 300)\n",
      "Dimensiones del tensor con las etiquetas de test: (1115, 2)\n"
     ]
    }
   ],
   "source": [
    "from tensorflow.keras.utils import to_categorical\n",
    "\n",
    "labels_train = to_categorical(np.asarray(train_labels))\n",
    "labels_test = to_categorical(np.asarray(test_labels))\n",
    "print('Dimensiones del tensor con los datos de entrenamiento:', train_data.shape)\n",
    "print('Dimensiones del tensor con las etiquetas de entrenamiento:', labels_train.shape)\n",
    "print('Dimensiones del tensor con los datos de test:', test_data.shape)\n",
    "print('Dimensiones del tensor con las etiquetas de test:', labels_test.shape)"
   ]
  },
  {
   "cell_type": "code",
   "execution_count": 31,
   "id": "8e8fe210-b33c-42d7-973c-bb40a7e8d31c",
   "metadata": {},
   "outputs": [
    {
     "data": {
      "text/plain": [
       "array([[   0,    0,    0, ..., 3854,  100, 2552],\n",
       "       [   0,    0,    0, ...,   39,    6, 3859],\n",
       "       [   0,    0,    0, ...,  209,   34,  118],\n",
       "       ...,\n",
       "       [   0,    0,    0, ...,  827,    4,   19],\n",
       "       [   0,    0,    0, ..., 1655,   17,   15],\n",
       "       [   0,    0,    0, ..., 2553,  416, 1996]])"
      ]
     },
     "execution_count": 31,
     "metadata": {},
     "output_type": "execute_result"
    }
   ],
   "source": [
    "train_data[0:10]"
   ]
  },
  {
   "cell_type": "code",
   "execution_count": 32,
   "id": "7fc979ab-7852-4e1c-b3d8-80c5241b5ad8",
   "metadata": {},
   "outputs": [
    {
     "data": {
      "text/plain": [
       "array([[1., 0.],\n",
       "       [1., 0.],\n",
       "       [1., 0.],\n",
       "       ...,\n",
       "       [1., 0.],\n",
       "       [1., 0.],\n",
       "       [1., 0.]], dtype=float32)"
      ]
     },
     "execution_count": 32,
     "metadata": {},
     "output_type": "execute_result"
    }
   ],
   "source": [
    "labels_train"
   ]
  },
  {
   "cell_type": "code",
   "execution_count": 33,
   "id": "e4836523-879d-41de-adb1-8ceafcf79a48",
   "metadata": {},
   "outputs": [
    {
     "data": {
      "text/plain": [
       "array([[   0,    0,    0, ...,   22,   20, 4380],\n",
       "       [   0,    0,    0, ..., 1287, 2824,  208],\n",
       "       [   0,    0,    0, ...,    1,   65,    2],\n",
       "       ...,\n",
       "       [   0,    0,    0, ...,  294,  312,  105],\n",
       "       [   0,    0,    0, ...,  274,   12,   11],\n",
       "       [   0,    0,    0, ...,   12,   11,    4]])"
      ]
     },
     "execution_count": 33,
     "metadata": {},
     "output_type": "execute_result"
    }
   ],
   "source": [
    "test_data[0:10]"
   ]
  },
  {
   "cell_type": "code",
   "execution_count": 34,
   "id": "37e1b192-73c2-48cf-ab10-ea8234395a05",
   "metadata": {},
   "outputs": [
    {
     "data": {
      "text/plain": [
       "array([[1., 0.],\n",
       "       [0., 1.],\n",
       "       [1., 0.],\n",
       "       ...,\n",
       "       [1., 0.],\n",
       "       [1., 0.],\n",
       "       [1., 0.]], dtype=float32)"
      ]
     },
     "execution_count": 34,
     "metadata": {},
     "output_type": "execute_result"
    }
   ],
   "source": [
    "labels_test"
   ]
  },
  {
   "cell_type": "markdown",
   "id": "836157d5-2438-4623-a746-a11c5d25a11c",
   "metadata": {},
   "source": [
    "Podemos entrenar un modelo en Keras para que acepte texto codificado como lo hemos hecho, a través de una capa **Embedding** (incrustación).\n",
    "Se trata de una capa flexible que puede utilizarse de diversas maneras:\n",
    "\n",
    "* Se puede utilizar sola para aprender una incrustación de palabras que se puede guardar y utilizar en otro modelo más adelante.\n",
    "* Puede utilizarse como parte de un modelo de aprendizaje profundo en el que la incrustación se aprende junto con el propio modelo.\n",
    "* Puede utilizarse para cargar un modelo de incrustación de palabras preentrenado, un tipo de aprendizaje por transferencia.\n",
    "\n",
    "La capa de incrustación se define como la primera capa oculta de una red. Debe especificar 3 argumentos:\n",
    "\n",
    "* **input_dim**: Es el tamaño del vocabulario en los datos de texto. Por ejemplo, si los datos están codificados en números enteros con valores entre 0 y 10, el tamaño del vocabulario sería de 11 palabras.\n",
    "* **output_dim**: Es el tamaño del espacio vectorial en el que se incrustarán las palabras. Define el tamaño de los vectores de salida de esta capa para cada palabra. Por ejemplo, puede ser 32 o 100 o incluso más grande. Aquí tenemos que probar diferentes valores para resolver el problema.\n",
    "* **input_length**: Esta es la longitud de las secuencias de entrada. Por ejemplo, si todos los documentos de entrada están compuestos por 1000 palabras, ésto sería 1000."
   ]
  },
  {
   "cell_type": "code",
   "execution_count": 35,
   "id": "1c3e45f9-94f5-4caa-aad4-19d9c3c2850d",
   "metadata": {},
   "outputs": [
    {
     "name": "stdout",
     "output_type": "stream",
     "text": [
      "300\n"
     ]
    }
   ],
   "source": [
    "tamanio_incrustacion = 100\n",
    "print(long_max_sentencia)"
   ]
  },
  {
   "cell_type": "markdown",
   "id": "ae470293-1528-4cdb-95c6-2ea6f38ceb77",
   "metadata": {
    "tags": []
   },
   "source": [
    "# Modelado y predicción"
   ]
  },
  {
   "cell_type": "markdown",
   "id": "a6954021-0cc1-4ea1-836f-e9d4e43c3340",
   "metadata": {},
   "source": [
    "## Clasificador con una Red Neuronal Convolucional"
   ]
  },
  {
   "cell_type": "code",
   "execution_count": 37,
   "id": "11e1cfe6-9ae0-41c5-80e5-e4edcc9bf9bb",
   "metadata": {},
   "outputs": [],
   "source": [
    "import sys, os, re, csv, codecs\n",
    "from keras.preprocessing.text import Tokenizer\n",
    "from keras.preprocessing.sequence import pad_sequences\n",
    "from keras.layers import Dense, Input, LSTM, Embedding, Dropout, Activation\n",
    "from keras.layers import Bidirectional, GlobalMaxPool1D, Conv1D, SimpleRNN\n",
    "from keras.models import Model\n",
    "from keras.models import Sequential\n",
    "from keras import initializers, regularizers, constraints, optimizers, layers\n",
    "from keras.layers import Flatten, Dropout, BatchNormalization\n",
    "from keras.layers import MaxPooling1D, Embedding"
   ]
  },
  {
   "cell_type": "code",
   "execution_count": 38,
   "id": "13b4ed05",
   "metadata": {},
   "outputs": [],
   "source": [
    "# Generamos la semilla\n",
    "import random\n",
    "from numpy.random import seed\n",
    "import tensorflow as tf\n",
    "tf.random.set_seed(123)\n",
    "np.random.seed(123)\n",
    "random.seed(123)\n",
    "seed(123)"
   ]
  },
  {
   "cell_type": "markdown",
   "id": "f754cd84",
   "metadata": {},
   "source": [
    "RMSprop es útil cuando se requiere entrenar una red neuronal profunda con muchos parámetros. En comparación con otros algoritmos de optimización como el Descenso de Gradiente Estocástico (SGD), RMSprop adapta la tasa de aprendizaje para cada parámetro de forma individual. De esta manera, los parámetros que reciben gradientes más grandes tendrán una tasa de aprendizaje más pequeña, lo que ayuda a evitar la divergencia y a mejorar la convergencia del modelo.\n",
    "\n",
    "Además, RMSprop es eficaz para resolver el problema de desvanecimiento (desaparición) de gradiente, que es común en redes neuronales profundas con muchas capas. RMSprop adapta la tasa de aprendizaje para cada parámetro en función de la magnitud del gradiente reciente, lo que significa que los parámetros que reciben gradientes pequeños tendrán una tasa de aprendizaje mayor. Esto ayuda a evitar que la tasa de aprendizaje sea demasiado pequeña en capas profundas, lo que puede provocar el problema de desaparición de gradiente.\n",
    "\n",
    "En resumen, se recomienda utilizar RMSprop cuando se trabaja con datos con gradientes de gran magnitud o cuando se quiere acelerar el proceso de entrenamiento de redes neuronales profundas con muchas capas. Sin embargo, es importante experimentar con diferentes algoritmos de optimización y ajustar los parámetros para encontrar el mejor modelo para su problema específico."
   ]
  },
  {
   "cell_type": "code",
   "execution_count": 39,
   "id": "4e5fd647-b9e6-40e6-9dbc-fcb75d77cf91",
   "metadata": {
    "scrolled": true,
    "tags": []
   },
   "outputs": [],
   "source": [
    "model = Sequential()\n",
    "model.add(Embedding(num_palabras, tamanio_incrustacion, input_length=long_max_sentencia))\n",
    "model.add(BatchNormalization()) # estandarizamos los datos\n",
    "model.add(Dropout(0.5))\n",
    "model.add(Conv1D(128, 5, activation='relu'))\n",
    "model.add(MaxPooling1D(5))  # Permite reducir el tamaño el tamaño del tensor en 5.  \n",
    "                            # Si el tensor tiene 100 elementos, devolvería un tensor de 20 elementos\n",
    "model.add(Dropout(0.5))\n",
    "model.add(Conv1D(128, 5, activation='relu'))\n",
    "model.add(MaxPooling1D(5))\n",
    "model.add(Dropout(0.5))\n",
    "model.add(Flatten())\n",
    "model.add(Dense(128, activation='relu'))\n",
    "model.add(Dense(2, activation='softmax'))\n",
    "model.compile(loss='categorical_crossentropy', optimizer='rmsprop', metrics=['acc'])"
   ]
  },
  {
   "cell_type": "code",
   "execution_count": 40,
   "id": "da8a57f1-e7cf-4dd2-a507-27eb3a6cec30",
   "metadata": {},
   "outputs": [
    {
     "name": "stdout",
     "output_type": "stream",
     "text": [
      "Epoch 1/5\n",
      "70/70 [==============================] - 12s 131ms/step - loss: 0.3635 - acc: 0.8562 - val_loss: 0.4826 - val_acc: 0.8807\n",
      "Epoch 2/5\n",
      "70/70 [==============================] - 8s 120ms/step - loss: 0.2279 - acc: 0.9089 - val_loss: 0.4284 - val_acc: 0.8951\n",
      "Epoch 3/5\n",
      "70/70 [==============================] - 9s 123ms/step - loss: 0.1023 - acc: 0.9690 - val_loss: 0.3238 - val_acc: 0.9507\n",
      "Epoch 4/5\n",
      "70/70 [==============================] - 9s 124ms/step - loss: 0.0627 - acc: 0.9816 - val_loss: 0.2088 - val_acc: 0.9516\n",
      "Epoch 5/5\n",
      "70/70 [==============================] - 9s 128ms/step - loss: 0.0485 - acc: 0.9863 - val_loss: 0.1904 - val_acc: 0.9256\n"
     ]
    },
    {
     "data": {
      "text/plain": [
       "<keras.src.callbacks.History at 0x1f54d9d7b50>"
      ]
     },
     "execution_count": 40,
     "metadata": {},
     "output_type": "execute_result"
    }
   ],
   "source": [
    "from keras.callbacks import TensorBoard\n",
    "\n",
    "\n",
    "tf.random.set_seed(123)\n",
    "np.random.seed(123)\n",
    "random.seed(123)\n",
    "seed(123)\n",
    "\n",
    "# para gpu\n",
    "#tensorboard_cb = TensorBoard(os.getcwd())\n",
    "model.fit(train_data, \n",
    "          labels_train,\n",
    "          batch_size=64,\n",
    "          epochs=5,\n",
    "          validation_data=(test_data, labels_test),\n",
    "          # para gpu\n",
    "          #callbacks=[tensorboard_cb]\n",
    "          )"
   ]
  },
  {
   "cell_type": "code",
   "execution_count": 41,
   "id": "1be8f507-0fde-455c-9808-1cbecf9182f2",
   "metadata": {},
   "outputs": [
    {
     "name": "stdout",
     "output_type": "stream",
     "text": [
      "35/35 [==============================] - 1s 19ms/step\n"
     ]
    },
    {
     "data": {
      "text/plain": [
       "array([[0.9821383 , 0.01786171],\n",
       "       [0.22446549, 0.7755345 ],\n",
       "       [0.98881835, 0.01118163],\n",
       "       ...,\n",
       "       [0.9884101 , 0.01158986],\n",
       "       [0.9838643 , 0.01613572],\n",
       "       [0.9822927 , 0.01770725]], dtype=float32)"
      ]
     },
     "execution_count": 41,
     "metadata": {},
     "output_type": "execute_result"
    }
   ],
   "source": [
    "prediccion1=model.predict(test_data)\n",
    "prediccion1"
   ]
  },
  {
   "cell_type": "markdown",
   "id": "23c45fd3-7fb1-4737-bb92-0e0d6ea38fb9",
   "metadata": {},
   "source": [
    "### Evaluamos..."
   ]
  },
  {
   "cell_type": "code",
   "execution_count": 42,
   "id": "852c54c2-cf41-4448-8eb6-f5be9c21d6a3",
   "metadata": {},
   "outputs": [
    {
     "name": "stdout",
     "output_type": "stream",
     "text": [
      "precision: [0.92206573 1.        ]\n",
      "recall: [1.         0.37593985]\n",
      "fscore: [0.95945286 0.54644809]\n",
      "support: [982 133]\n",
      "############################\n",
      "              precision    recall  f1-score   support\n",
      "\n",
      "           0       0.92      1.00      0.96       982\n",
      "           1       1.00      0.38      0.55       133\n",
      "\n",
      "   micro avg       0.93      0.93      0.93      1115\n",
      "   macro avg       0.96      0.69      0.75      1115\n",
      "weighted avg       0.93      0.93      0.91      1115\n",
      " samples avg       0.93      0.93      0.93      1115\n",
      "\n"
     ]
    }
   ],
   "source": [
    "import sklearn\n",
    "from sklearn.metrics import precision_recall_fscore_support as score \n",
    "precision, recall, fscore, support = score(labels_test, prediccion1.round())\n",
    "print('precision: {}'.format(precision))\n",
    "print('recall: {}'.format(recall))\n",
    "print('fscore: {}'.format(fscore))\n",
    "print('support: {}'.format(support))\n",
    "print(\"############################\")\n",
    "print(sklearn.metrics.classification_report(labels_test,prediccion1.round()))"
   ]
  },
  {
   "cell_type": "markdown",
   "id": "2f4c990b-0fdb-414a-b512-0eab1a7b13a4",
   "metadata": {},
   "source": [
    "## Clasificador con una Red Neuronal Recurrente"
   ]
  },
  {
   "cell_type": "code",
   "execution_count": 43,
   "id": "ad8bd858-6324-4d95-84fc-3cbfe9b473df",
   "metadata": {
    "tags": []
   },
   "outputs": [],
   "source": [
    "#from keras.layers.recurrent import SimpleRNN\n",
    "from tensorflow.keras.layers import SimpleRNN"
   ]
  },
  {
   "cell_type": "markdown",
   "id": "c4b4cced",
   "metadata": {},
   "source": [
    "Añadimos una capa SimpleRNN con dos unidades (neuronas) y una entrada de forma (None, 1), lo que significa que puede recibir una secuencia de entrada de longitud variable (marcada como None) con una dimensión de 1.\n",
    "\n",
    "En otras palabras, si se está trabajando con datos secuenciales, texto en este caso, cada muestra puede tener una longitud variable, y la dimensión de la característica de cada muestra es 1.\n",
    "\n",
    "La capa SimpleRNN realiza una operación de retroalimentación de estado, lo que significa que el estado de la capa en el paso de tiempo anterior se retroalimenta como entrada en el siguiente paso de tiempo (la letra anterior retroalimenta la siguiente). Esto permite que la capa capture patrones de largo alcance en los datos secuenciales.\n",
    "\n",
    "Al agregar una capa SimpleRNN al modelo secuencial, se está agregando una capa de procesamiento adicional que puede ayudar a mejorar el rendimiento del modelo al capturar patrones de largo alcance en los datos secuenciales."
   ]
  },
  {
   "cell_type": "code",
   "execution_count": 44,
   "id": "26b1aa84",
   "metadata": {},
   "outputs": [],
   "source": [
    "tf.random.set_seed(123)\n",
    "np.random.seed(123)\n",
    "random.seed(123)\n",
    "seed(123)"
   ]
  },
  {
   "cell_type": "code",
   "execution_count": 45,
   "id": "a55d6f21-762d-468c-b823-3b0914ca0259",
   "metadata": {},
   "outputs": [],
   "source": [
    "model = Sequential()\n",
    "model.add(Embedding(num_palabras, tamanio_incrustacion, input_length=long_max_sentencia))\n",
    "model.add(SimpleRNN(2, input_shape=(None,1)))  \n",
    "model.add(Dense(2,activation='softmax'))\n",
    "model.compile(loss = 'binary_crossentropy', optimizer='adam',metrics = ['accuracy'])"
   ]
  },
  {
   "cell_type": "code",
   "execution_count": 48,
   "id": "db0dcd2a-370d-4724-b609-07965a1e659a",
   "metadata": {},
   "outputs": [
    {
     "name": "stdout",
     "output_type": "stream",
     "text": [
      "Epoch 1/5\n",
      "279/279 [==============================] - 27s 95ms/step - loss: 0.3049 - accuracy: 0.9574 - val_loss: 0.3067 - val_accuracy: 0.9318\n",
      "Epoch 2/5\n",
      "279/279 [==============================] - 26s 93ms/step - loss: 0.1824 - accuracy: 0.9809 - val_loss: 0.2582 - val_accuracy: 0.9318\n",
      "Epoch 3/5\n",
      "279/279 [==============================] - 26s 92ms/step - loss: 0.1180 - accuracy: 0.9904 - val_loss: 0.2423 - val_accuracy: 0.9309\n",
      "Epoch 4/5\n",
      "279/279 [==============================] - 26s 93ms/step - loss: 0.0820 - accuracy: 0.9946 - val_loss: 0.2242 - val_accuracy: 0.9291\n",
      "Epoch 5/5\n",
      "279/279 [==============================] - 25s 89ms/step - loss: 0.0597 - accuracy: 0.9966 - val_loss: 0.2215 - val_accuracy: 0.9211\n"
     ]
    },
    {
     "data": {
      "text/plain": [
       "<keras.src.callbacks.History at 0x1f54fad83d0>"
      ]
     },
     "execution_count": 48,
     "metadata": {},
     "output_type": "execute_result"
    }
   ],
   "source": [
    "# para gpu\n",
    "tensorboard_cb = TensorBoard()\n",
    "\n",
    "model.fit(train_data, \n",
    "          labels_train,\n",
    "          batch_size=16,\n",
    "          epochs=5,\n",
    "          validation_data=(test_data, labels_test),\n",
    "          # para gpu\n",
    "          )"
   ]
  },
  {
   "cell_type": "code",
   "execution_count": 49,
   "id": "f31b3f14-38be-402e-9b6d-5dbfe4efe93a",
   "metadata": {},
   "outputs": [
    {
     "name": "stdout",
     "output_type": "stream",
     "text": [
      "35/35 [==============================] - 1s 22ms/step\n"
     ]
    },
    {
     "data": {
      "text/plain": [
       "array([[0.9850965 , 0.01490351],\n",
       "       [0.00696295, 0.99303705],\n",
       "       [0.9985846 , 0.00141537],\n",
       "       ...,\n",
       "       [0.91971284, 0.08028712],\n",
       "       [0.9987777 , 0.00122227],\n",
       "       [0.99786645, 0.00213355]], dtype=float32)"
      ]
     },
     "execution_count": 49,
     "metadata": {},
     "output_type": "execute_result"
    }
   ],
   "source": [
    "prediccion_Srnn=model.predict(test_data)\n",
    "prediccion_Srnn"
   ]
  },
  {
   "cell_type": "markdown",
   "id": "47ca18e9-d239-4c57-8f1d-87f95c2799f5",
   "metadata": {},
   "source": [
    "### Evaluamos..."
   ]
  },
  {
   "cell_type": "code",
   "execution_count": 50,
   "id": "5ab6cd13-850c-4a42-ac46-46d2914e1e26",
   "metadata": {},
   "outputs": [],
   "source": [
    "precision, recall, fscore, support = score(labels_test, prediccion_Srnn.round())"
   ]
  },
  {
   "cell_type": "code",
   "execution_count": 51,
   "id": "ad7209dc-2d7a-4532-acaa-db7ca0ac47a4",
   "metadata": {},
   "outputs": [
    {
     "name": "stdout",
     "output_type": "stream",
     "text": [
      "precision: [0.94610778 0.69911504]\n",
      "recall: [0.96537678 0.59398496]\n",
      "fscore: [0.95564516 0.64227642]\n",
      "support: [982 133]\n",
      "############################\n",
      "              precision    recall  f1-score   support\n",
      "\n",
      "           0       0.95      0.97      0.96       982\n",
      "           1       0.70      0.59      0.64       133\n",
      "\n",
      "   micro avg       0.92      0.92      0.92      1115\n",
      "   macro avg       0.82      0.78      0.80      1115\n",
      "weighted avg       0.92      0.92      0.92      1115\n",
      " samples avg       0.92      0.92      0.92      1115\n",
      "\n"
     ]
    }
   ],
   "source": [
    "print('precision: {}'.format(precision))\n",
    "print('recall: {}'.format(recall))\n",
    "print('fscore: {}'.format(fscore))\n",
    "print('support: {}'.format(support))\n",
    "print(\"############################\")\n",
    "print(sklearn.metrics.classification_report(labels_test, prediccion_Srnn.round()))"
   ]
  },
  {
   "cell_type": "markdown",
   "id": "584b5f55-982d-41ed-8bfa-b111873701d3",
   "metadata": {},
   "source": [
    "## Clasificador con una Red Neuronal LSTM (LongShort-Term Memory)"
   ]
  },
  {
   "cell_type": "markdown",
   "id": "c960225b-4a93-420f-b4a4-e57a160ff66c",
   "metadata": {},
   "source": [
    "Las LSTM son un tipo especial de redes recurrentes. La característica principal de las redes recurrentes es que la información puede persistir introduciendo bucles en el diagrama de la red, por lo que, básicamente, pueden «recordar» estados previos y utilizar esta información para decidir cuál será el siguiente. Esta característica las hace muy adecuadas para manejar series cronológicas. Mientras las redes recurrentes estándar pueden modelar dependencias a corto plazo (es decir, relaciones cercanas en la serie cronológica), las LSTM pueden aprender dependencias largas, por lo que se podría decir que tienen una «memoria» a más largo plazo."
   ]
  },
  {
   "cell_type": "markdown",
   "id": "3ae06e0e-31d7-4eff-a089-f08aa1ade505",
   "metadata": {},
   "source": [
    "En el campo del internet de las cosas (IoT), el mantenimiento predictivo es otro ámbito en el que los datos de serie cronológica son muy importantes. Entre otros temas, el mantenimiento predictivo incluye la gestión de averías: predicción, clasificación y diagnóstico. Una rutina de mantenimiento predictivo para un dispositivo o conjunto de dispositivos determinados (ordenadores, generadores eléctricos, máquinas de fabricación, etc.) registra una serie de lecturas de datos a lo largo del tiempo y utiliza estos datos para hallar patrones que sirvan para predecir averías o comportamientos anómalos. Esta predicción se puede utilizar para activar medidas correctivas y así evitar efectos indeseados en el sistema."
   ]
  },
  {
   "cell_type": "code",
   "execution_count": 52,
   "id": "ee8f8f15",
   "metadata": {},
   "outputs": [],
   "source": [
    "tf.random.set_seed(123)\n",
    "np.random.seed(123)\n",
    "random.seed(123)\n",
    "seed(123)"
   ]
  },
  {
   "cell_type": "code",
   "execution_count": 54,
   "id": "c162181a-32e1-4cc7-902d-6d4c81cbac56",
   "metadata": {
    "scrolled": true,
    "tags": []
   },
   "outputs": [
    {
     "name": "stdout",
     "output_type": "stream",
     "text": [
      "Epoch 1/5\n",
      "279/279 [==============================] - 136s 184ms/step - loss: 0.1306 - accuracy: 0.9554 - val_loss: 0.3362 - val_accuracy: 0.9874\n",
      "Epoch 2/5\n",
      "279/279 [==============================] - 32s 115ms/step - loss: 0.0144 - accuracy: 0.9962 - val_loss: 0.0455 - val_accuracy: 0.9865\n",
      "Epoch 3/5\n",
      "279/279 [==============================] - 31s 110ms/step - loss: 0.0030 - accuracy: 0.9989 - val_loss: 0.0420 - val_accuracy: 0.9892\n",
      "Epoch 4/5\n",
      "279/279 [==============================] - 31s 113ms/step - loss: 0.0012 - accuracy: 0.9998 - val_loss: 0.0494 - val_accuracy: 0.9848\n",
      "Epoch 5/5\n",
      "279/279 [==============================] - 31s 110ms/step - loss: 3.6943e-04 - accuracy: 1.0000 - val_loss: 0.0688 - val_accuracy: 0.9883\n"
     ]
    },
    {
     "data": {
      "text/plain": [
       "<keras.src.callbacks.History at 0x1f54fcfd900>"
      ]
     },
     "execution_count": 54,
     "metadata": {},
     "output_type": "execute_result"
    }
   ],
   "source": [
    "model = Sequential()\n",
    "model.add(Embedding(num_palabras, tamanio_incrustacion, input_length=long_max_sentencia))\n",
    "# para usar con cpu\n",
    "# model.add(LSTM(16, activation='relu', return_sequences=True))\n",
    "# para usar con gpu\n",
    "\n",
    "# La capa LSTM tiene 16 unidades (neuronas) y utiliza la función de activación tanh. \n",
    "# Además, la capa está configurada con unroll=True, lo que significa que se desenrolla en \n",
    "# tiempo de ejecución para acelerar el proceso de entrenamiento. \n",
    "# También se establece return_sequences=True, lo que significa que la capa LSTM \n",
    "# devuelve una secuencia de salida completa en lugar de solo la última salida.\n",
    "model.add(LSTM(16, activation='tanh', unroll=True, return_sequences=True))\n",
    "model.add(Dropout(0.2))\n",
    "model.add(BatchNormalization())\n",
    "model.add(Flatten())\n",
    "model.add(Dense(2,activation='softmax'))\n",
    "model.compile(loss = 'binary_crossentropy', optimizer='adam',metrics = ['accuracy'])\n",
    "\n",
    "\n",
    "\n",
    "model.fit(train_data, \n",
    "          labels_train,\n",
    "          batch_size=16,\n",
    "          epochs=5,\n",
    "          validation_data=(test_data, labels_test),\n",
    "          )"
   ]
  },
  {
   "cell_type": "code",
   "execution_count": 55,
   "id": "acbacd93-3c22-4ec8-a7a2-65854affc804",
   "metadata": {},
   "outputs": [
    {
     "name": "stdout",
     "output_type": "stream",
     "text": [
      "35/35 [==============================] - 12s 51ms/step\n"
     ]
    },
    {
     "data": {
      "text/plain": [
       "array([[1.0000000e+00, 1.2522966e-08],\n",
       "       [1.4024110e-13, 1.0000000e+00],\n",
       "       [1.0000000e+00, 2.0228053e-18],\n",
       "       ...,\n",
       "       [1.0000000e+00, 4.1739463e-18],\n",
       "       [1.0000000e+00, 5.3093402e-12],\n",
       "       [9.9999988e-01, 9.2243184e-08]], dtype=float32)"
      ]
     },
     "execution_count": 55,
     "metadata": {},
     "output_type": "execute_result"
    }
   ],
   "source": [
    "prediccion_lstm=model.predict(test_data)\n",
    "prediccion_lstm"
   ]
  },
  {
   "cell_type": "markdown",
   "id": "076bb994-1ac9-4d85-9ce0-9d651c4ab1fb",
   "metadata": {},
   "source": [
    "### Evaluamos..."
   ]
  },
  {
   "cell_type": "code",
   "execution_count": 56,
   "id": "6d06b9f4-1dae-46c5-b23e-bd005b8ea334",
   "metadata": {
    "tags": []
   },
   "outputs": [
    {
     "name": "stdout",
     "output_type": "stream",
     "text": [
      "precision: [0.98693467 1.        ]\n",
      "recall: [1.         0.90225564]\n",
      "fscore: [0.99342438 0.9486166 ]\n",
      "support: [982 133]\n",
      "############################\n",
      "              precision    recall  f1-score   support\n",
      "\n",
      "           0       0.99      1.00      0.99       982\n",
      "           1       1.00      0.90      0.95       133\n",
      "\n",
      "   micro avg       0.99      0.99      0.99      1115\n",
      "   macro avg       0.99      0.95      0.97      1115\n",
      "weighted avg       0.99      0.99      0.99      1115\n",
      " samples avg       0.99      0.99      0.99      1115\n",
      "\n"
     ]
    }
   ],
   "source": [
    "precision, recall, fscore, support = score(labels_test, prediccion_lstm.round())\n",
    "print('precision: {}'.format(precision))\n",
    "print('recall: {}'.format(recall))\n",
    "print('fscore: {}'.format(fscore))\n",
    "print('support: {}'.format(support))\n",
    "print(\"############################\")\n",
    "print(sklearn.metrics.classification_report(labels_test, prediccion_lstm.round()))"
   ]
  },
  {
   "cell_type": "markdown",
   "id": "03795275-6e2b-4cee-b9f0-ce41aa2211e1",
   "metadata": {},
   "source": [
    "## Clasificación con Red Neuronal Bidireccional LSTM"
   ]
  },
  {
   "cell_type": "markdown",
   "id": "256e10d4-e52e-43b9-bbe4-70baaceab282",
   "metadata": {},
   "source": [
    "En las LSTM bidireccionales, las entradas se alimentan de dos maneras: una\n",
    "anterior al futuro y la otra va hacia atrás del futuro al\n",
    "pasado, lo que ayuda a aprender también la representación del futuro. Bidireccional\n",
    "Los LSTMs bidireccionales son conocidos por producir muy buenos resultados ya que son capaces de\n",
    "comprender mejor el contexto."
   ]
  },
  {
   "cell_type": "markdown",
   "id": "10652709-6675-4aeb-8450-b82b78abbb75",
   "metadata": {},
   "source": [
    "Este tipo de redes, permiten correlacionar no sólo los datos pasados, sino también los futuros."
   ]
  },
  {
   "attachments": {
    "a77be5a9-25a3-49b5-811a-a6904d9e8871.jpeg": {
     "image/jpeg": "[encoded data removed]"
    }
   },
   "cell_type": "markdown",
   "id": "1fda1748-22f6-4370-b875-c5e120f9f1cf",
   "metadata": {},
   "source": [
    "![lstm bidireccional.jpeg](attachment:a77be5a9-25a3-49b5-811a-a6904d9e8871.jpeg)"
   ]
  },
  {
   "cell_type": "code",
   "execution_count": 57,
   "id": "12bea322",
   "metadata": {},
   "outputs": [],
   "source": [
    "tf.random.set_seed(123)\n",
    "np.random.seed(123)\n",
    "random.seed(123)\n",
    "seed(123)"
   ]
  },
  {
   "cell_type": "code",
   "execution_count": 60,
   "id": "da7e036c-4c9a-447d-b755-4196390afcd7",
   "metadata": {},
   "outputs": [
    {
     "name": "stdout",
     "output_type": "stream",
     "text": [
      "Epoch 1/3\n",
      "279/279 [==============================] - 62s 197ms/step - loss: 0.1637 - accuracy: 0.9414 - val_loss: 0.0333 - val_accuracy: 0.9892\n",
      "Epoch 2/3\n",
      "279/279 [==============================] - 53s 191ms/step - loss: 0.0169 - accuracy: 0.9953 - val_loss: 0.0441 - val_accuracy: 0.9883\n",
      "Epoch 3/3\n",
      "279/279 [==============================] - 53s 190ms/step - loss: 0.0045 - accuracy: 0.9984 - val_loss: 0.0464 - val_accuracy: 0.9865\n"
     ]
    },
    {
     "data": {
      "text/plain": [
       "<keras.src.callbacks.History at 0x1f50218faf0>"
      ]
     },
     "execution_count": 60,
     "metadata": {},
     "output_type": "execute_result"
    }
   ],
   "source": [
    "model = Sequential()\n",
    "model.add(Embedding(num_palabras,tamanio_incrustacion,input_length=long_max_sentencia))\n",
    "\n",
    "# para gpu\n",
    "# model.add(Bidirectional(LSTM(16, return_sequences=True, dropout=0.1, recurrent_dropout=0.1)))\n",
    "\n",
    "# para cpu\n",
    "model.add(Bidirectional(LSTM(16, return_sequences=True, dropout=0.1, recurrent_dropout=0)))\n",
    "model.add(Conv1D(16, kernel_size = 3, padding = \"valid\", kernel_initializer = \"glorot_uniform\"))\n",
    "model.add(GlobalMaxPool1D())\n",
    "model.add(Dense(50, activation=\"relu\"))\n",
    "model.add(Dropout(0.1))\n",
    "model.add(Dense(2,activation='softmax'))\n",
    "model.compile(loss = 'binary_crossentropy', optimizer='adam',metrics = ['accuracy'])\n",
    "\n",
    "\n",
    "\n",
    "model.fit(train_data, \n",
    "          labels_train,\n",
    "          batch_size=16,\n",
    "          epochs=3,\n",
    "          validation_data=(test_data, labels_test),\n",
    "          )"
   ]
  },
  {
   "cell_type": "code",
   "execution_count": 61,
   "id": "96a60998-b323-45c1-8a88-f352048ad557",
   "metadata": {},
   "outputs": [
    {
     "name": "stdout",
     "output_type": "stream",
     "text": [
      "35/35 [==============================] - 4s 49ms/step\n"
     ]
    },
    {
     "data": {
      "text/plain": [
       "array([[1.0000000e+00, 3.2089456e-09],\n",
       "       [2.6062939e-12, 1.0000000e+00],\n",
       "       [1.0000000e+00, 1.0427791e-11],\n",
       "       ...,\n",
       "       [1.0000000e+00, 2.6443825e-10],\n",
       "       [1.0000000e+00, 4.3780850e-09],\n",
       "       [1.0000000e+00, 3.1073661e-08]], dtype=float32)"
      ]
     },
     "execution_count": 61,
     "metadata": {},
     "output_type": "execute_result"
    }
   ],
   "source": [
    "prediccion_blstm=model.predict(test_data)\n",
    "prediccion_blstm"
   ]
  },
  {
   "cell_type": "code",
   "execution_count": 62,
   "id": "4d004b3a-5aea-488d-99bb-f416a08273d7",
   "metadata": {},
   "outputs": [
    {
     "name": "stdout",
     "output_type": "stream",
     "text": [
      "precision: [0.98592965 0.99166667]\n",
      "recall: [0.99898167 0.89473684]\n",
      "fscore: [0.99241275 0.94071146]\n",
      "support: [982 133]\n",
      "############################\n",
      "              precision    recall  f1-score   support\n",
      "\n",
      "           0       0.99      1.00      0.99       982\n",
      "           1       0.99      0.89      0.94       133\n",
      "\n",
      "   micro avg       0.99      0.99      0.99      1115\n",
      "   macro avg       0.99      0.95      0.97      1115\n",
      "weighted avg       0.99      0.99      0.99      1115\n",
      " samples avg       0.99      0.99      0.99      1115\n",
      "\n"
     ]
    }
   ],
   "source": [
    "precision, recall, fscore, support = score(labels_test, prediccion_blstm.round())\n",
    "print('precision: {}'.format(precision))\n",
    "print('recall: {}'.format(recall))\n",
    "print('fscore: {}'.format(fscore))\n",
    "print('support: {}'.format(support))\n",
    "print(\"############################\")\n",
    "print(sklearn.metrics.classification_report(labels_test, prediccion_blstm.round()))"
   ]
  },
  {
   "cell_type": "code",
   "execution_count": null,
   "id": "da57a58c",
   "metadata": {},
   "outputs": [],
   "source": []
  }
 ],
 "metadata": {
  "kernelspec": {
   "display_name": "Python 3 (ipykernel)",
   "language": "python",
   "name": "python3"
  },
  "language_info": {
   "codemirror_mode": {
    "name": "ipython",
    "version": 3
   },
   "file_extension": ".py",
   "mimetype": "text/x-python",
   "name": "python",
   "nbconvert_exporter": "python",
   "pygments_lexer": "ipython3",
   "version": "3.10.9"
  },
  "varInspector": {
   "cols": {
    "lenName": 16,
    "lenType": 16,
    "lenVar": 40
   },
   "kernels_config": {
    "python": {
     "delete_cmd_postfix": "",
     "delete_cmd_prefix": "del ",
     "library": "var_list.py",
     "varRefreshCmd": "print(var_dic_list())"
    },
    "r": {
     "delete_cmd_postfix": ") ",
     "delete_cmd_prefix": "rm(",
     "library": "var_list.r",
     "varRefreshCmd": "cat(var_dic_list()) "
    }
   },
   "types_to_exclude": [
    "module",
    "function",
    "builtin_function_or_method",
    "instance",
    "_Feature"
   ],
   "window_display": false
  }
 },
 "nbformat": 4,
 "nbformat_minor": 5
}
