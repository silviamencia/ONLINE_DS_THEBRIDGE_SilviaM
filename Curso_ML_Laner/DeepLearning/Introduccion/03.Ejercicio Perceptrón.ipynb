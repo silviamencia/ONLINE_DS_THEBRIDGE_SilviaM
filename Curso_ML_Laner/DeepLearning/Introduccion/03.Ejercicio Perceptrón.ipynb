{
 "cells": [
  {
   "cell_type": "markdown",
   "id": "d59c91e6-31b4-4dbc-94cc-f744eccdd5d1",
   "metadata": {},
   "source": [
    "# Ejercicio Perceptrón"
   ]
  },
  {
   "cell_type": "markdown",
   "id": "0fb64230-5217-499e-94e5-a3ae5407ce2b",
   "metadata": {},
   "source": [
    "Partiendo del ejemplo anterior:\n",
    "1. Cambia el número de observaciones a 100.000 y comprueba qué sucede\n",
    "2. Cambia el número de observaciones a 1.000.000 y comprueba qué sucede\n",
    "3. Juega con el ratio de aprendizaje con los siguientes valores: 0.0001, 0.001, 0.1, 1\n",
    "4. Prueba cambiar la función de pérdida.  En el ejercicio, minimizamos el error cuadrático medio.  Esta vez minimiza el error absoluto, que es básicamente el sumatorio de los deltas en valor absoluto $$ \\Sigma_i = |y_i-t_i| $$\n",
    "5. Crea una nueva función de activación que sea f(x,z) = 13 * xs + 7 * zs -12 y comprueba si el algoritmo funciona de la misma manera.\n",
    "        "
   ]
  }
 ],
 "metadata": {
  "kernelspec": {
   "display_name": "Python 3 (ipykernel)",
   "language": "python",
   "name": "python3"
  },
  "language_info": {
   "codemirror_mode": {
    "name": "ipython",
    "version": 3
   },
   "file_extension": ".py",
   "mimetype": "text/x-python",
   "name": "python",
   "nbconvert_exporter": "python",
   "pygments_lexer": "ipython3",
   "version": "3.9.13"
  },
  "varInspector": {
   "cols": {
    "lenName": 16,
    "lenType": 16,
    "lenVar": 40
   },
   "kernels_config": {
    "python": {
     "delete_cmd_postfix": "",
     "delete_cmd_prefix": "del ",
     "library": "var_list.py",
     "varRefreshCmd": "print(var_dic_list())"
    },
    "r": {
     "delete_cmd_postfix": ") ",
     "delete_cmd_prefix": "rm(",
     "library": "var_list.r",
     "varRefreshCmd": "cat(var_dic_list()) "
    }
   },
   "types_to_exclude": [
    "module",
    "function",
    "builtin_function_or_method",
    "instance",
    "_Feature"
   ],
   "window_display": false
  }
 },
 "nbformat": 4,
 "nbformat_minor": 5
}
