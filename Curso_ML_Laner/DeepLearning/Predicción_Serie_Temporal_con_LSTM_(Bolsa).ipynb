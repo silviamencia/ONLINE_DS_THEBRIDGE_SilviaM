{
  "cells": [
    {
      "cell_type": "markdown",
      "metadata": {
        "id": "O369YgawbDfS"
      },
      "source": [
        "# Red Neuronal para la predicción de acciones (LSTM)"
      ]
    },
    {
      "cell_type": "code",
      "execution_count": 1,
      "metadata": {
        "id": "yw5sV8l9bDBM"
      },
      "outputs": [],
      "source": [
        "import numpy as np\n",
        "np.random.seed(4)\n",
        "import matplotlib.pyplot as plt\n",
        "import pandas as pd"
      ]
    },
    {
      "cell_type": "code",
      "execution_count": 2,
      "metadata": {
        "id": "NuwvsTKWbC_b"
      },
      "outputs": [],
      "source": [
        "from sklearn.preprocessing import MinMaxScaler\n",
        "from keras.models import Sequential\n",
        "from keras.layers import Dense, LSTM"
      ]
    },
    {
      "cell_type": "markdown",
      "metadata": {
        "id": "JKmlB3tvALvq"
      },
      "source": [
        "## Parámetros de estudio"
      ]
    },
    {
      "cell_type": "code",
      "execution_count": 3,
      "metadata": {
        "id": "eEEouByOABFQ"
      },
      "outputs": [],
      "source": [
        "num_dias_pred = 20\n",
        "time_step = 100"
      ]
    },
    {
      "cell_type": "markdown",
      "metadata": {
        "id": "21qY0UFZbXfz"
      },
      "source": [
        "## Función auxiliar para gráficas"
      ]
    },
    {
      "cell_type": "code",
      "execution_count": 4,
      "metadata": {
        "id": "gRj9gE57bUsQ"
      },
      "outputs": [],
      "source": [
        "def graficar_predicciones(real, prediccion):\n",
        "    plt.plot(real[0:len(prediccion)], color='red', label='Valor real de la acción')\n",
        "    plt.plot(prediccion, color='blue', label='Predicción de la acción')\n",
        "    plt.ylim(1.1 * np.min(prediccion)/2, 1.1 * np.max(prediccion))\n",
        "    plt.xlabel('Tiempo')\n",
        "    plt.ylabel('Valor de la acción')\n",
        "    plt.legend()\n",
        "    plt.show()"
      ]
    },
    {
      "cell_type": "markdown",
      "metadata": {
        "id": "XhdXNxnxbgy_"
      },
      "source": [
        "## Lectura de los datos"
      ]
    },
    {
      "cell_type": "code",
      "execution_count": 6,
      "metadata": {},
      "outputs": [
        {
          "name": "stdout",
          "output_type": "stream",
          "text": [
            "Collecting yfinance\n",
            "  Obtaining dependency information for yfinance from https://files.pythonhosted.org/packages/b2/38/7533745b517c34b7b749a7a21f631711354a3d4d39a840d75d20c94d71a0/yfinance-0.2.51-py2.py3-none-any.whl.metadata\n",
            "  Downloading yfinance-0.2.51-py2.py3-none-any.whl.metadata (5.5 kB)\n",
            "Requirement already satisfied: pandas>=1.3.0 in c:\\users\\lenovo\\anaconda3\\lib\\site-packages (from yfinance) (1.5.3)\n",
            "Requirement already satisfied: numpy>=1.16.5 in c:\\users\\lenovo\\anaconda3\\lib\\site-packages (from yfinance) (1.24.4)\n",
            "Requirement already satisfied: requests>=2.31 in c:\\users\\lenovo\\anaconda3\\lib\\site-packages (from yfinance) (2.31.0)\n",
            "Collecting multitasking>=0.0.7 (from yfinance)\n",
            "  Obtaining dependency information for multitasking>=0.0.7 from https://files.pythonhosted.org/packages/3e/8a/bb3160e76e844db9e69a413f055818969c8acade64e1a9ac5ce9dfdcf6c1/multitasking-0.0.11-py3-none-any.whl.metadata\n",
            "  Downloading multitasking-0.0.11-py3-none-any.whl.metadata (5.5 kB)\n",
            "Requirement already satisfied: lxml>=4.9.1 in c:\\users\\lenovo\\anaconda3\\lib\\site-packages (from yfinance) (4.9.3)\n",
            "Requirement already satisfied: platformdirs>=2.0.0 in c:\\users\\lenovo\\anaconda3\\lib\\site-packages (from yfinance) (3.10.0)\n",
            "Requirement already satisfied: pytz>=2022.5 in c:\\users\\lenovo\\anaconda3\\lib\\site-packages (from yfinance) (2023.3.post1)\n",
            "Collecting frozendict>=2.3.4 (from yfinance)\n",
            "  Obtaining dependency information for frozendict>=2.3.4 from https://files.pythonhosted.org/packages/04/13/d9839089b900fa7b479cce495d62110cddc4bd5630a04d8469916c0e79c5/frozendict-2.4.6-py311-none-any.whl.metadata\n",
            "  Downloading frozendict-2.4.6-py311-none-any.whl.metadata (23 kB)\n",
            "Collecting peewee>=3.16.2 (from yfinance)\n",
            "  Downloading peewee-3.17.8.tar.gz (948 kB)\n",
            "     ---------------------------------------- 0.0/948.2 kB ? eta -:--:--\n",
            "     - ------------------------------------- 30.7/948.2 kB 1.3 MB/s eta 0:00:01\n",
            "     --- ----------------------------------- 92.2/948.2 kB 1.3 MB/s eta 0:00:01\n",
            "     ------ ------------------------------- 174.1/948.2 kB 1.5 MB/s eta 0:00:01\n",
            "     --------- ---------------------------- 225.3/948.2 kB 1.4 MB/s eta 0:00:01\n",
            "     --------- ---------------------------- 225.3/948.2 kB 1.4 MB/s eta 0:00:01\n",
            "     ----------- -------------------------- 286.7/948.2 kB 1.2 MB/s eta 0:00:01\n",
            "     --------------- ---------------------- 389.1/948.2 kB 1.3 MB/s eta 0:00:01\n",
            "     --------------- ---------------------- 389.1/948.2 kB 1.3 MB/s eta 0:00:01\n",
            "     ---------------- --------------------- 409.6/948.2 kB 1.1 MB/s eta 0:00:01\n",
            "     ---------------------- --------------- 573.4/948.2 kB 1.3 MB/s eta 0:00:01\n",
            "     ------------------------- ------------ 634.9/948.2 kB 1.4 MB/s eta 0:00:01\n",
            "     --------------------------- ---------- 686.1/948.2 kB 1.4 MB/s eta 0:00:01\n",
            "     -------------------------------- ----- 819.2/948.2 kB 1.4 MB/s eta 0:00:01\n",
            "     -------------------------------------- 948.2/948.2 kB 1.6 MB/s eta 0:00:00\n",
            "  Installing build dependencies: started\n",
            "  Installing build dependencies: finished with status 'done'\n",
            "  Getting requirements to build wheel: started\n",
            "  Getting requirements to build wheel: finished with status 'done'\n",
            "  Preparing metadata (pyproject.toml): started\n",
            "  Preparing metadata (pyproject.toml): finished with status 'done'\n",
            "Requirement already satisfied: beautifulsoup4>=4.11.1 in c:\\users\\lenovo\\anaconda3\\lib\\site-packages (from yfinance) (4.12.2)\n",
            "Collecting html5lib>=1.1 (from yfinance)\n",
            "  Obtaining dependency information for html5lib>=1.1 from https://files.pythonhosted.org/packages/6c/dd/a834df6482147d48e225a49515aabc28974ad5a4ca3215c18a882565b028/html5lib-1.1-py2.py3-none-any.whl.metadata\n",
            "  Downloading html5lib-1.1-py2.py3-none-any.whl.metadata (16 kB)\n",
            "Requirement already satisfied: soupsieve>1.2 in c:\\users\\lenovo\\anaconda3\\lib\\site-packages (from beautifulsoup4>=4.11.1->yfinance) (2.4)\n",
            "Requirement already satisfied: six>=1.9 in c:\\users\\lenovo\\anaconda3\\lib\\site-packages (from html5lib>=1.1->yfinance) (1.16.0)\n",
            "Requirement already satisfied: webencodings in c:\\users\\lenovo\\anaconda3\\lib\\site-packages (from html5lib>=1.1->yfinance) (0.5.1)\n",
            "Requirement already satisfied: python-dateutil>=2.8.1 in c:\\users\\lenovo\\anaconda3\\lib\\site-packages (from pandas>=1.3.0->yfinance) (2.8.2)\n",
            "Requirement already satisfied: charset-normalizer<4,>=2 in c:\\users\\lenovo\\anaconda3\\lib\\site-packages (from requests>=2.31->yfinance) (2.0.4)\n",
            "Requirement already satisfied: idna<4,>=2.5 in c:\\users\\lenovo\\anaconda3\\lib\\site-packages (from requests>=2.31->yfinance) (3.4)\n",
            "Requirement already satisfied: urllib3<3,>=1.21.1 in c:\\users\\lenovo\\anaconda3\\lib\\site-packages (from requests>=2.31->yfinance) (1.26.16)\n",
            "Requirement already satisfied: certifi>=2017.4.17 in c:\\users\\lenovo\\anaconda3\\lib\\site-packages (from requests>=2.31->yfinance) (2024.12.14)\n",
            "Downloading yfinance-0.2.51-py2.py3-none-any.whl (104 kB)\n",
            "   ---------------------------------------- 0.0/104.7 kB ? eta -:--:--\n",
            "   ---------------------------------------- 104.7/104.7 kB 5.9 MB/s eta 0:00:00\n",
            "Downloading frozendict-2.4.6-py311-none-any.whl (16 kB)\n",
            "Downloading html5lib-1.1-py2.py3-none-any.whl (112 kB)\n",
            "   ---------------------------------------- 0.0/112.2 kB ? eta -:--:--\n",
            "   ---------------------------------------- 112.2/112.2 kB ? eta 0:00:00\n",
            "Downloading multitasking-0.0.11-py3-none-any.whl (8.5 kB)\n",
            "Building wheels for collected packages: peewee\n",
            "  Building wheel for peewee (pyproject.toml): started\n",
            "  Building wheel for peewee (pyproject.toml): finished with status 'done'\n",
            "  Created wheel for peewee: filename=peewee-3.17.8-py3-none-any.whl size=139014 sha256=262c6b42acfba338f16ff3a06033e195eab15738adab6ecafc78ecfa1b49de92\n",
            "  Stored in directory: c:\\users\\lenovo\\appdata\\local\\pip\\cache\\wheels\\ff\\6c\\15\\506e25bc390de450a7fa53c155cd9b0fbd13ad3e84a9abc183\n",
            "Successfully built peewee\n",
            "Installing collected packages: peewee, multitasking, html5lib, frozendict, yfinance\n",
            "Successfully installed frozendict-2.4.6 html5lib-1.1 multitasking-0.0.11 peewee-3.17.8 yfinance-0.2.51\n"
          ]
        }
      ],
      "source": [
        "!pip install yfinance\n"
      ]
    },
    {
      "cell_type": "code",
      "execution_count": 7,
      "metadata": {
        "id": "A7MFaUblBlCC"
      },
      "outputs": [],
      "source": [
        "import yfinance as yf\n",
        "dataset = yf.Ticker(\"A3M.MC\").history(period=\"max\")"
      ]
    },
    {
      "cell_type": "markdown",
      "metadata": {},
      "source": [
        " El dataset contiene información histórica del precio de la acción de una empresa cotizada en la Bolsa de Madrid, incluyendo precios de apertura, cierre, máximos, mínimos, volumen de negociación, dividendos y splits. Vamos a crear un modelo LSTM para predecir el precio máximo de las acciones de una empresa en los próximos 20 días, utilizando secuencias de 100 días previos como entrada. "
      ]
    },
    {
      "cell_type": "code",
      "execution_count": 8,
      "metadata": {
        "colab": {
          "base_uri": "https://localhost:8080/",
          "height": 425
        },
        "id": "Xx79jlDGBxY5",
        "outputId": "f60ee9a9-15e4-4c73-e23c-120a10b083ef"
      },
      "outputs": [
        {
          "data": {
            "text/html": [
              "<div>\n",
              "<style scoped>\n",
              "    .dataframe tbody tr th:only-of-type {\n",
              "        vertical-align: middle;\n",
              "    }\n",
              "\n",
              "    .dataframe tbody tr th {\n",
              "        vertical-align: top;\n",
              "    }\n",
              "\n",
              "    .dataframe thead th {\n",
              "        text-align: right;\n",
              "    }\n",
              "</style>\n",
              "<table border=\"1\" class=\"dataframe\">\n",
              "  <thead>\n",
              "    <tr style=\"text-align: right;\">\n",
              "      <th></th>\n",
              "      <th>Open</th>\n",
              "      <th>High</th>\n",
              "      <th>Low</th>\n",
              "      <th>Close</th>\n",
              "      <th>Volume</th>\n",
              "      <th>Dividends</th>\n",
              "      <th>Stock Splits</th>\n",
              "    </tr>\n",
              "    <tr>\n",
              "      <th>Date</th>\n",
              "      <th></th>\n",
              "      <th></th>\n",
              "      <th></th>\n",
              "      <th></th>\n",
              "      <th></th>\n",
              "      <th></th>\n",
              "      <th></th>\n",
              "    </tr>\n",
              "  </thead>\n",
              "  <tbody>\n",
              "    <tr>\n",
              "      <th>2024-12-19 00:00:00+01:00</th>\n",
              "      <td>4.360</td>\n",
              "      <td>4.470</td>\n",
              "      <td>4.350</td>\n",
              "      <td>4.400</td>\n",
              "      <td>615442</td>\n",
              "      <td>0.0</td>\n",
              "      <td>0.0</td>\n",
              "    </tr>\n",
              "    <tr>\n",
              "      <th>2024-12-20 00:00:00+01:00</th>\n",
              "      <td>4.365</td>\n",
              "      <td>4.375</td>\n",
              "      <td>4.300</td>\n",
              "      <td>4.340</td>\n",
              "      <td>586364</td>\n",
              "      <td>0.0</td>\n",
              "      <td>0.0</td>\n",
              "    </tr>\n",
              "    <tr>\n",
              "      <th>2024-12-23 00:00:00+01:00</th>\n",
              "      <td>4.340</td>\n",
              "      <td>4.340</td>\n",
              "      <td>4.280</td>\n",
              "      <td>4.335</td>\n",
              "      <td>296645</td>\n",
              "      <td>0.0</td>\n",
              "      <td>0.0</td>\n",
              "    </tr>\n",
              "    <tr>\n",
              "      <th>2024-12-24 00:00:00+01:00</th>\n",
              "      <td>4.320</td>\n",
              "      <td>4.345</td>\n",
              "      <td>4.305</td>\n",
              "      <td>4.310</td>\n",
              "      <td>95140</td>\n",
              "      <td>0.0</td>\n",
              "      <td>0.0</td>\n",
              "    </tr>\n",
              "    <tr>\n",
              "      <th>2024-12-27 00:00:00+01:00</th>\n",
              "      <td>4.325</td>\n",
              "      <td>4.390</td>\n",
              "      <td>4.310</td>\n",
              "      <td>4.370</td>\n",
              "      <td>252976</td>\n",
              "      <td>0.0</td>\n",
              "      <td>0.0</td>\n",
              "    </tr>\n",
              "    <tr>\n",
              "      <th>2024-12-30 00:00:00+01:00</th>\n",
              "      <td>4.370</td>\n",
              "      <td>4.380</td>\n",
              "      <td>4.325</td>\n",
              "      <td>4.360</td>\n",
              "      <td>247282</td>\n",
              "      <td>0.0</td>\n",
              "      <td>0.0</td>\n",
              "    </tr>\n",
              "    <tr>\n",
              "      <th>2024-12-31 00:00:00+01:00</th>\n",
              "      <td>4.335</td>\n",
              "      <td>4.390</td>\n",
              "      <td>4.335</td>\n",
              "      <td>4.370</td>\n",
              "      <td>176883</td>\n",
              "      <td>0.0</td>\n",
              "      <td>0.0</td>\n",
              "    </tr>\n",
              "    <tr>\n",
              "      <th>2025-01-02 00:00:00+01:00</th>\n",
              "      <td>4.370</td>\n",
              "      <td>4.480</td>\n",
              "      <td>4.370</td>\n",
              "      <td>4.470</td>\n",
              "      <td>301559</td>\n",
              "      <td>0.0</td>\n",
              "      <td>0.0</td>\n",
              "    </tr>\n",
              "    <tr>\n",
              "      <th>2025-01-03 00:00:00+01:00</th>\n",
              "      <td>4.490</td>\n",
              "      <td>4.520</td>\n",
              "      <td>4.450</td>\n",
              "      <td>4.480</td>\n",
              "      <td>247440</td>\n",
              "      <td>0.0</td>\n",
              "      <td>0.0</td>\n",
              "    </tr>\n",
              "    <tr>\n",
              "      <th>2025-01-06 00:00:00+01:00</th>\n",
              "      <td>4.500</td>\n",
              "      <td>4.535</td>\n",
              "      <td>4.420</td>\n",
              "      <td>4.480</td>\n",
              "      <td>123935</td>\n",
              "      <td>0.0</td>\n",
              "      <td>0.0</td>\n",
              "    </tr>\n",
              "    <tr>\n",
              "      <th>2025-01-07 00:00:00+01:00</th>\n",
              "      <td>4.485</td>\n",
              "      <td>4.500</td>\n",
              "      <td>4.450</td>\n",
              "      <td>4.450</td>\n",
              "      <td>247313</td>\n",
              "      <td>0.0</td>\n",
              "      <td>0.0</td>\n",
              "    </tr>\n",
              "  </tbody>\n",
              "</table>\n",
              "</div>"
            ],
            "text/plain": [
              "                            Open   High    Low  Close  Volume  Dividends  \\\n",
              "Date                                                                       \n",
              "2024-12-19 00:00:00+01:00  4.360  4.470  4.350  4.400  615442        0.0   \n",
              "2024-12-20 00:00:00+01:00  4.365  4.375  4.300  4.340  586364        0.0   \n",
              "2024-12-23 00:00:00+01:00  4.340  4.340  4.280  4.335  296645        0.0   \n",
              "2024-12-24 00:00:00+01:00  4.320  4.345  4.305  4.310   95140        0.0   \n",
              "2024-12-27 00:00:00+01:00  4.325  4.390  4.310  4.370  252976        0.0   \n",
              "2024-12-30 00:00:00+01:00  4.370  4.380  4.325  4.360  247282        0.0   \n",
              "2024-12-31 00:00:00+01:00  4.335  4.390  4.335  4.370  176883        0.0   \n",
              "2025-01-02 00:00:00+01:00  4.370  4.480  4.370  4.470  301559        0.0   \n",
              "2025-01-03 00:00:00+01:00  4.490  4.520  4.450  4.480  247440        0.0   \n",
              "2025-01-06 00:00:00+01:00  4.500  4.535  4.420  4.480  123935        0.0   \n",
              "2025-01-07 00:00:00+01:00  4.485  4.500  4.450  4.450  247313        0.0   \n",
              "\n",
              "                           Stock Splits  \n",
              "Date                                     \n",
              "2024-12-19 00:00:00+01:00           0.0  \n",
              "2024-12-20 00:00:00+01:00           0.0  \n",
              "2024-12-23 00:00:00+01:00           0.0  \n",
              "2024-12-24 00:00:00+01:00           0.0  \n",
              "2024-12-27 00:00:00+01:00           0.0  \n",
              "2024-12-30 00:00:00+01:00           0.0  \n",
              "2024-12-31 00:00:00+01:00           0.0  \n",
              "2025-01-02 00:00:00+01:00           0.0  \n",
              "2025-01-03 00:00:00+01:00           0.0  \n",
              "2025-01-06 00:00:00+01:00           0.0  \n",
              "2025-01-07 00:00:00+01:00           0.0  "
            ]
          },
          "execution_count": 8,
          "metadata": {},
          "output_type": "execute_result"
        }
      ],
      "source": [
        "dataset.tail(11)"
      ]
    },
    {
      "cell_type": "code",
      "execution_count": 9,
      "metadata": {
        "colab": {
          "base_uri": "https://localhost:8080/"
        },
        "id": "EYbG5B4yBvZS",
        "outputId": "b3d02ee0-aad4-4afb-8acf-860d0b5e333f"
      },
      "outputs": [
        {
          "name": "stdout",
          "output_type": "stream",
          "text": [
            "datetime64[ns, Europe/Madrid]\n"
          ]
        }
      ],
      "source": [
        "print(dataset.index.dtype)"
      ]
    },
    {
      "cell_type": "code",
      "execution_count": 10,
      "metadata": {
        "colab": {
          "base_uri": "https://localhost:8080/",
          "height": 300
        },
        "id": "xdE_SKQCDd2E",
        "outputId": "e32a46c5-5040-4e61-ab21-326f04bd1e8c"
      },
      "outputs": [
        {
          "data": {
            "text/html": [
              "<div>\n",
              "<style scoped>\n",
              "    .dataframe tbody tr th:only-of-type {\n",
              "        vertical-align: middle;\n",
              "    }\n",
              "\n",
              "    .dataframe tbody tr th {\n",
              "        vertical-align: top;\n",
              "    }\n",
              "\n",
              "    .dataframe thead th {\n",
              "        text-align: right;\n",
              "    }\n",
              "</style>\n",
              "<table border=\"1\" class=\"dataframe\">\n",
              "  <thead>\n",
              "    <tr style=\"text-align: right;\">\n",
              "      <th></th>\n",
              "      <th>Open</th>\n",
              "      <th>High</th>\n",
              "      <th>Low</th>\n",
              "      <th>Close</th>\n",
              "      <th>Volume</th>\n",
              "      <th>Dividends</th>\n",
              "      <th>Stock Splits</th>\n",
              "    </tr>\n",
              "  </thead>\n",
              "  <tbody>\n",
              "    <tr>\n",
              "      <th>count</th>\n",
              "      <td>5428.000000</td>\n",
              "      <td>5428.000000</td>\n",
              "      <td>5428.000000</td>\n",
              "      <td>5428.000000</td>\n",
              "      <td>5.428000e+03</td>\n",
              "      <td>5428.000000</td>\n",
              "      <td>5428.000000</td>\n",
              "    </tr>\n",
              "    <tr>\n",
              "      <th>mean</th>\n",
              "      <td>3.632434</td>\n",
              "      <td>3.678521</td>\n",
              "      <td>3.577670</td>\n",
              "      <td>3.631287</td>\n",
              "      <td>7.006667e+05</td>\n",
              "      <td>0.001430</td>\n",
              "      <td>0.000737</td>\n",
              "    </tr>\n",
              "    <tr>\n",
              "      <th>std</th>\n",
              "      <td>1.556147</td>\n",
              "      <td>1.570332</td>\n",
              "      <td>1.538123</td>\n",
              "      <td>1.556224</td>\n",
              "      <td>1.251450e+06</td>\n",
              "      <td>0.019792</td>\n",
              "      <td>0.054293</td>\n",
              "    </tr>\n",
              "    <tr>\n",
              "      <th>min</th>\n",
              "      <td>1.115080</td>\n",
              "      <td>1.141450</td>\n",
              "      <td>1.100012</td>\n",
              "      <td>1.115080</td>\n",
              "      <td>0.000000e+00</td>\n",
              "      <td>0.000000</td>\n",
              "      <td>0.000000</td>\n",
              "    </tr>\n",
              "    <tr>\n",
              "      <th>25%</th>\n",
              "      <td>2.361454</td>\n",
              "      <td>2.397519</td>\n",
              "      <td>2.316805</td>\n",
              "      <td>2.359188</td>\n",
              "      <td>2.773835e+05</td>\n",
              "      <td>0.000000</td>\n",
              "      <td>0.000000</td>\n",
              "    </tr>\n",
              "    <tr>\n",
              "      <th>50%</th>\n",
              "      <td>3.098615</td>\n",
              "      <td>3.127723</td>\n",
              "      <td>3.051066</td>\n",
              "      <td>3.101192</td>\n",
              "      <td>4.756880e+05</td>\n",
              "      <td>0.000000</td>\n",
              "      <td>0.000000</td>\n",
              "    </tr>\n",
              "    <tr>\n",
              "      <th>75%</th>\n",
              "      <td>4.992155</td>\n",
              "      <td>5.037812</td>\n",
              "      <td>4.914747</td>\n",
              "      <td>4.992993</td>\n",
              "      <td>8.191410e+05</td>\n",
              "      <td>0.000000</td>\n",
              "      <td>0.000000</td>\n",
              "    </tr>\n",
              "    <tr>\n",
              "      <th>max</th>\n",
              "      <td>7.723192</td>\n",
              "      <td>7.767241</td>\n",
              "      <td>7.591047</td>\n",
              "      <td>7.669356</td>\n",
              "      <td>5.038508e+07</td>\n",
              "      <td>0.450000</td>\n",
              "      <td>4.000000</td>\n",
              "    </tr>\n",
              "  </tbody>\n",
              "</table>\n",
              "</div>"
            ],
            "text/plain": [
              "              Open         High          Low        Close        Volume  \\\n",
              "count  5428.000000  5428.000000  5428.000000  5428.000000  5.428000e+03   \n",
              "mean      3.632434     3.678521     3.577670     3.631287  7.006667e+05   \n",
              "std       1.556147     1.570332     1.538123     1.556224  1.251450e+06   \n",
              "min       1.115080     1.141450     1.100012     1.115080  0.000000e+00   \n",
              "25%       2.361454     2.397519     2.316805     2.359188  2.773835e+05   \n",
              "50%       3.098615     3.127723     3.051066     3.101192  4.756880e+05   \n",
              "75%       4.992155     5.037812     4.914747     4.992993  8.191410e+05   \n",
              "max       7.723192     7.767241     7.591047     7.669356  5.038508e+07   \n",
              "\n",
              "         Dividends  Stock Splits  \n",
              "count  5428.000000   5428.000000  \n",
              "mean      0.001430      0.000737  \n",
              "std       0.019792      0.054293  \n",
              "min       0.000000      0.000000  \n",
              "25%       0.000000      0.000000  \n",
              "50%       0.000000      0.000000  \n",
              "75%       0.000000      0.000000  \n",
              "max       0.450000      4.000000  "
            ]
          },
          "execution_count": 10,
          "metadata": {},
          "output_type": "execute_result"
        }
      ],
      "source": [
        "dataset.describe()"
      ]
    },
    {
      "cell_type": "markdown",
      "metadata": {
        "id": "VlkD616cb3MS"
      },
      "source": [
        "## Sets de entrenamiento y validación\n",
        "La LSTM se entrenará con datos de desde hoy hace 12 años hasta hoy hace 10 años. La validación se hará con datos de los últimos 2 años.\n",
        "En ambos sets sólo se usará el valor más alto de la acción para cada día"
      ]
    },
    {
      "cell_type": "code",
      "execution_count": 51,
      "metadata": {
        "colab": {
          "base_uri": "https://localhost:8080/"
        },
        "id": "c2fFo9Q8Eb6s",
        "outputId": "456f0a18-6348-4115-9de9-50fbbd83b1d1"
      },
      "outputs": [
        {
          "name": "stdout",
          "output_type": "stream",
          "text": [
            "Fecha límite entre entrenamiento y validación = 2023-01-07 00:00:00+01:00\n"
          ]
        }
      ],
      "source": [
        "import datetime\n",
        "fin_entrenamiento = dataset.index.max() - pd.DateOffset(years=2)\n",
        "print(f\"Fecha límite entre entrenamiento y validación = {fin_entrenamiento}\")\n",
        "\n",
        "set_entrenamiento = dataset[:fin_entrenamiento].iloc[:,1:2]\n",
        "set_validacion = dataset[fin_entrenamiento:].iloc[:,1:2]"
      ]
    },
    {
      "cell_type": "code",
      "execution_count": 53,
      "metadata": {},
      "outputs": [
        {
          "data": {
            "text/plain": [
              "(4918, 1)"
            ]
          },
          "execution_count": 53,
          "metadata": {},
          "output_type": "execute_result"
        }
      ],
      "source": [
        "set_entrenamiento.shape"
      ]
    },
    {
      "cell_type": "code",
      "execution_count": 54,
      "metadata": {},
      "outputs": [
        {
          "data": {
            "text/plain": [
              "(510, 1)"
            ]
          },
          "execution_count": 54,
          "metadata": {},
          "output_type": "execute_result"
        }
      ],
      "source": [
        "set_validacion.shape"
      ]
    },
    {
      "cell_type": "code",
      "execution_count": 12,
      "metadata": {
        "colab": {
          "base_uri": "https://localhost:8080/",
          "height": 422
        },
        "id": "JNWGh05UcDV5",
        "outputId": "2a0e4f51-e9ca-4744-dc58-b46af8254cf6"
      },
      "outputs": [
        {
          "data": {
            "image/png": "[encoded data removed]",
            "text/plain": [
              "<Figure size 640x480 with 1 Axes>"
            ]
          },
          "metadata": {},
          "output_type": "display_data"
        }
      ],
      "source": [
        "set_entrenamiento['High'].plot(legend=True)\n",
        "set_validacion['High'].plot(legend=True)\n",
        "\n",
        "plt.legend(['Entrenamiento (10 años)', 'Validación (Últimos 2 años)'])\n",
        "plt.show()"
      ]
    },
    {
      "cell_type": "markdown",
      "metadata": {
        "id": "oazfV8GtcMop"
      },
      "source": [
        "## Normalización del set de entrenamiento"
      ]
    },
    {
      "cell_type": "code",
      "execution_count": 13,
      "metadata": {
        "id": "oY1_rOhfcMPb"
      },
      "outputs": [],
      "source": [
        "sc = MinMaxScaler(feature_range=(0,1))\n",
        "set_entrenamiento_escalado = sc.fit_transform(set_entrenamiento)"
      ]
    },
    {
      "cell_type": "code",
      "execution_count": 14,
      "metadata": {
        "colab": {
          "base_uri": "https://localhost:8080/"
        },
        "id": "ZU9eM495nWw1",
        "outputId": "698ee4fc-a3b5-4e38-f994-9cbd33fe6c07"
      },
      "outputs": [
        {
          "data": {
            "text/plain": [
              "array([[0.18116592],\n",
              "       [0.16121468],\n",
              "       [0.15819877],\n",
              "       ...,\n",
              "       [0.24527212],\n",
              "       [0.25193119],\n",
              "       [0.25513741]])"
            ]
          },
          "execution_count": 14,
          "metadata": {},
          "output_type": "execute_result"
        }
      ],
      "source": [
        "set_entrenamiento_escalado"
      ]
    },
    {
      "cell_type": "markdown",
      "metadata": {
        "id": "IizTFsXQcXGz"
      },
      "source": [
        "La red LSTM tendrá como entrada `time_step` datos consecutivos, y como salida `num_dias_pred` datos diarios (la predicción a partir de esos `time_step` datos). Se conformará de esta forma el set de entrenamiento\n"
      ]
    },
    {
      "cell_type": "code",
      "execution_count": 15,
      "metadata": {
        "id": "HB5nYs1YceYH"
      },
      "outputs": [],
      "source": [
        "X_train_long_term = []\n",
        "Y_train_long_term = []"
      ]
    },
    {
      "cell_type": "code",
      "execution_count": 16,
      "metadata": {
        "id": "fyd7o6UZcj4U"
      },
      "outputs": [],
      "source": [
        "for j in range(0, num_dias_pred):\n",
        "    \"\"\"Bucle para crear la tercera dimensión, que depende de los días a predecir\"\"\"\n",
        "    X_train = []\n",
        "    Y_train = []\n",
        "    for i in range(0,len(set_entrenamiento_escalado)- num_dias_pred - time_step):\n",
        "        \"\"\"Bucle para crear la tabla para cada día de predicción\"\"\"\n",
        "        # X: bloques de \"time_step\" datos: 0-time_step, 1-time_step+1, 2-time_step+2, etc\n",
        "        X_train.append(set_entrenamiento_escalado[i:i+time_step,0])\n",
        "        # Y: el siguiente dato\n",
        "        indice = i+time_step+j\n",
        "        Y_train.append(set_entrenamiento_escalado[indice:indice+1,0][0])\n",
        "    X_train_long_term.append(X_train)\n",
        "    Y_train_long_term.append(Y_train)"
      ]
    },
    {
      "cell_type": "markdown",
      "metadata": {
        "id": "BiyaYEBuhv4O"
      },
      "source": [
        "Esta celda sólo renombra las matrices para que el nombre sea más corto y las convierte de \"lista de listas\" a matriz de numpy.\n",
        "\n",
        "La red neuronal ha de recibir los datos como matrices de numpy"
      ]
    },
    {
      "cell_type": "code",
      "execution_count": 17,
      "metadata": {
        "id": "IrGbAH-bcudy"
      },
      "outputs": [],
      "source": [
        "X_train, Y_train = np.array(X_train_long_term), np.array(Y_train_long_term)"
      ]
    },
    {
      "cell_type": "code",
      "execution_count": 18,
      "metadata": {
        "colab": {
          "base_uri": "https://localhost:8080/"
        },
        "id": "ruMlsRkxbvei",
        "outputId": "bfe5b0fb-10c6-4738-cf98-9f580944a2f4"
      },
      "outputs": [
        {
          "data": {
            "text/plain": [
              "((20, 4798, 100), (20, 4798))"
            ]
          },
          "execution_count": 18,
          "metadata": {},
          "output_type": "execute_result"
        }
      ],
      "source": [
        "X_train.shape, Y_train.shape"
      ]
    },
    {
      "cell_type": "markdown",
      "metadata": {
        "id": "grhrqHEg3rSc"
      },
      "source": [
        "El shape correcto (dimensiones de las matrices) es\n",
        "\n",
        "En X: (días totales, time_step, num_dias_pred)\n",
        "En Y: (días totales, num_dias_pred)"
      ]
    },
    {
      "cell_type": "code",
      "execution_count": 19,
      "metadata": {
        "id": "XlFChe84dVR-"
      },
      "outputs": [],
      "source": [
        "X_train = np.transpose(X_train, (1, 2, 0))"
      ]
    },
    {
      "cell_type": "code",
      "execution_count": 20,
      "metadata": {
        "id": "-R5ZjZ5Afs4K"
      },
      "outputs": [],
      "source": [
        "Y_train = np.transpose(Y_train, (1, 0))"
      ]
    },
    {
      "cell_type": "code",
      "execution_count": 21,
      "metadata": {
        "colab": {
          "base_uri": "https://localhost:8080/"
        },
        "id": "6MNjOptdxIpA",
        "outputId": "be367e38-7cba-40cb-8f52-a6d03c0ac311"
      },
      "outputs": [
        {
          "name": "stdout",
          "output_type": "stream",
          "text": [
            "En X: (días totales, 100, 20) En Y:(días totales, 20)\n"
          ]
        },
        {
          "data": {
            "text/plain": [
              "((4798, 100, 20), (4798, 20))"
            ]
          },
          "execution_count": 21,
          "metadata": {},
          "output_type": "execute_result"
        }
      ],
      "source": [
        "print(f\"En X: (días totales, {time_step}, {num_dias_pred}) En Y:(días totales, {num_dias_pred})\")\n",
        "X_train.shape, Y_train.shape"
      ]
    },
    {
      "cell_type": "markdown",
      "metadata": {
        "id": "nNekMqn44G5e"
      },
      "source": [
        "Comprobación de que la colocación de los datos es coherente con la serie temporal aportada:<br>\n",
        "- Para la matriz X"
      ]
    },
    {
      "cell_type": "code",
      "execution_count": 22,
      "metadata": {
        "colab": {
          "base_uri": "https://localhost:8080/"
        },
        "id": "inAMqLNtpGXY",
        "outputId": "0c98e642-29d0-4dbc-d5a3-c1a842e10a06"
      },
      "outputs": [
        {
          "name": "stdout",
          "output_type": "stream",
          "text": [
            "Los 100 valores a partir del día 0 descargados de yfinance:\n",
            "[0.18116592 0.16121468 0.15819877 0.1536749  0.15239894 0.1478751\n",
            " 0.14868714 0.15483487 0.14903508 0.14149541 0.15541491 0.16411461\n",
            " 0.16376658 0.16817444 0.19415738 0.19079373 0.18835765 0.19891339\n",
            " 0.21515288 0.22176462 0.20471325 0.21932867 0.23452419 0.26503104\n",
            " 0.25679542 0.23603222 0.23243616 0.24183189 0.24020795 0.2240845\n",
            " 0.23719204 0.239512   0.23951198 0.23603208 0.23533613 0.23487207\n",
            " 0.22895633 0.23603213 0.23243622 0.22965241 0.22211265 0.22211265\n",
            " 0.22211265 0.21979271 0.2330162  0.2330162  0.2330162  0.22628841\n",
            " 0.22930443 0.22791249 0.24043995 0.25853523 0.26166727 0.26155127\n",
            " 0.28243049 0.28127047 0.28753443 0.28475044 0.28359042 0.28127055\n",
            " 0.27999461 0.28011064 0.28823028 0.28939021 0.28591044 0.28591032\n",
            " 0.29727798 0.2914782  0.29461013 0.29403011 0.29635005 0.28962222\n",
            " 0.29055025 0.29751004 0.29461015 0.29055025 0.29147818 0.28939023\n",
            " 0.28544637 0.27419477 0.27233885 0.27547071 0.26851092 0.27280289\n",
            " 0.26851092 0.26503117 0.26271118 0.26271115 0.26271117 0.28359049\n",
            " 0.27779061 0.28011055 0.29577004 0.29414612 0.30330975 0.28939023\n",
            " 0.27431074 0.28637443 0.27837065 0.25111155]\n",
            "Han de coincidir con la fila 0 de la matriz X_train\n",
            "[0.1811659177759048, 0.16121467790715188, 0.15819876581967324, 0.15367489617478997, 0.15239893622261774, 0.1478751017527466, 0.14868713975465253, 0.154834872679532, 0.1490350765249031, 0.14149540729877147, 0.1554149104131401, 0.16411461089756962, 0.16376658183497178, 0.16817443702812707, 0.19415738079234746, 0.19079372500880148, 0.1883576506376548, 0.19891338508222406, 0.21515287531955946, 0.2217646189312671, 0.20471324516794404, 0.21932866581568344, 0.23452419065371116, 0.2650310387292936, 0.2567954222812219, 0.2360322210923732, 0.23243615990677358, 0.2418318875738189, 0.24020795078390356, 0.2240845031552432, 0.23719203693785912, 0.23951199557717978, 0.2395119757387036, 0.2360320756099058, 0.23533612584557612, 0.2348720707544399, 0.2289563330994382, 0.23603213264291278, 0.23243622251223117, 0.22965240638889067, 0.22211264762470623, 0.22211264762470623, 0.22211264762470623, 0.2197927105546944, 0.2330161977472751, 0.2330161977472751, 0.2330161977472751, 0.22628841187886034, 0.2293044302001217, 0.22791249024788712, 0.24043995481972602, 0.2585352330495719, 0.26166727133445555, 0.2615512710672839, 0.2824304899201255, 0.281270466115351, 0.2875344286487044, 0.28475044258999255, 0.28359042408456064, 0.2812705451503429, 0.2799946132324127, 0.28011063540271464, 0.2882302816187758, 0.2893902115064757, 0.2859104361978126, 0.2859103215393145, 0.29727797555135016, 0.29147819848278844, 0.2946101254570451, 0.2940301087303655, 0.29635005353274235, 0.28962222468529175, 0.2905502534845361, 0.2975100352009402, 0.294610148932879, 0.2905502547357757, 0.2914781833965148, 0.28939022719713187, 0.28544637158506264, 0.27419477043119467, 0.27233884930204283, 0.27547070862958034, 0.26851091701296165, 0.27280289056347196, 0.26851091701296165, 0.26503116548741984, 0.26271117934516136, 0.26271114590787953, 0.26271116705895253, 0.28359049009108034, 0.27779061144940104, 0.28011054965031573, 0.29577004271912505, 0.2941461165503236, 0.30330974627101065, 0.2893902253849886, 0.27431074192801225, 0.2863744308623845, 0.27837064713636783, 0.251111553227278]\n"
          ]
        },
        {
          "data": {
            "text/plain": [
              "array([ True,  True,  True,  True,  True,  True,  True,  True,  True,\n",
              "        True,  True,  True,  True,  True,  True,  True,  True,  True,\n",
              "        True,  True,  True,  True,  True,  True,  True,  True,  True,\n",
              "        True,  True,  True,  True,  True,  True,  True,  True,  True,\n",
              "        True,  True,  True,  True,  True,  True,  True,  True,  True,\n",
              "        True,  True,  True,  True,  True,  True,  True,  True,  True,\n",
              "        True,  True,  True,  True,  True,  True,  True,  True,  True,\n",
              "        True,  True,  True,  True,  True,  True,  True,  True,  True,\n",
              "        True,  True,  True,  True,  True,  True,  True,  True,  True,\n",
              "        True,  True,  True,  True,  True,  True,  True,  True,  True,\n",
              "        True,  True,  True,  True,  True,  True,  True,  True,  True,\n",
              "        True])"
            ]
          },
          "execution_count": 22,
          "metadata": {},
          "output_type": "execute_result"
        }
      ],
      "source": [
        "n = 0\n",
        "print(f\"Los {time_step} valores a partir del día {n} descargados de yfinance:\")\n",
        "print(set_entrenamiento_escalado[n:time_step + n,0])\n",
        "print(f\"Han de coincidir con la fila {n} de la matriz X_train\")\n",
        "print(list(X_train[n,:,0]))\n",
        "set_entrenamiento_escalado[n:time_step + n,0] == list(X_train[n,:,0])"
      ]
    },
    {
      "cell_type": "markdown",
      "metadata": {
        "id": "n26CvwL057mG"
      },
      "source": [
        "- Para la matriz Y"
      ]
    },
    {
      "cell_type": "code",
      "execution_count": 23,
      "metadata": {
        "colab": {
          "base_uri": "https://localhost:8080/"
        },
        "id": "96-YftPb5Fhh",
        "outputId": "cafc954c-1046-4a39-e48e-e9496a164914"
      },
      "outputs": [
        {
          "name": "stdout",
          "output_type": "stream",
          "text": [
            "Los 20 valores a partir del día 0 + el time_step = 100 descargados de yfinance son:\n",
            "[0.27593483 0.25807123 0.26143527 0.25227143 0.26375521 0.26491511\n",
            " 0.26735104 0.27431085 0.27755867 0.27871862 0.26537916 0.26271115\n",
            " 0.26027533 0.2627112  0.26769903 0.26561107 0.26619099 0.26561102\n",
            " 0.26561102 0.26561107]\n",
            "Han de coincidir con la fila 0 de la matriz Y_train\n",
            "[0.27593482558648547, 0.258071233582721, 0.2614352655803063, 0.25227143493926807, 0.26375520656724516, 0.26491511002118706, 0.2673510375949835, 0.2743108465835053, 0.27755867224063646, 0.2787186189304467, 0.2653791612156992, 0.2627111526946214, 0.26027533420366056, 0.26271119509665997, 0.26769903001122874, 0.2656110691062352, 0.2661909885575135, 0.26561101750589017, 0.26561101750589017, 0.2656110676987188]\n"
          ]
        },
        {
          "data": {
            "text/plain": [
              "array([ True,  True,  True,  True,  True,  True,  True,  True,  True,\n",
              "        True,  True,  True,  True,  True,  True,  True,  True,  True,\n",
              "        True,  True])"
            ]
          },
          "execution_count": 23,
          "metadata": {},
          "output_type": "execute_result"
        }
      ],
      "source": [
        "n = 0\n",
        "print(f\"Los {num_dias_pred} valores a partir del día {n} + el time_step = {time_step} descargados de yfinance son:\")\n",
        "print(set_entrenamiento_escalado[n + time_step:n + time_step + num_dias_pred,0])\n",
        "print(f\"Han de coincidir con la fila {n} de la matriz Y_train\")\n",
        "print(list(Y_train[n,:]))\n",
        "set_entrenamiento_escalado[n + time_step:n + time_step + num_dias_pred,0] == Y_train[n,:]"
      ]
    },
    {
      "cell_type": "markdown",
      "metadata": {
        "id": "Bu4BAOaucz7G"
      },
      "source": [
        "## Red LSTM"
      ]
    },
    {
      "cell_type": "code",
      "execution_count": 24,
      "metadata": {
        "colab": {
          "base_uri": "https://localhost:8080/"
        },
        "id": "7qCWqqy2c-ER",
        "outputId": "f4ad45b5-e434-414f-c8ef-821468792602"
      },
      "outputs": [
        {
          "name": "stdout",
          "output_type": "stream",
          "text": [
            "Dimensiones de la entrada (100, 20)\n"
          ]
        }
      ],
      "source": [
        "dim_entrada = (X_train.shape[1],num_dias_pred)\n",
        "print(f\"Dimensiones de la entrada {dim_entrada}\")\n",
        "dim_salida = num_dias_pred\n",
        "na = 80"
      ]
    },
    {
      "cell_type": "code",
      "execution_count": null,
      "metadata": {
        "colab": {
          "base_uri": "https://localhost:8080/"
        },
        "id": "lowpHgj_dByt",
        "outputId": "5cc1225f-8f3e-4ff7-f873-f7297feccebf"
      },
      "outputs": [
        {
          "name": "stderr",
          "output_type": "stream",
          "text": [
            "c:\\Users\\LENOVO\\anaconda3\\Lib\\site-packages\\keras\\src\\layers\\rnn\\rnn.py:204: UserWarning: Do not pass an `input_shape`/`input_dim` argument to a layer. When using Sequential models, prefer using an `Input(shape)` object as the first layer in the model instead.\n",
            "  super().__init__(**kwargs)\n"
          ]
        },
        {
          "name": "stdout",
          "output_type": "stream",
          "text": [
            "Epoch 1/20\n",
            "\u001b[1m150/150\u001b[0m \u001b[32m━━━━━━━━━━━━━━━━━━━━\u001b[0m\u001b[37m\u001b[0m \u001b[1m8s\u001b[0m 39ms/step - loss: 0.0182\n",
            "Epoch 2/20\n",
            "\u001b[1m150/150\u001b[0m \u001b[32m━━━━━━━━━━━━━━━━━━━━\u001b[0m\u001b[37m\u001b[0m \u001b[1m6s\u001b[0m 38ms/step - loss: 0.0025\n",
            "Epoch 3/20\n",
            "\u001b[1m150/150\u001b[0m \u001b[32m━━━━━━━━━━━━━━━━━━━━\u001b[0m\u001b[37m\u001b[0m \u001b[1m5s\u001b[0m 33ms/step - loss: 0.0023\n",
            "Epoch 4/20\n",
            "\u001b[1m150/150\u001b[0m \u001b[32m━━━━━━━━━━━━━━━━━━━━\u001b[0m\u001b[37m\u001b[0m \u001b[1m5s\u001b[0m 32ms/step - loss: 0.0020\n",
            "Epoch 5/20\n",
            "\u001b[1m150/150\u001b[0m \u001b[32m━━━━━━━━━━━━━━━━━━━━\u001b[0m\u001b[37m\u001b[0m \u001b[1m5s\u001b[0m 32ms/step - loss: 0.0019\n",
            "Epoch 6/20\n",
            "\u001b[1m150/150\u001b[0m \u001b[32m━━━━━━━━━━━━━━━━━━━━\u001b[0m\u001b[37m\u001b[0m \u001b[1m5s\u001b[0m 31ms/step - loss: 0.0019\n",
            "Epoch 7/20\n",
            "\u001b[1m150/150\u001b[0m \u001b[32m━━━━━━━━━━━━━━━━━━━━\u001b[0m\u001b[37m\u001b[0m \u001b[1m5s\u001b[0m 32ms/step - loss: 0.0019\n",
            "Epoch 8/20\n",
            "\u001b[1m150/150\u001b[0m \u001b[32m━━━━━━━━━━━━━━━━━━━━\u001b[0m\u001b[37m\u001b[0m \u001b[1m5s\u001b[0m 31ms/step - loss: 0.0018\n",
            "Epoch 9/20\n",
            "\u001b[1m150/150\u001b[0m \u001b[32m━━━━━━━━━━━━━━━━━━━━\u001b[0m\u001b[37m\u001b[0m \u001b[1m5s\u001b[0m 30ms/step - loss: 0.0018\n",
            "Epoch 10/20\n",
            "\u001b[1m150/150\u001b[0m \u001b[32m━━━━━━━━━━━━━━━━━━━━\u001b[0m\u001b[37m\u001b[0m \u001b[1m6s\u001b[0m 39ms/step - loss: 0.0017\n",
            "Epoch 11/20\n",
            "\u001b[1m150/150\u001b[0m \u001b[32m━━━━━━━━━━━━━━━━━━━━\u001b[0m\u001b[37m\u001b[0m \u001b[1m6s\u001b[0m 39ms/step - loss: 0.0017\n",
            "Epoch 12/20\n",
            "\u001b[1m150/150\u001b[0m \u001b[32m━━━━━━━━━━━━━━━━━━━━\u001b[0m\u001b[37m\u001b[0m \u001b[1m6s\u001b[0m 39ms/step - loss: 0.0017\n",
            "Epoch 13/20\n",
            "\u001b[1m150/150\u001b[0m \u001b[32m━━━━━━━━━━━━━━━━━━━━\u001b[0m\u001b[37m\u001b[0m \u001b[1m6s\u001b[0m 39ms/step - loss: 0.0018\n",
            "Epoch 14/20\n",
            "\u001b[1m150/150\u001b[0m \u001b[32m━━━━━━━━━━━━━━━━━━━━\u001b[0m\u001b[37m\u001b[0m \u001b[1m6s\u001b[0m 39ms/step - loss: 0.0017\n",
            "Epoch 15/20\n",
            "\u001b[1m150/150\u001b[0m \u001b[32m━━━━━━━━━━━━━━━━━━━━\u001b[0m\u001b[37m\u001b[0m \u001b[1m6s\u001b[0m 38ms/step - loss: 0.0017\n",
            "Epoch 16/20\n",
            "\u001b[1m150/150\u001b[0m \u001b[32m━━━━━━━━━━━━━━━━━━━━\u001b[0m\u001b[37m\u001b[0m \u001b[1m6s\u001b[0m 39ms/step - loss: 0.0017\n",
            "Epoch 17/20\n",
            "\u001b[1m150/150\u001b[0m \u001b[32m━━━━━━━━━━━━━━━━━━━━\u001b[0m\u001b[37m\u001b[0m \u001b[1m6s\u001b[0m 39ms/step - loss: 0.0017\n",
            "Epoch 18/20\n",
            "\u001b[1m150/150\u001b[0m \u001b[32m━━━━━━━━━━━━━━━━━━━━\u001b[0m\u001b[37m\u001b[0m \u001b[1m6s\u001b[0m 40ms/step - loss: 0.0017\n",
            "Epoch 19/20\n",
            "\u001b[1m150/150\u001b[0m \u001b[32m━━━━━━━━━━━━━━━━━━━━\u001b[0m\u001b[37m\u001b[0m \u001b[1m6s\u001b[0m 39ms/step - loss: 0.0017\n",
            "Epoch 20/20\n",
            "\u001b[1m150/150\u001b[0m \u001b[32m━━━━━━━━━━━━━━━━━━━━\u001b[0m\u001b[37m\u001b[0m \u001b[1m6s\u001b[0m 39ms/step - loss: 0.0017\n"
          ]
        },
        {
          "data": {
            "text/plain": [
              "<keras.src.callbacks.history.History at 0x2677fd10ad0>"
            ]
          },
          "execution_count": 25,
          "metadata": {},
          "output_type": "execute_result"
        }
      ],
      "source": [
        "modelo = Sequential()\n",
        "modelo.add(LSTM(units=na, input_shape=dim_entrada))\n",
        "modelo.add(Dense(units=dim_salida))\n",
        "# la salida es un vector de 20 valores, los 20 días que queremos predecir\n",
        "modelo.compile(optimizer='rmsprop', loss='mse')\n",
        "modelo.fit(X_train,Y_train,epochs=20,batch_size=32)"
      ]
    },
    {
      "cell_type": "markdown",
      "metadata": {
        "id": "U0ytFVN5dJGw"
      },
      "source": [
        "## Validación (predicción del valor de las acciones)"
      ]
    },
    {
      "cell_type": "code",
      "execution_count": 26,
      "metadata": {
        "id": "w-gqkAOldOIA"
      },
      "outputs": [],
      "source": [
        "x_test_escalado = sc.transform(set_validacion)"
      ]
    },
    {
      "cell_type": "code",
      "execution_count": 27,
      "metadata": {
        "id": "gwU98Yoog1US"
      },
      "outputs": [],
      "source": [
        "X_test_long_term = []\n",
        "Y_test_long_term = []"
      ]
    },
    {
      "cell_type": "code",
      "execution_count": 28,
      "metadata": {
        "id": "4P6nPRDVgbYC"
      },
      "outputs": [],
      "source": [
        "m = len(x_test_escalado) - num_dias_pred\n",
        "for j in range(0, num_dias_pred):\n",
        "    X_test = []\n",
        "    Y_test = []\n",
        "    for i in range(time_step,m):\n",
        "        # X: bloques de \"time_step\" datos: 0-time_step, 1-time_step+1, 2-time_step+2, etc\n",
        "        X_test.append(x_test_escalado[i-time_step:i,0])\n",
        "        # Y: el siguiente dato\n",
        "        Y_test.append(x_test_escalado[i+j,0])\n",
        "    X_test_long_term.append(X_test)\n",
        "    Y_test_long_term.append(Y_test)"
      ]
    },
    {
      "cell_type": "code",
      "execution_count": 29,
      "metadata": {
        "id": "w2d73z0em8BQ"
      },
      "outputs": [],
      "source": [
        "X_test, Y_test = np.array(X_test_long_term), np.array(Y_test_long_term)"
      ]
    },
    {
      "cell_type": "code",
      "execution_count": 30,
      "metadata": {
        "colab": {
          "base_uri": "https://localhost:8080/"
        },
        "id": "Ifn2EpT8nhqh",
        "outputId": "f2a9f3e0-0fb6-45b4-ef03-03cf4dec9a2a"
      },
      "outputs": [
        {
          "data": {
            "text/plain": [
              "((20, 390, 100), (20, 390))"
            ]
          },
          "execution_count": 30,
          "metadata": {},
          "output_type": "execute_result"
        }
      ],
      "source": [
        "X_test.shape, Y_test.shape"
      ]
    },
    {
      "cell_type": "code",
      "execution_count": 31,
      "metadata": {
        "id": "_iPpQdTenyUz"
      },
      "outputs": [],
      "source": [
        "X_test = np.transpose(X_test, (1, 2, 0))"
      ]
    },
    {
      "cell_type": "code",
      "execution_count": 32,
      "metadata": {
        "id": "k_KSJQcfZiBQ"
      },
      "outputs": [],
      "source": [
        "Y_test = np.transpose(Y_test, (1, 0))"
      ]
    },
    {
      "cell_type": "code",
      "execution_count": 33,
      "metadata": {
        "colab": {
          "base_uri": "https://localhost:8080/"
        },
        "id": "131pacyLnHwE",
        "outputId": "1dc3f574-9a56-4224-c3fa-3bbd30423a51"
      },
      "outputs": [
        {
          "data": {
            "text/plain": [
              "((390, 100, 20), (390, 20))"
            ]
          },
          "execution_count": 33,
          "metadata": {},
          "output_type": "execute_result"
        }
      ],
      "source": [
        "X_test.shape, Y_test.shape"
      ]
    },
    {
      "cell_type": "code",
      "execution_count": null,
      "metadata": {
        "colab": {
          "base_uri": "https://localhost:8080/"
        },
        "id": "nAdPYWMgdaFM",
        "outputId": "c795d05b-f49a-4895-be29-65d3b957ecf9"
      },
      "outputs": [
        {
          "name": "stdout",
          "output_type": "stream",
          "text": [
            "\u001b[1m13/13\u001b[0m \u001b[32m━━━━━━━━━━━━━━━━━━━━\u001b[0m\u001b[37m\u001b[0m \u001b[1m1s\u001b[0m 40ms/step\n"
          ]
        }
      ],
      "source": [
        "prediccion = modelo.predict(X_test)\n",
        "prediccion = sc.inverse_transform(prediccion) # revertir la normalización que se aplicó a los datos durante el proceso de entrenamiento\n",
        "Y_test = sc.inverse_transform(Y_test)"
      ]
    },
    {
      "cell_type": "code",
      "execution_count": 35,
      "metadata": {
        "colab": {
          "base_uri": "https://localhost:8080/"
        },
        "id": "J4lDU4_Z-BQL",
        "outputId": "a0fe2e94-852b-4181-f90e-a4132ac7974a"
      },
      "outputs": [
        {
          "name": "stdout",
          "output_type": "stream",
          "text": [
            "[4.364497028684834, 4.249892914727404, 4.32629548032507, 4.321520210677177, 4.259443423277965, 4.302419801257951, 4.302419769195188, 4.273768595111181, 4.273768371073532, 4.307194900120611, 4.326295747882628, 4.321520541259738, 4.335845553342808, 4.3119699380529735, 4.302419801257951, 4.321520551243702, 4.42179881313144, 4.412248048843614, 4.39314738242129, 4.407472811543287]\n",
            "[4.445335, 4.4229107, 4.4577336, 4.470106, 4.4626317, 4.443757, 4.4527802, 4.4625673, 4.4891725, 4.4361424, 4.4366183, 4.454931, 4.4443073, 4.4543753, 4.442234, 4.4246736, 4.439932, 4.4397616, 4.4141545, 4.3727727]\n"
          ]
        }
      ],
      "source": [
        "n = 300\n",
        "print(list(Y_test[n,:]))\n",
        "print(list(prediccion[n,:]))"
      ]
    },
    {
      "cell_type": "code",
      "execution_count": 36,
      "metadata": {
        "id": "_qk70QoFvGYN"
      },
      "outputs": [],
      "source": [
        "valores_reales = (list(Y_test[:,num_dias_pred-1]))\n",
        "predicciones = (list(prediccion[:,num_dias_pred-1]))"
      ]
    },
    {
      "cell_type": "code",
      "execution_count": 37,
      "metadata": {
        "colab": {
          "base_uri": "https://localhost:8080/"
        },
        "id": "4kt7Apyyt1tQ",
        "outputId": "d7f52176-9ca1-4bbe-c420-4658c4846984"
      },
      "outputs": [
        {
          "name": "stdout",
          "output_type": "stream",
          "text": [
            "390\n",
            "390\n"
          ]
        }
      ],
      "source": [
        "print(len(valores_reales))\n",
        "print(len(predicciones))"
      ]
    },
    {
      "cell_type": "markdown",
      "metadata": {
        "id": "lYMG2JLLdgic"
      },
      "source": [
        "## Graficar resultados"
      ]
    },
    {
      "cell_type": "code",
      "execution_count": 38,
      "metadata": {
        "colab": {
          "base_uri": "https://localhost:8080/",
          "height": 449
        },
        "id": "2wIjgYMkb2-u",
        "outputId": "71928442-b97a-4c6c-ab9e-692ffe8532a3"
      },
      "outputs": [
        {
          "data": {
            "image/png": "[encoded data removed]",
            "text/plain": [
              "<Figure size 640x480 with 1 Axes>"
            ]
          },
          "metadata": {},
          "output_type": "display_data"
        }
      ],
      "source": [
        "graficar_predicciones(valores_reales[:],predicciones[:])"
      ]
    },
    {
      "cell_type": "code",
      "execution_count": 39,
      "metadata": {
        "colab": {
          "base_uri": "https://localhost:8080/",
          "height": 449
        },
        "id": "50mxlBVzdern",
        "outputId": "86dd7b61-ea2d-4b41-db18-ff1949ef4422"
      },
      "outputs": [
        {
          "data": {
            "image/png": "[encoded data removed]",
            "text/plain": [
              "<Figure size 640x480 with 1 Axes>"
            ]
          },
          "metadata": {},
          "output_type": "display_data"
        }
      ],
      "source": [
        "graficar_predicciones(valores_reales[num_dias_pred:],predicciones[:])"
      ]
    },
    {
      "cell_type": "markdown",
      "metadata": {
        "id": "Dzcic2v_bTs1"
      },
      "source": [
        "Este gráfico representa lo que se habría ganado (rojo) o perdido (verde) si se considera que se compró por lo predicho y se vendió por lo real"
      ]
    },
    {
      "cell_type": "code",
      "execution_count": 40,
      "metadata": {
        "colab": {
          "base_uri": "https://localhost:8080/",
          "height": 542
        },
        "id": "AqA-zoN3ZJnF",
        "outputId": "440a6d33-b955-4c72-cd28-fb96ebfd0164"
      },
      "outputs": [
        {
          "data": {
            "application/vnd.plotly.v1+json": {
              "config": {
                "plotlyServerURL": "https://plot.ly"
              },
              "data": [
                {
                  "close": [
                    3.061472055330631,
                    3.0684104296588304,
                    3.0614720582977175,
                    3.052799598073609,
                    3.0822867626263117,
                    3.113508479265789,
                    3.09442850763446,
                    3.0337194119041455,
                    3.0614719469714533,
                    3.078817536338218,
                    3.118712203907177,
                    3.089224903656823,
                    3.104835758460778,
                    3.0926939192086733,
                    3.134323126438353,
                    3.1568723657937707,
                    3.153403294234681,
                    3.1395268277580404,
                    3.153403109712521,
                    3.156872410913208,
                    3.1499338150024414,
                    3.2349267660478516,
                    3.250537506047897,
                    3.269617450074583,
                    3.2782906580847997,
                    3.262679417256518,
                    3.278290088418279,
                    3.330326557159424,
                    3.330326557159424,
                    3.32859215027634,
                    3.3181847511442157,
                    3.3216540888424753,
                    3.3077776265312377,
                    3.3216540888424753,
                    3.321654062665604,
                    3.2453340011291316,
                    3.2227850027639846,
                    3.182890418442814,
                    3.1759519690542457,
                    3.1794211864471436,
                    3.233192097143718,
                    3.179421064380761,
                    3.1776867498609316,
                    3.2019703942660787,
                    3.2349268909186235,
                    3.2470687145683126,
                    3.224519565463218,
                    3.2175812950084364,
                    3.1898284077390615,
                    3.1655447242847474,
                    3.148199776671131,
                    3.1447303955123984,
                    3.1586065349116446,
                    3.186359356237131,
                    3.174217651933144,
                    3.1707483471734736,
                    3.1551374865953106,
                    3.2037051272703176,
                    3.153403158341001,
                    3.175952120390827,
                    3.195032184847871,
                    3.1915632605362814,
                    3.1967668567164655,
                    3.189828248543674,
                    3.148199700394028,
                    3.1395268517841006,
                    3.14993410888937,
                    3.182890418442814,
                    3.1967670394593837,
                    3.1655451362000084,
                    3.1273849707015957,
                    3.1308541375723165,
                    3.1343232512116304,
                    3.1516688746477395,
                    3.1915631630980092,
                    3.1985012206890056,
                    3.243599378079656,
                    3.1967668417478587,
                    3.1776868258383755,
                    3.1794212453142014,
                    3.1724829207222847,
                    3.130854009296527,
                    3.1135085354320737,
                    3.0545340994486776,
                    3.045861329457,
                    3.035454065375771,
                    2.9764794057633535,
                    2.992090654300203,
                    3.0233122260350656,
                    3.0770831138672703,
                    3.0736139472972908,
                    3.1447303430360694,
                    3.174217704218323,
                    3.1811560753648855,
                    3.155137610037331,
                    3.122181347295462,
                    3.148199585319643,
                    3.1690139896231484,
                    3.201970453579965,
                    3.208908800181277,
                    3.2331920283832813,
                    3.212377623152202,
                    3.2071740142189205,
                    3.210642925121556,
                    3.2366613703415084,
                    3.1967668417478587,
                    3.2297231077582897,
                    3.286963100211564,
                    3.304308347510442,
                    3.304308473059642,
                    3.2973704406712083,
                    3.304308362238236,
                    3.328592300415039,
                    3.370221248814783,
                    3.3684867840133643,
                    3.373690511894634,
                    3.3546104431152344,
                    3.3979737844558198,
                    3.3883245848406993,
                    3.3464932900138553,
                    3.3173934880005578,
                    3.3464933676773274,
                    3.348311977668287,
                    3.3010249798942692,
                    3.2901123937819152,
                    3.3283059213974067,
                    3.3192122023425403,
                    3.3264870515512834,
                    3.331943358652052,
                    3.310118672608041,
                    3.301024868090511,
                    3.310118547336521,
                    3.3264871626209893,
                    3.3810495951692334,
                    3.4119683417310345,
                    3.431974411010742,
                    3.441068190904601,
                    3.417424534925996,
                    3.424699617601071,
                    3.3737746145404377,
                    3.3519497643657963,
                    3.3464934364132737,
                    3.3555870949471496,
                    3.3264872008521347,
                    3.3537683407219694,
                    3.353768378971715,
                    3.3610433162766906,
                    3.393781019639934,
                    3.3974183927667383,
                    3.421062083187096,
                    3.3846869220847036,
                    3.3846869220847036,
                    3.391962055622695,
                    3.3901432805924325,
                    3.3919619920473836,
                    3.3592246363134852,
                    3.3192121212270997,
                    3.306481002440174,
                    3.2737435157935657,
                    3.310118492172802,
                    3.290112313214127,
                    3.271924858516544,
                    3.257374823658282,
                    3.2373685455784162,
                    3.2664684907892094,
                    3.2882936310138393,
                    3.3046621250987878,
                    3.3137559124192877,
                    3.3192122281478706,
                    3.3446746173616804,
                    3.342856066929247,
                    3.3537683486938477,
                    3.3774121033404163,
                    3.513818133850901,
                    3.5556493454601976,
                    3.582930458586271,
                    3.5683804114347613,
                    3.5683804922878517,
                    3.6011178493499756,
                    3.6174864768981934,
                    3.6556804180145264,
                    3.739342484778896,
                    3.788448803474464,
                    3.813910918997782,
                    3.797542720327208,
                    3.7738990452531436,
                    3.7829923206080136,
                    3.8175487518310547,
                    3.8921177481532303,
                    3.9066672501271515,
                    3.8975736515344424,
                    3.964867251312077,
                    4.0267046604484085,
                    4.039435608417838,
                    4.083085276799009,
                    4.046710385119684,
                    4.114913787706977,
                    4.064898416236555,
                    4.042164142276531,
                    4.005789170827789,
                    3.964867457165497,
                    3.964867037706423,
                    3.9876018606781276,
                    3.969413590991538,
                    3.92394566402458,
                    4.010335756945359,
                    4.0648979374967595,
                    4.055804324850972,
                    4.1103668212890625,
                    4.174022924994542,
                    4.205850851657098,
                    4.433194180336828,
                    4.4468349107730925,
                    4.3968191866854305,
                    4.378632275398221,
                    4.387725425796853,
                    4.41955393256136,
                    4.4286472629898235,
                    4.437741125541358,
                    4.44683496538071,
                    4.451382011334936,
                    4.455928979746394,
                    4.474116249291299,
                    4.474116503330245,
                    4.474116427270954,
                    4.460475725861275,
                    4.510491295683756,
                    4.546865780946924,
                    4.555959953135877,
                    4.583240909702308,
                    4.637802922796426,
                    4.655990822774063,
                    4.68327190962165,
                    4.692365493276224,
                    4.719647109677832,
                    4.774209022521973,
                    4.81058406829834,
                    4.901521273928938,
                    4.928802581630213,
                    4.901521531048289,
                    4.901521351158326,
                    4.892427870647744,
                    4.874240321607438,
                    4.83786565549324,
                    4.792396390238709,
                    4.7469279579023524,
                    4.524131468118167,
                    4.583240909702308,
                    4.574603606978175,
                    4.488650978673264,
                    4.412248124054662,
                    4.417023490183555,
                    4.412248134613037,
                    4.426574246923322,
                    4.359721800647827,
                    4.3597216841419,
                    4.278544079799229,
                    4.2833189102488385,
                    4.254668153235623,
                    4.316745016274194,
                    4.321520210677177,
                    4.302419619769589,
                    4.374047187065384,
                    4.36449681346131,
                    4.397922992706299,
                    4.39792272758989,
                    4.397922908791118,
                    4.393147649233949,
                    4.507751454737159,
                    4.541177930842531,
                    4.54117767507986,
                    4.526851994567934,
                    4.493426230907387,
                    4.488650970724959,
                    4.488650574423686,
                    4.393147414890639,
                    4.488650704036232,
                    4.512526824043304,
                    4.5077512318569655,
                    4.526852220700887,
                    4.455224597494621,
                    4.364497028684834,
                    4.249892914727404,
                    4.32629548032507,
                    4.321520210677177,
                    4.259443423277965,
                    4.302419801257951,
                    4.302419769195188,
                    4.273768595111181,
                    4.273768371073532,
                    4.307194900120611,
                    4.326295747882628,
                    4.321520541259738,
                    4.335845553342808,
                    4.3119699380529735,
                    4.302419801257951,
                    4.321520551243702,
                    4.42179881313144,
                    4.412248048843614,
                    4.39314738242129,
                    4.407472811543287,
                    4.426574115036492,
                    4.431348715262668,
                    4.4074729505341965,
                    4.4217988027505095,
                    4.388372145263316,
                    4.374046929896587,
                    4.440899254634002,
                    4.4217985772597945,
                    4.364497028684834,
                    4.345396189884895,
                    4.374046759447949,
                    4.3883723793519005,
                    4.431348758145765,
                    4.460000260940423,
                    4.52207730627579,
                    4.584154137483908,
                    4.612804855636597,
                    4.5125266827171195,
                    4.517301952619063,
                    4.512526512145996,
                    4.555503327072937,
                    4.550728057038883,
                    4.5316274387233095,
                    4.431348758145765,
                    4.421798663495565,
                    4.450449466705322,
                    4.436124059959136,
                    4.44089937210083,
                    4.440899594850084,
                    4.4504494243751545,
                    4.450449710930576,
                    4.512526469409941,
                    4.526852120871366,
                    4.541177930842531,
                    4.522077396023534,
                    4.464775265765928,
                    4.4504496696085765,
                    4.460000251100898,
                    4.460000219661263,
                    4.4408993944779445,
                    4.383597754723954,
                    4.307195071143117,
                    4.307195127821511,
                    4.202141199220042,
                    4.197366153959977,
                    4.197365972583212,
                    4.2307921428224695,
                    4.192590627482743,
                    4.1734902280305155,
                    4.2021412100030195,
                    4.2403427568092456,
                    4.359721726695542,
                    4.311969843025431,
                    4.268993239755976,
                    4.297644541670396,
                    4.31196989596542,
                    4.335845905921545,
                    4.3406209522393855,
                    4.350171250549233,
                    4.335845947265625,
                    4.331070625891298,
                    4.354946348647113,
                    4.369271660118476,
                    4.345396518707275,
                    4.412248446802406,
                    4.393147596454955,
                    4.39792283399661,
                    4.383597341798857,
                    4.426573943808672,
                    4.483875751495361,
                    4.5316270819598055,
                    4.53162740089085,
                    4.526852047310325,
                    4.498201510916351,
                    4.488650788602201,
                    4.526851994567934,
                    4.449999809265137,
                    4.324999809265137,
                    4.414999961853027,
                    4.46999979019165,
                    4.375,
                    4.340000152587891,
                    4.34499979019165,
                    4.389999866485596,
                    4.380000114440918,
                    4.389999866485596,
                    4.480000019073486,
                    4.519999980926514,
                    4.534999847412109
                  ],
                  "high": [
                    2.922865390777588,
                    2.9134347438812256,
                    2.9339897632598877,
                    2.956653594970703,
                    2.965627908706665,
                    2.985398769378662,
                    3.007298469543457,
                    3.0344338417053223,
                    3.0779895782470703,
                    3.110645294189453,
                    3.1275007724761963,
                    3.1340219974517822,
                    3.136035919189453,
                    3.1421220302581787,
                    3.1261677742004395,
                    3.0733659267425537,
                    3.034482717514038,
                    3.0141122341156006,
                    3.006164789199829,
                    3.007929563522339,
                    3.0312845706939697,
                    3.048326253890991,
                    3.0542101860046387,
                    3.0527870655059814,
                    3.0675292015075684,
                    3.0915889739990234,
                    3.0935027599334717,
                    3.061717987060547,
                    3.0593643188476562,
                    3.0669002532958984,
                    3.092226266860962,
                    3.0895519256591797,
                    3.09641695022583,
                    3.092926263809204,
                    3.113084554672241,
                    3.1351099014282227,
                    3.144092082977295,
                    3.1405317783355713,
                    3.145362138748169,
                    3.148819923400879,
                    3.146221160888672,
                    3.1905553340911865,
                    3.2207601070404053,
                    3.245959520339966,
                    3.2621450424194336,
                    3.2601609230041504,
                    3.26633620262146,
                    3.2965757846832275,
                    3.3101115226745605,
                    3.3149631023406982,
                    3.3103787899017334,
                    3.308917284011841,
                    3.2994425296783447,
                    3.3018569946289062,
                    3.302415132522583,
                    3.260371208190918,
                    3.227553129196167,
                    3.189289093017578,
                    3.167102813720703,
                    3.1588916778564453,
                    3.1855576038360596,
                    3.1711373329162598,
                    3.164578676223755,
                    3.1750752925872803,
                    3.198981523513794,
                    3.2182018756866455,
                    3.2157609462738037,
                    3.2106730937957764,
                    3.192502975463867,
                    3.169956684112549,
                    3.1491312980651855,
                    3.1369969844818115,
                    3.138944625854492,
                    3.1557834148406982,
                    3.158525228500366,
                    3.1586902141571045,
                    3.150503158569336,
                    3.1728219985961914,
                    3.156704902648926,
                    3.1611154079437256,
                    3.173391580581665,
                    3.177715301513672,
                    3.1827170848846436,
                    3.181196928024292,
                    3.157604694366455,
                    3.140861749649048,
                    3.1378378868103027,
                    3.1544127464294434,
                    3.1708056926727295,
                    3.1625442504882812,
                    3.137903928756714,
                    3.127145290374756,
                    3.123514175415039,
                    3.13144850730896,
                    3.1575868129730225,
                    3.1749744415283203,
                    3.2085299491882324,
                    3.1992833614349365,
                    3.183866262435913,
                    3.176055431365967,
                    3.1676790714263916,
                    3.140753746032715,
                    3.117931842803955,
                    3.0750813484191895,
                    3.0493483543395996,
                    3.031665563583374,
                    2.993239402770996,
                    2.983119010925293,
                    2.9960553646087646,
                    3.0333077907562256,
                    3.0525758266448975,
                    3.101412057876587,
                    3.1424317359924316,
                    3.166537284851074,
                    3.1633174419403076,
                    3.1422207355499268,
                    3.1438863277435303,
                    3.154667854309082,
                    3.177366018295288,
                    3.1920053958892822,
                    3.2120046615600586,
                    3.209667205810547,
                    3.2047829627990723,
                    3.2031354904174805,
                    3.215696334838867,
                    3.1995394229888916,
                    3.209251880645752,
                    3.244882822036743,
                    3.271871566772461,
                    3.2849812507629395,
                    3.286853313446045,
                    3.2905433177948,
                    3.304642915725708,
                    3.333672523498535,
                    3.345970392227173,
                    3.354224681854248,
                    3.3465168476104736,
                    3.3660225868225098,
                    3.3687636852264404,
                    3.346376657485962,
                    3.318876266479492,
                    3.3209688663482666,
                    3.322507858276367,
                    3.297454833984375,
                    3.2797739505767822,
                    3.292323350906372,
                    3.2937405109405518,
                    3.299382209777832,
                    3.305546522140503,
                    3.2967448234558105,
                    3.2876672744750977,
                    3.288207530975342,
                    3.297562837600708,
                    3.3326504230499268,
                    3.3669896125793457,
                    3.394871473312378,
                    3.4129185676574707,
                    3.4074149131774902,
                    3.4078426361083984,
                    3.3781166076660156,
                    3.351062059402466,
                    3.3340823650360107,
                    3.3306407928466797,
                    3.31307315826416,
                    3.320474147796631,
                    3.3243913650512695,
                    3.3311569690704346,
                    3.3531458377838135,
                    3.3659839630126953,
                    3.3856582641601562,
                    3.3744595050811768,
                    3.369002342224121,
                    3.3696138858795166,
                    3.3684213161468506,
                    3.3687021732330322,
                    3.350428581237793,
                    3.3194873332977295,
                    3.297410726547241,
                    3.268636465072632,
                    3.275341033935547,
                    3.2682266235351562,
                    3.256115674972534,
                    3.2430708408355713,
                    3.22643780708313,
                    3.2350053787231445,
                    3.2519655227661133,
                    3.2703115940093994,
                    3.284990072250366,
                    3.2954154014587402,
                    3.3144631385803223,
                    3.3222360610961914,
                    3.3316690921783447,
                    3.3486521244049072,
                    3.4324517250061035,
                    3.4947826862335205,
                    3.539353609085083,
                    3.550525188446045,
                    3.5538182258605957,
                    3.571195125579834,
                    3.585925817489624,
                    3.6126458644866943,
                    3.670501708984375,
                    3.7228620052337646,
                    3.760078191757202,
                    3.766545295715332,
                    3.7549664974212646,
                    3.753061294555664,
                    3.7694075107574463,
                    3.816895008087158,
                    3.844836473464966,
                    3.8524131774902344,
                    3.8930366039276123,
                    3.943209409713745,
                    3.971320152282715,
                    4.007627964019775,
                    4.002054214477539,
                    4.037254810333252,
                    4.022232532501221,
                    4.004049777984619,
                    3.974802017211914,
                    3.9385006427764893,
                    3.9218037128448486,
                    3.9258780479431152,
                    3.917123794555664,
                    3.889024496078491,
                    3.9255263805389404,
                    3.969942092895508,
                    3.9852142333984375,
                    4.0235748291015625,
                    4.074063301086426,
                    4.112557888031006,
                    4.249465465545654,
                    4.309601306915283,
                    4.312398910522461,
                    4.305949687957764,
                    4.306440353393555,
                    4.320765018463135,
                    4.329329967498779,
                    4.3369669914245605,
                    4.344201564788818,
                    4.349009990692139,
                    4.352997779846191,
                    4.363570213317871,
                    4.367315769195557,
                    4.369004726409912,
                    4.362644195556641,
                    4.385502815246582,
                    4.411539554595947,
                    4.426746368408203,
                    4.447354316711426,
                    4.482423782348633,
                    4.504799842834473,
                    4.5278730392456055,
                    4.541558265686035,
                    4.560539722442627,
                    4.5934834480285645,
                    4.622649669647217,
                    4.676146984100342,
                    4.708083629608154,
                    4.7099103927612305,
                    4.71279764175415,
                    4.709592342376709,
                    4.700008869171143,
                    4.679574012756348,
                    4.650658130645752,
                    4.617743492126465,
                    4.496477127075195,
                    4.479696273803711,
                    4.460733890533447,
                    4.409303665161133,
                    4.351034164428711,
                    4.329256534576416,
                    4.31559419631958,
                    4.317309856414795,
                    4.283619403839111,
                    4.2721052169799805,
                    4.2240824699401855,
                    4.208293914794922,
                    4.185043811798096,
                    4.208822250366211,
                    4.2201104164123535,
                    4.216585636138916,
                    4.254237651824951,
                    4.263806343078613,
                    4.287171840667725,
                    4.296656608581543,
                    4.301423072814941,
                    4.301077842712402,
                    4.3596110343933105,
                    4.397732257843018,
                    4.414839744567871,
                    4.416045665740967,
                    4.400276184082031,
                    4.391547679901123,
                    4.386725425720215,
                    4.335081577301025,
                    4.364176273345947,
                    4.383706569671631,
                    4.390096187591553,
                    4.403563022613525,
                    4.372772693634033,
                    4.315603733062744,
                    4.232145309448242,
                    4.236870765686035,
                    4.231292247772217,
                    4.197139263153076,
                    4.207452774047852,
                    4.210316181182861,
                    4.197544574737549,
                    4.193523406982422,
                    4.209466934204102,
                    4.225812911987305,
                    4.230795383453369,
                    4.2414045333862305,
                    4.233257293701172,
                    4.225645065307617,
                    4.232224464416504,
                    4.286460876464844,
                    4.302273750305176,
                    4.301422119140625,
                    4.309354305267334,
                    4.321703910827637,
                    4.328763008117676,
                    4.319469451904297,
                    4.323482036590576,
                    4.306850433349609,
                    4.293126583099365,
                    4.321351051330566,
                    4.321117877960205,
                    4.293063163757324,
                    4.272669315338135,
                    4.278155326843262,
                    4.286392688751221,
                    4.312148571014404,
                    4.337202072143555,
                    4.379695892333984,
                    4.42789363861084,
                    4.461937427520752,
                    4.427103519439697,
                    4.418675422668457,
                    4.410432815551758,
                    4.427584171295166,
                    4.43045711517334,
                    4.422781944274902,
                    4.369396209716797,
                    4.344192981719971,
                    4.345996379852295,
                    4.337599754333496,
                    4.337268829345703,
                    4.337052822113037,
                    4.342170715332031,
                    4.344362258911133,
                    4.377273082733154,
                    4.396895408630371,
                    4.413352966308594,
                    4.4110798835754395,
                    4.382226467132568,
                    4.3639678955078125,
                    4.359973907470703,
                    4.357066631317139,
                    4.345941066741943,
                    4.312272548675537,
                    4.259316444396973,
                    4.23732852935791,
                    4.170228958129883,
                    4.140815734863281,
                    4.126303195953369,
                    4.137866497039795,
                    4.122324466705322,
                    4.107761383056641,
                    4.117629051208496,
                    4.141971111297607,
                    4.2158989906311035,
                    4.221008777618408,
                    4.204528331756592,
                    4.213518142700195,
                    4.223057270050049,
                    4.239274501800537,
                    4.248199939727783,
                    4.25722599029541,
                    4.253362655639648,
                    4.249563694000244,
                    4.260068893432617,
                    4.2710041999816895,
                    4.263065814971924,
                    4.295314788818359,
                    4.296928882598877,
                    4.301668643951416,
                    4.295992851257324,
                    4.316049098968506
                  ],
                  "low": [
                    3.061472055330631,
                    3.0684104296588304,
                    3.0614720582977175,
                    3.052799598073609,
                    3.0822867626263117,
                    3.113508479265789,
                    3.09442850763446,
                    3.0337194119041455,
                    3.0614719469714533,
                    3.078817536338218,
                    3.118712203907177,
                    3.089224903656823,
                    3.104835758460778,
                    3.0926939192086733,
                    3.134323126438353,
                    3.1568723657937707,
                    3.153403294234681,
                    3.1395268277580404,
                    3.153403109712521,
                    3.156872410913208,
                    3.1499338150024414,
                    3.2349267660478516,
                    3.250537506047897,
                    3.269617450074583,
                    3.2782906580847997,
                    3.262679417256518,
                    3.278290088418279,
                    3.330326557159424,
                    3.330326557159424,
                    3.32859215027634,
                    3.3181847511442157,
                    3.3216540888424753,
                    3.3077776265312377,
                    3.3216540888424753,
                    3.321654062665604,
                    3.2453340011291316,
                    3.2227850027639846,
                    3.182890418442814,
                    3.1759519690542457,
                    3.1794211864471436,
                    3.233192097143718,
                    3.179421064380761,
                    3.1776867498609316,
                    3.2019703942660787,
                    3.2349268909186235,
                    3.2470687145683126,
                    3.224519565463218,
                    3.2175812950084364,
                    3.1898284077390615,
                    3.1655447242847474,
                    3.148199776671131,
                    3.1447303955123984,
                    3.1586065349116446,
                    3.186359356237131,
                    3.174217651933144,
                    3.1707483471734736,
                    3.1551374865953106,
                    3.2037051272703176,
                    3.153403158341001,
                    3.175952120390827,
                    3.195032184847871,
                    3.1915632605362814,
                    3.1967668567164655,
                    3.189828248543674,
                    3.148199700394028,
                    3.1395268517841006,
                    3.14993410888937,
                    3.182890418442814,
                    3.1967670394593837,
                    3.1655451362000084,
                    3.1273849707015957,
                    3.1308541375723165,
                    3.1343232512116304,
                    3.1516688746477395,
                    3.1915631630980092,
                    3.1985012206890056,
                    3.243599378079656,
                    3.1967668417478587,
                    3.1776868258383755,
                    3.1794212453142014,
                    3.1724829207222847,
                    3.130854009296527,
                    3.1135085354320737,
                    3.0545340994486776,
                    3.045861329457,
                    3.035454065375771,
                    2.9764794057633535,
                    2.992090654300203,
                    3.0233122260350656,
                    3.0770831138672703,
                    3.0736139472972908,
                    3.1447303430360694,
                    3.174217704218323,
                    3.1811560753648855,
                    3.155137610037331,
                    3.122181347295462,
                    3.148199585319643,
                    3.1690139896231484,
                    3.201970453579965,
                    3.208908800181277,
                    3.2331920283832813,
                    3.212377623152202,
                    3.2071740142189205,
                    3.210642925121556,
                    3.2366613703415084,
                    3.1967668417478587,
                    3.2297231077582897,
                    3.286963100211564,
                    3.304308347510442,
                    3.304308473059642,
                    3.2973704406712083,
                    3.304308362238236,
                    3.328592300415039,
                    3.370221248814783,
                    3.3684867840133643,
                    3.373690511894634,
                    3.3546104431152344,
                    3.3979737844558198,
                    3.3883245848406993,
                    3.3464932900138553,
                    3.3173934880005578,
                    3.3464933676773274,
                    3.348311977668287,
                    3.3010249798942692,
                    3.2901123937819152,
                    3.3283059213974067,
                    3.3192122023425403,
                    3.3264870515512834,
                    3.331943358652052,
                    3.310118672608041,
                    3.301024868090511,
                    3.310118547336521,
                    3.3264871626209893,
                    3.3810495951692334,
                    3.4119683417310345,
                    3.431974411010742,
                    3.441068190904601,
                    3.417424534925996,
                    3.424699617601071,
                    3.3737746145404377,
                    3.3519497643657963,
                    3.3464934364132737,
                    3.3555870949471496,
                    3.3264872008521347,
                    3.3537683407219694,
                    3.353768378971715,
                    3.3610433162766906,
                    3.393781019639934,
                    3.3974183927667383,
                    3.421062083187096,
                    3.3846869220847036,
                    3.3846869220847036,
                    3.391962055622695,
                    3.3901432805924325,
                    3.3919619920473836,
                    3.3592246363134852,
                    3.3192121212270997,
                    3.306481002440174,
                    3.2737435157935657,
                    3.310118492172802,
                    3.290112313214127,
                    3.271924858516544,
                    3.257374823658282,
                    3.2373685455784162,
                    3.2664684907892094,
                    3.2882936310138393,
                    3.3046621250987878,
                    3.3137559124192877,
                    3.3192122281478706,
                    3.3446746173616804,
                    3.342856066929247,
                    3.3537683486938477,
                    3.3774121033404163,
                    3.513818133850901,
                    3.5556493454601976,
                    3.582930458586271,
                    3.5683804114347613,
                    3.5683804922878517,
                    3.6011178493499756,
                    3.6174864768981934,
                    3.6556804180145264,
                    3.739342484778896,
                    3.788448803474464,
                    3.813910918997782,
                    3.797542720327208,
                    3.7738990452531436,
                    3.7829923206080136,
                    3.8175487518310547,
                    3.8921177481532303,
                    3.9066672501271515,
                    3.8975736515344424,
                    3.964867251312077,
                    4.0267046604484085,
                    4.039435608417838,
                    4.083085276799009,
                    4.046710385119684,
                    4.114913787706977,
                    4.064898416236555,
                    4.042164142276531,
                    4.005789170827789,
                    3.964867457165497,
                    3.964867037706423,
                    3.9876018606781276,
                    3.969413590991538,
                    3.92394566402458,
                    4.010335756945359,
                    4.0648979374967595,
                    4.055804324850972,
                    4.1103668212890625,
                    4.174022924994542,
                    4.205850851657098,
                    4.433194180336828,
                    4.4468349107730925,
                    4.3968191866854305,
                    4.378632275398221,
                    4.387725425796853,
                    4.41955393256136,
                    4.4286472629898235,
                    4.437741125541358,
                    4.44683496538071,
                    4.451382011334936,
                    4.455928979746394,
                    4.474116249291299,
                    4.474116503330245,
                    4.474116427270954,
                    4.460475725861275,
                    4.510491295683756,
                    4.546865780946924,
                    4.555959953135877,
                    4.583240909702308,
                    4.637802922796426,
                    4.655990822774063,
                    4.68327190962165,
                    4.692365493276224,
                    4.719647109677832,
                    4.774209022521973,
                    4.81058406829834,
                    4.901521273928938,
                    4.928802581630213,
                    4.901521531048289,
                    4.901521351158326,
                    4.892427870647744,
                    4.874240321607438,
                    4.83786565549324,
                    4.792396390238709,
                    4.7469279579023524,
                    4.524131468118167,
                    4.583240909702308,
                    4.574603606978175,
                    4.488650978673264,
                    4.412248124054662,
                    4.417023490183555,
                    4.412248134613037,
                    4.426574246923322,
                    4.359721800647827,
                    4.3597216841419,
                    4.278544079799229,
                    4.2833189102488385,
                    4.254668153235623,
                    4.316745016274194,
                    4.321520210677177,
                    4.302419619769589,
                    4.374047187065384,
                    4.36449681346131,
                    4.397922992706299,
                    4.39792272758989,
                    4.397922908791118,
                    4.393147649233949,
                    4.507751454737159,
                    4.541177930842531,
                    4.54117767507986,
                    4.526851994567934,
                    4.493426230907387,
                    4.488650970724959,
                    4.488650574423686,
                    4.393147414890639,
                    4.488650704036232,
                    4.512526824043304,
                    4.5077512318569655,
                    4.526852220700887,
                    4.455224597494621,
                    4.364497028684834,
                    4.249892914727404,
                    4.32629548032507,
                    4.321520210677177,
                    4.259443423277965,
                    4.302419801257951,
                    4.302419769195188,
                    4.273768595111181,
                    4.273768371073532,
                    4.307194900120611,
                    4.326295747882628,
                    4.321520541259738,
                    4.335845553342808,
                    4.3119699380529735,
                    4.302419801257951,
                    4.321520551243702,
                    4.42179881313144,
                    4.412248048843614,
                    4.39314738242129,
                    4.407472811543287,
                    4.426574115036492,
                    4.431348715262668,
                    4.4074729505341965,
                    4.4217988027505095,
                    4.388372145263316,
                    4.374046929896587,
                    4.440899254634002,
                    4.4217985772597945,
                    4.364497028684834,
                    4.345396189884895,
                    4.374046759447949,
                    4.3883723793519005,
                    4.431348758145765,
                    4.460000260940423,
                    4.52207730627579,
                    4.584154137483908,
                    4.612804855636597,
                    4.5125266827171195,
                    4.517301952619063,
                    4.512526512145996,
                    4.555503327072937,
                    4.550728057038883,
                    4.5316274387233095,
                    4.431348758145765,
                    4.421798663495565,
                    4.450449466705322,
                    4.436124059959136,
                    4.44089937210083,
                    4.440899594850084,
                    4.4504494243751545,
                    4.450449710930576,
                    4.512526469409941,
                    4.526852120871366,
                    4.541177930842531,
                    4.522077396023534,
                    4.464775265765928,
                    4.4504496696085765,
                    4.460000251100898,
                    4.460000219661263,
                    4.4408993944779445,
                    4.383597754723954,
                    4.307195071143117,
                    4.307195127821511,
                    4.202141199220042,
                    4.197366153959977,
                    4.197365972583212,
                    4.2307921428224695,
                    4.192590627482743,
                    4.1734902280305155,
                    4.2021412100030195,
                    4.2403427568092456,
                    4.359721726695542,
                    4.311969843025431,
                    4.268993239755976,
                    4.297644541670396,
                    4.31196989596542,
                    4.335845905921545,
                    4.3406209522393855,
                    4.350171250549233,
                    4.335845947265625,
                    4.331070625891298,
                    4.354946348647113,
                    4.369271660118476,
                    4.345396518707275,
                    4.412248446802406,
                    4.393147596454955,
                    4.39792283399661,
                    4.383597341798857,
                    4.426573943808672,
                    4.483875751495361,
                    4.5316270819598055,
                    4.53162740089085,
                    4.526852047310325,
                    4.498201510916351,
                    4.488650788602201,
                    4.526851994567934,
                    4.449999809265137,
                    4.324999809265137,
                    4.414999961853027,
                    4.46999979019165,
                    4.375,
                    4.340000152587891,
                    4.34499979019165,
                    4.389999866485596,
                    4.380000114440918,
                    4.389999866485596,
                    4.480000019073486,
                    4.519999980926514,
                    4.534999847412109
                  ],
                  "open": [
                    2.922865390777588,
                    2.9134347438812256,
                    2.9339897632598877,
                    2.956653594970703,
                    2.965627908706665,
                    2.985398769378662,
                    3.007298469543457,
                    3.0344338417053223,
                    3.0779895782470703,
                    3.110645294189453,
                    3.1275007724761963,
                    3.1340219974517822,
                    3.136035919189453,
                    3.1421220302581787,
                    3.1261677742004395,
                    3.0733659267425537,
                    3.034482717514038,
                    3.0141122341156006,
                    3.006164789199829,
                    3.007929563522339,
                    3.0312845706939697,
                    3.048326253890991,
                    3.0542101860046387,
                    3.0527870655059814,
                    3.0675292015075684,
                    3.0915889739990234,
                    3.0935027599334717,
                    3.061717987060547,
                    3.0593643188476562,
                    3.0669002532958984,
                    3.092226266860962,
                    3.0895519256591797,
                    3.09641695022583,
                    3.092926263809204,
                    3.113084554672241,
                    3.1351099014282227,
                    3.144092082977295,
                    3.1405317783355713,
                    3.145362138748169,
                    3.148819923400879,
                    3.146221160888672,
                    3.1905553340911865,
                    3.2207601070404053,
                    3.245959520339966,
                    3.2621450424194336,
                    3.2601609230041504,
                    3.26633620262146,
                    3.2965757846832275,
                    3.3101115226745605,
                    3.3149631023406982,
                    3.3103787899017334,
                    3.308917284011841,
                    3.2994425296783447,
                    3.3018569946289062,
                    3.302415132522583,
                    3.260371208190918,
                    3.227553129196167,
                    3.189289093017578,
                    3.167102813720703,
                    3.1588916778564453,
                    3.1855576038360596,
                    3.1711373329162598,
                    3.164578676223755,
                    3.1750752925872803,
                    3.198981523513794,
                    3.2182018756866455,
                    3.2157609462738037,
                    3.2106730937957764,
                    3.192502975463867,
                    3.169956684112549,
                    3.1491312980651855,
                    3.1369969844818115,
                    3.138944625854492,
                    3.1557834148406982,
                    3.158525228500366,
                    3.1586902141571045,
                    3.150503158569336,
                    3.1728219985961914,
                    3.156704902648926,
                    3.1611154079437256,
                    3.173391580581665,
                    3.177715301513672,
                    3.1827170848846436,
                    3.181196928024292,
                    3.157604694366455,
                    3.140861749649048,
                    3.1378378868103027,
                    3.1544127464294434,
                    3.1708056926727295,
                    3.1625442504882812,
                    3.137903928756714,
                    3.127145290374756,
                    3.123514175415039,
                    3.13144850730896,
                    3.1575868129730225,
                    3.1749744415283203,
                    3.2085299491882324,
                    3.1992833614349365,
                    3.183866262435913,
                    3.176055431365967,
                    3.1676790714263916,
                    3.140753746032715,
                    3.117931842803955,
                    3.0750813484191895,
                    3.0493483543395996,
                    3.031665563583374,
                    2.993239402770996,
                    2.983119010925293,
                    2.9960553646087646,
                    3.0333077907562256,
                    3.0525758266448975,
                    3.101412057876587,
                    3.1424317359924316,
                    3.166537284851074,
                    3.1633174419403076,
                    3.1422207355499268,
                    3.1438863277435303,
                    3.154667854309082,
                    3.177366018295288,
                    3.1920053958892822,
                    3.2120046615600586,
                    3.209667205810547,
                    3.2047829627990723,
                    3.2031354904174805,
                    3.215696334838867,
                    3.1995394229888916,
                    3.209251880645752,
                    3.244882822036743,
                    3.271871566772461,
                    3.2849812507629395,
                    3.286853313446045,
                    3.2905433177948,
                    3.304642915725708,
                    3.333672523498535,
                    3.345970392227173,
                    3.354224681854248,
                    3.3465168476104736,
                    3.3660225868225098,
                    3.3687636852264404,
                    3.346376657485962,
                    3.318876266479492,
                    3.3209688663482666,
                    3.322507858276367,
                    3.297454833984375,
                    3.2797739505767822,
                    3.292323350906372,
                    3.2937405109405518,
                    3.299382209777832,
                    3.305546522140503,
                    3.2967448234558105,
                    3.2876672744750977,
                    3.288207530975342,
                    3.297562837600708,
                    3.3326504230499268,
                    3.3669896125793457,
                    3.394871473312378,
                    3.4129185676574707,
                    3.4074149131774902,
                    3.4078426361083984,
                    3.3781166076660156,
                    3.351062059402466,
                    3.3340823650360107,
                    3.3306407928466797,
                    3.31307315826416,
                    3.320474147796631,
                    3.3243913650512695,
                    3.3311569690704346,
                    3.3531458377838135,
                    3.3659839630126953,
                    3.3856582641601562,
                    3.3744595050811768,
                    3.369002342224121,
                    3.3696138858795166,
                    3.3684213161468506,
                    3.3687021732330322,
                    3.350428581237793,
                    3.3194873332977295,
                    3.297410726547241,
                    3.268636465072632,
                    3.275341033935547,
                    3.2682266235351562,
                    3.256115674972534,
                    3.2430708408355713,
                    3.22643780708313,
                    3.2350053787231445,
                    3.2519655227661133,
                    3.2703115940093994,
                    3.284990072250366,
                    3.2954154014587402,
                    3.3144631385803223,
                    3.3222360610961914,
                    3.3316690921783447,
                    3.3486521244049072,
                    3.4324517250061035,
                    3.4947826862335205,
                    3.539353609085083,
                    3.550525188446045,
                    3.5538182258605957,
                    3.571195125579834,
                    3.585925817489624,
                    3.6126458644866943,
                    3.670501708984375,
                    3.7228620052337646,
                    3.760078191757202,
                    3.766545295715332,
                    3.7549664974212646,
                    3.753061294555664,
                    3.7694075107574463,
                    3.816895008087158,
                    3.844836473464966,
                    3.8524131774902344,
                    3.8930366039276123,
                    3.943209409713745,
                    3.971320152282715,
                    4.007627964019775,
                    4.002054214477539,
                    4.037254810333252,
                    4.022232532501221,
                    4.004049777984619,
                    3.974802017211914,
                    3.9385006427764893,
                    3.9218037128448486,
                    3.9258780479431152,
                    3.917123794555664,
                    3.889024496078491,
                    3.9255263805389404,
                    3.969942092895508,
                    3.9852142333984375,
                    4.0235748291015625,
                    4.074063301086426,
                    4.112557888031006,
                    4.249465465545654,
                    4.309601306915283,
                    4.312398910522461,
                    4.305949687957764,
                    4.306440353393555,
                    4.320765018463135,
                    4.329329967498779,
                    4.3369669914245605,
                    4.344201564788818,
                    4.349009990692139,
                    4.352997779846191,
                    4.363570213317871,
                    4.367315769195557,
                    4.369004726409912,
                    4.362644195556641,
                    4.385502815246582,
                    4.411539554595947,
                    4.426746368408203,
                    4.447354316711426,
                    4.482423782348633,
                    4.504799842834473,
                    4.5278730392456055,
                    4.541558265686035,
                    4.560539722442627,
                    4.5934834480285645,
                    4.622649669647217,
                    4.676146984100342,
                    4.708083629608154,
                    4.7099103927612305,
                    4.71279764175415,
                    4.709592342376709,
                    4.700008869171143,
                    4.679574012756348,
                    4.650658130645752,
                    4.617743492126465,
                    4.496477127075195,
                    4.479696273803711,
                    4.460733890533447,
                    4.409303665161133,
                    4.351034164428711,
                    4.329256534576416,
                    4.31559419631958,
                    4.317309856414795,
                    4.283619403839111,
                    4.2721052169799805,
                    4.2240824699401855,
                    4.208293914794922,
                    4.185043811798096,
                    4.208822250366211,
                    4.2201104164123535,
                    4.216585636138916,
                    4.254237651824951,
                    4.263806343078613,
                    4.287171840667725,
                    4.296656608581543,
                    4.301423072814941,
                    4.301077842712402,
                    4.3596110343933105,
                    4.397732257843018,
                    4.414839744567871,
                    4.416045665740967,
                    4.400276184082031,
                    4.391547679901123,
                    4.386725425720215,
                    4.335081577301025,
                    4.364176273345947,
                    4.383706569671631,
                    4.390096187591553,
                    4.403563022613525,
                    4.372772693634033,
                    4.315603733062744,
                    4.232145309448242,
                    4.236870765686035,
                    4.231292247772217,
                    4.197139263153076,
                    4.207452774047852,
                    4.210316181182861,
                    4.197544574737549,
                    4.193523406982422,
                    4.209466934204102,
                    4.225812911987305,
                    4.230795383453369,
                    4.2414045333862305,
                    4.233257293701172,
                    4.225645065307617,
                    4.232224464416504,
                    4.286460876464844,
                    4.302273750305176,
                    4.301422119140625,
                    4.309354305267334,
                    4.321703910827637,
                    4.328763008117676,
                    4.319469451904297,
                    4.323482036590576,
                    4.306850433349609,
                    4.293126583099365,
                    4.321351051330566,
                    4.321117877960205,
                    4.293063163757324,
                    4.272669315338135,
                    4.278155326843262,
                    4.286392688751221,
                    4.312148571014404,
                    4.337202072143555,
                    4.379695892333984,
                    4.42789363861084,
                    4.461937427520752,
                    4.427103519439697,
                    4.418675422668457,
                    4.410432815551758,
                    4.427584171295166,
                    4.43045711517334,
                    4.422781944274902,
                    4.369396209716797,
                    4.344192981719971,
                    4.345996379852295,
                    4.337599754333496,
                    4.337268829345703,
                    4.337052822113037,
                    4.342170715332031,
                    4.344362258911133,
                    4.377273082733154,
                    4.396895408630371,
                    4.413352966308594,
                    4.4110798835754395,
                    4.382226467132568,
                    4.3639678955078125,
                    4.359973907470703,
                    4.357066631317139,
                    4.345941066741943,
                    4.312272548675537,
                    4.259316444396973,
                    4.23732852935791,
                    4.170228958129883,
                    4.140815734863281,
                    4.126303195953369,
                    4.137866497039795,
                    4.122324466705322,
                    4.107761383056641,
                    4.117629051208496,
                    4.141971111297607,
                    4.2158989906311035,
                    4.221008777618408,
                    4.204528331756592,
                    4.213518142700195,
                    4.223057270050049,
                    4.239274501800537,
                    4.248199939727783,
                    4.25722599029541,
                    4.253362655639648,
                    4.249563694000244,
                    4.260068893432617,
                    4.2710041999816895,
                    4.263065814971924,
                    4.295314788818359,
                    4.296928882598877,
                    4.301668643951416,
                    4.295992851257324,
                    4.316049098968506
                  ],
                  "type": "candlestick",
                  "x": [
                    0,
                    1,
                    2,
                    3,
                    4,
                    5,
                    6,
                    7,
                    8,
                    9,
                    10,
                    11,
                    12,
                    13,
                    14,
                    15,
                    16,
                    17,
                    18,
                    19,
                    20,
                    21,
                    22,
                    23,
                    24,
                    25,
                    26,
                    27,
                    28,
                    29,
                    30,
                    31,
                    32,
                    33,
                    34,
                    35,
                    36,
                    37,
                    38,
                    39,
                    40,
                    41,
                    42,
                    43,
                    44,
                    45,
                    46,
                    47,
                    48,
                    49,
                    50,
                    51,
                    52,
                    53,
                    54,
                    55,
                    56,
                    57,
                    58,
                    59,
                    60,
                    61,
                    62,
                    63,
                    64,
                    65,
                    66,
                    67,
                    68,
                    69,
                    70,
                    71,
                    72,
                    73,
                    74,
                    75,
                    76,
                    77,
                    78,
                    79,
                    80,
                    81,
                    82,
                    83,
                    84,
                    85,
                    86,
                    87,
                    88,
                    89,
                    90,
                    91,
                    92,
                    93,
                    94,
                    95,
                    96,
                    97,
                    98,
                    99,
                    100,
                    101,
                    102,
                    103,
                    104,
                    105,
                    106,
                    107,
                    108,
                    109,
                    110,
                    111,
                    112,
                    113,
                    114,
                    115,
                    116,
                    117,
                    118,
                    119,
                    120,
                    121,
                    122,
                    123,
                    124,
                    125,
                    126,
                    127,
                    128,
                    129,
                    130,
                    131,
                    132,
                    133,
                    134,
                    135,
                    136,
                    137,
                    138,
                    139,
                    140,
                    141,
                    142,
                    143,
                    144,
                    145,
                    146,
                    147,
                    148,
                    149,
                    150,
                    151,
                    152,
                    153,
                    154,
                    155,
                    156,
                    157,
                    158,
                    159,
                    160,
                    161,
                    162,
                    163,
                    164,
                    165,
                    166,
                    167,
                    168,
                    169,
                    170,
                    171,
                    172,
                    173,
                    174,
                    175,
                    176,
                    177,
                    178,
                    179,
                    180,
                    181,
                    182,
                    183,
                    184,
                    185,
                    186,
                    187,
                    188,
                    189,
                    190,
                    191,
                    192,
                    193,
                    194,
                    195,
                    196,
                    197,
                    198,
                    199,
                    200,
                    201,
                    202,
                    203,
                    204,
                    205,
                    206,
                    207,
                    208,
                    209,
                    210,
                    211,
                    212,
                    213,
                    214,
                    215,
                    216,
                    217,
                    218,
                    219,
                    220,
                    221,
                    222,
                    223,
                    224,
                    225,
                    226,
                    227,
                    228,
                    229,
                    230,
                    231,
                    232,
                    233,
                    234,
                    235,
                    236,
                    237,
                    238,
                    239,
                    240,
                    241,
                    242,
                    243,
                    244,
                    245,
                    246,
                    247,
                    248,
                    249,
                    250,
                    251,
                    252,
                    253,
                    254,
                    255,
                    256,
                    257,
                    258,
                    259,
                    260,
                    261,
                    262,
                    263,
                    264,
                    265,
                    266,
                    267,
                    268,
                    269,
                    270,
                    271,
                    272,
                    273,
                    274,
                    275,
                    276,
                    277,
                    278,
                    279,
                    280,
                    281,
                    282,
                    283,
                    284,
                    285,
                    286,
                    287,
                    288,
                    289,
                    290,
                    291,
                    292,
                    293,
                    294,
                    295,
                    296,
                    297,
                    298,
                    299,
                    300,
                    301,
                    302,
                    303,
                    304,
                    305,
                    306,
                    307,
                    308,
                    309,
                    310,
                    311,
                    312,
                    313,
                    314,
                    315,
                    316,
                    317,
                    318,
                    319,
                    320,
                    321,
                    322,
                    323,
                    324,
                    325,
                    326,
                    327,
                    328,
                    329,
                    330,
                    331,
                    332,
                    333,
                    334,
                    335,
                    336,
                    337,
                    338,
                    339,
                    340,
                    341,
                    342,
                    343,
                    344,
                    345,
                    346,
                    347,
                    348,
                    349,
                    350,
                    351,
                    352,
                    353,
                    354,
                    355,
                    356,
                    357,
                    358,
                    359,
                    360,
                    361,
                    362,
                    363,
                    364,
                    365,
                    366,
                    367,
                    368,
                    369,
                    370,
                    371,
                    372,
                    373,
                    374,
                    375,
                    376,
                    377,
                    378,
                    379,
                    380,
                    381,
                    382,
                    383,
                    384,
                    385,
                    386,
                    387,
                    388,
                    389
                  ]
                }
              ],
              "layout": {
                "template": {
                  "data": {
                    "bar": [
                      {
                        "error_x": {
                          "color": "#2a3f5f"
                        },
                        "error_y": {
                          "color": "#2a3f5f"
                        },
                        "marker": {
                          "line": {
                            "color": "#E5ECF6",
                            "width": 0.5
                          },
                          "pattern": {
                            "fillmode": "overlay",
                            "size": 10,
                            "solidity": 0.2
                          }
                        },
                        "type": "bar"
                      }
                    ],
                    "barpolar": [
                      {
                        "marker": {
                          "line": {
                            "color": "#E5ECF6",
                            "width": 0.5
                          },
                          "pattern": {
                            "fillmode": "overlay",
                            "size": 10,
                            "solidity": 0.2
                          }
                        },
                        "type": "barpolar"
                      }
                    ],
                    "carpet": [
                      {
                        "aaxis": {
                          "endlinecolor": "#2a3f5f",
                          "gridcolor": "white",
                          "linecolor": "white",
                          "minorgridcolor": "white",
                          "startlinecolor": "#2a3f5f"
                        },
                        "baxis": {
                          "endlinecolor": "#2a3f5f",
                          "gridcolor": "white",
                          "linecolor": "white",
                          "minorgridcolor": "white",
                          "startlinecolor": "#2a3f5f"
                        },
                        "type": "carpet"
                      }
                    ],
                    "choropleth": [
                      {
                        "colorbar": {
                          "outlinewidth": 0,
                          "ticks": ""
                        },
                        "type": "choropleth"
                      }
                    ],
                    "contour": [
                      {
                        "colorbar": {
                          "outlinewidth": 0,
                          "ticks": ""
                        },
                        "colorscale": [
                          [
                            0,
                            "#0d0887"
                          ],
                          [
                            0.1111111111111111,
                            "#46039f"
                          ],
                          [
                            0.2222222222222222,
                            "#7201a8"
                          ],
                          [
                            0.3333333333333333,
                            "#9c179e"
                          ],
                          [
                            0.4444444444444444,
                            "#bd3786"
                          ],
                          [
                            0.5555555555555556,
                            "#d8576b"
                          ],
                          [
                            0.6666666666666666,
                            "#ed7953"
                          ],
                          [
                            0.7777777777777778,
                            "#fb9f3a"
                          ],
                          [
                            0.8888888888888888,
                            "#fdca26"
                          ],
                          [
                            1,
                            "#f0f921"
                          ]
                        ],
                        "type": "contour"
                      }
                    ],
                    "contourcarpet": [
                      {
                        "colorbar": {
                          "outlinewidth": 0,
                          "ticks": ""
                        },
                        "type": "contourcarpet"
                      }
                    ],
                    "heatmap": [
                      {
                        "colorbar": {
                          "outlinewidth": 0,
                          "ticks": ""
                        },
                        "colorscale": [
                          [
                            0,
                            "#0d0887"
                          ],
                          [
                            0.1111111111111111,
                            "#46039f"
                          ],
                          [
                            0.2222222222222222,
                            "#7201a8"
                          ],
                          [
                            0.3333333333333333,
                            "#9c179e"
                          ],
                          [
                            0.4444444444444444,
                            "#bd3786"
                          ],
                          [
                            0.5555555555555556,
                            "#d8576b"
                          ],
                          [
                            0.6666666666666666,
                            "#ed7953"
                          ],
                          [
                            0.7777777777777778,
                            "#fb9f3a"
                          ],
                          [
                            0.8888888888888888,
                            "#fdca26"
                          ],
                          [
                            1,
                            "#f0f921"
                          ]
                        ],
                        "type": "heatmap"
                      }
                    ],
                    "heatmapgl": [
                      {
                        "colorbar": {
                          "outlinewidth": 0,
                          "ticks": ""
                        },
                        "colorscale": [
                          [
                            0,
                            "#0d0887"
                          ],
                          [
                            0.1111111111111111,
                            "#46039f"
                          ],
                          [
                            0.2222222222222222,
                            "#7201a8"
                          ],
                          [
                            0.3333333333333333,
                            "#9c179e"
                          ],
                          [
                            0.4444444444444444,
                            "#bd3786"
                          ],
                          [
                            0.5555555555555556,
                            "#d8576b"
                          ],
                          [
                            0.6666666666666666,
                            "#ed7953"
                          ],
                          [
                            0.7777777777777778,
                            "#fb9f3a"
                          ],
                          [
                            0.8888888888888888,
                            "#fdca26"
                          ],
                          [
                            1,
                            "#f0f921"
                          ]
                        ],
                        "type": "heatmapgl"
                      }
                    ],
                    "histogram": [
                      {
                        "marker": {
                          "pattern": {
                            "fillmode": "overlay",
                            "size": 10,
                            "solidity": 0.2
                          }
                        },
                        "type": "histogram"
                      }
                    ],
                    "histogram2d": [
                      {
                        "colorbar": {
                          "outlinewidth": 0,
                          "ticks": ""
                        },
                        "colorscale": [
                          [
                            0,
                            "#0d0887"
                          ],
                          [
                            0.1111111111111111,
                            "#46039f"
                          ],
                          [
                            0.2222222222222222,
                            "#7201a8"
                          ],
                          [
                            0.3333333333333333,
                            "#9c179e"
                          ],
                          [
                            0.4444444444444444,
                            "#bd3786"
                          ],
                          [
                            0.5555555555555556,
                            "#d8576b"
                          ],
                          [
                            0.6666666666666666,
                            "#ed7953"
                          ],
                          [
                            0.7777777777777778,
                            "#fb9f3a"
                          ],
                          [
                            0.8888888888888888,
                            "#fdca26"
                          ],
                          [
                            1,
                            "#f0f921"
                          ]
                        ],
                        "type": "histogram2d"
                      }
                    ],
                    "histogram2dcontour": [
                      {
                        "colorbar": {
                          "outlinewidth": 0,
                          "ticks": ""
                        },
                        "colorscale": [
                          [
                            0,
                            "#0d0887"
                          ],
                          [
                            0.1111111111111111,
                            "#46039f"
                          ],
                          [
                            0.2222222222222222,
                            "#7201a8"
                          ],
                          [
                            0.3333333333333333,
                            "#9c179e"
                          ],
                          [
                            0.4444444444444444,
                            "#bd3786"
                          ],
                          [
                            0.5555555555555556,
                            "#d8576b"
                          ],
                          [
                            0.6666666666666666,
                            "#ed7953"
                          ],
                          [
                            0.7777777777777778,
                            "#fb9f3a"
                          ],
                          [
                            0.8888888888888888,
                            "#fdca26"
                          ],
                          [
                            1,
                            "#f0f921"
                          ]
                        ],
                        "type": "histogram2dcontour"
                      }
                    ],
                    "mesh3d": [
                      {
                        "colorbar": {
                          "outlinewidth": 0,
                          "ticks": ""
                        },
                        "type": "mesh3d"
                      }
                    ],
                    "parcoords": [
                      {
                        "line": {
                          "colorbar": {
                            "outlinewidth": 0,
                            "ticks": ""
                          }
                        },
                        "type": "parcoords"
                      }
                    ],
                    "pie": [
                      {
                        "automargin": true,
                        "type": "pie"
                      }
                    ],
                    "scatter": [
                      {
                        "fillpattern": {
                          "fillmode": "overlay",
                          "size": 10,
                          "solidity": 0.2
                        },
                        "type": "scatter"
                      }
                    ],
                    "scatter3d": [
                      {
                        "line": {
                          "colorbar": {
                            "outlinewidth": 0,
                            "ticks": ""
                          }
                        },
                        "marker": {
                          "colorbar": {
                            "outlinewidth": 0,
                            "ticks": ""
                          }
                        },
                        "type": "scatter3d"
                      }
                    ],
                    "scattercarpet": [
                      {
                        "marker": {
                          "colorbar": {
                            "outlinewidth": 0,
                            "ticks": ""
                          }
                        },
                        "type": "scattercarpet"
                      }
                    ],
                    "scattergeo": [
                      {
                        "marker": {
                          "colorbar": {
                            "outlinewidth": 0,
                            "ticks": ""
                          }
                        },
                        "type": "scattergeo"
                      }
                    ],
                    "scattergl": [
                      {
                        "marker": {
                          "colorbar": {
                            "outlinewidth": 0,
                            "ticks": ""
                          }
                        },
                        "type": "scattergl"
                      }
                    ],
                    "scattermapbox": [
                      {
                        "marker": {
                          "colorbar": {
                            "outlinewidth": 0,
                            "ticks": ""
                          }
                        },
                        "type": "scattermapbox"
                      }
                    ],
                    "scatterpolar": [
                      {
                        "marker": {
                          "colorbar": {
                            "outlinewidth": 0,
                            "ticks": ""
                          }
                        },
                        "type": "scatterpolar"
                      }
                    ],
                    "scatterpolargl": [
                      {
                        "marker": {
                          "colorbar": {
                            "outlinewidth": 0,
                            "ticks": ""
                          }
                        },
                        "type": "scatterpolargl"
                      }
                    ],
                    "scatterternary": [
                      {
                        "marker": {
                          "colorbar": {
                            "outlinewidth": 0,
                            "ticks": ""
                          }
                        },
                        "type": "scatterternary"
                      }
                    ],
                    "surface": [
                      {
                        "colorbar": {
                          "outlinewidth": 0,
                          "ticks": ""
                        },
                        "colorscale": [
                          [
                            0,
                            "#0d0887"
                          ],
                          [
                            0.1111111111111111,
                            "#46039f"
                          ],
                          [
                            0.2222222222222222,
                            "#7201a8"
                          ],
                          [
                            0.3333333333333333,
                            "#9c179e"
                          ],
                          [
                            0.4444444444444444,
                            "#bd3786"
                          ],
                          [
                            0.5555555555555556,
                            "#d8576b"
                          ],
                          [
                            0.6666666666666666,
                            "#ed7953"
                          ],
                          [
                            0.7777777777777778,
                            "#fb9f3a"
                          ],
                          [
                            0.8888888888888888,
                            "#fdca26"
                          ],
                          [
                            1,
                            "#f0f921"
                          ]
                        ],
                        "type": "surface"
                      }
                    ],
                    "table": [
                      {
                        "cells": {
                          "fill": {
                            "color": "#EBF0F8"
                          },
                          "line": {
                            "color": "white"
                          }
                        },
                        "header": {
                          "fill": {
                            "color": "#C8D4E3"
                          },
                          "line": {
                            "color": "white"
                          }
                        },
                        "type": "table"
                      }
                    ]
                  },
                  "layout": {
                    "annotationdefaults": {
                      "arrowcolor": "#2a3f5f",
                      "arrowhead": 0,
                      "arrowwidth": 1
                    },
                    "autotypenumbers": "strict",
                    "coloraxis": {
                      "colorbar": {
                        "outlinewidth": 0,
                        "ticks": ""
                      }
                    },
                    "colorscale": {
                      "diverging": [
                        [
                          0,
                          "#8e0152"
                        ],
                        [
                          0.1,
                          "#c51b7d"
                        ],
                        [
                          0.2,
                          "#de77ae"
                        ],
                        [
                          0.3,
                          "#f1b6da"
                        ],
                        [
                          0.4,
                          "#fde0ef"
                        ],
                        [
                          0.5,
                          "#f7f7f7"
                        ],
                        [
                          0.6,
                          "#e6f5d0"
                        ],
                        [
                          0.7,
                          "#b8e186"
                        ],
                        [
                          0.8,
                          "#7fbc41"
                        ],
                        [
                          0.9,
                          "#4d9221"
                        ],
                        [
                          1,
                          "#276419"
                        ]
                      ],
                      "sequential": [
                        [
                          0,
                          "#0d0887"
                        ],
                        [
                          0.1111111111111111,
                          "#46039f"
                        ],
                        [
                          0.2222222222222222,
                          "#7201a8"
                        ],
                        [
                          0.3333333333333333,
                          "#9c179e"
                        ],
                        [
                          0.4444444444444444,
                          "#bd3786"
                        ],
                        [
                          0.5555555555555556,
                          "#d8576b"
                        ],
                        [
                          0.6666666666666666,
                          "#ed7953"
                        ],
                        [
                          0.7777777777777778,
                          "#fb9f3a"
                        ],
                        [
                          0.8888888888888888,
                          "#fdca26"
                        ],
                        [
                          1,
                          "#f0f921"
                        ]
                      ],
                      "sequentialminus": [
                        [
                          0,
                          "#0d0887"
                        ],
                        [
                          0.1111111111111111,
                          "#46039f"
                        ],
                        [
                          0.2222222222222222,
                          "#7201a8"
                        ],
                        [
                          0.3333333333333333,
                          "#9c179e"
                        ],
                        [
                          0.4444444444444444,
                          "#bd3786"
                        ],
                        [
                          0.5555555555555556,
                          "#d8576b"
                        ],
                        [
                          0.6666666666666666,
                          "#ed7953"
                        ],
                        [
                          0.7777777777777778,
                          "#fb9f3a"
                        ],
                        [
                          0.8888888888888888,
                          "#fdca26"
                        ],
                        [
                          1,
                          "#f0f921"
                        ]
                      ]
                    },
                    "colorway": [
                      "#636efa",
                      "#EF553B",
                      "#00cc96",
                      "#ab63fa",
                      "#FFA15A",
                      "#19d3f3",
                      "#FF6692",
                      "#B6E880",
                      "#FF97FF",
                      "#FECB52"
                    ],
                    "font": {
                      "color": "#2a3f5f"
                    },
                    "geo": {
                      "bgcolor": "white",
                      "lakecolor": "white",
                      "landcolor": "#E5ECF6",
                      "showlakes": true,
                      "showland": true,
                      "subunitcolor": "white"
                    },
                    "hoverlabel": {
                      "align": "left"
                    },
                    "hovermode": "closest",
                    "mapbox": {
                      "style": "light"
                    },
                    "paper_bgcolor": "white",
                    "plot_bgcolor": "#E5ECF6",
                    "polar": {
                      "angularaxis": {
                        "gridcolor": "white",
                        "linecolor": "white",
                        "ticks": ""
                      },
                      "bgcolor": "#E5ECF6",
                      "radialaxis": {
                        "gridcolor": "white",
                        "linecolor": "white",
                        "ticks": ""
                      }
                    },
                    "scene": {
                      "xaxis": {
                        "backgroundcolor": "#E5ECF6",
                        "gridcolor": "white",
                        "gridwidth": 2,
                        "linecolor": "white",
                        "showbackground": true,
                        "ticks": "",
                        "zerolinecolor": "white"
                      },
                      "yaxis": {
                        "backgroundcolor": "#E5ECF6",
                        "gridcolor": "white",
                        "gridwidth": 2,
                        "linecolor": "white",
                        "showbackground": true,
                        "ticks": "",
                        "zerolinecolor": "white"
                      },
                      "zaxis": {
                        "backgroundcolor": "#E5ECF6",
                        "gridcolor": "white",
                        "gridwidth": 2,
                        "linecolor": "white",
                        "showbackground": true,
                        "ticks": "",
                        "zerolinecolor": "white"
                      }
                    },
                    "shapedefaults": {
                      "line": {
                        "color": "#2a3f5f"
                      }
                    },
                    "ternary": {
                      "aaxis": {
                        "gridcolor": "white",
                        "linecolor": "white",
                        "ticks": ""
                      },
                      "baxis": {
                        "gridcolor": "white",
                        "linecolor": "white",
                        "ticks": ""
                      },
                      "bgcolor": "#E5ECF6",
                      "caxis": {
                        "gridcolor": "white",
                        "linecolor": "white",
                        "ticks": ""
                      }
                    },
                    "title": {
                      "x": 0.05
                    },
                    "xaxis": {
                      "automargin": true,
                      "gridcolor": "white",
                      "linecolor": "white",
                      "ticks": "",
                      "title": {
                        "standoff": 15
                      },
                      "zerolinecolor": "white",
                      "zerolinewidth": 2
                    },
                    "yaxis": {
                      "automargin": true,
                      "gridcolor": "white",
                      "linecolor": "white",
                      "ticks": "",
                      "title": {
                        "standoff": 15
                      },
                      "zerolinecolor": "white",
                      "zerolinewidth": 2
                    }
                  }
                }
              }
            }
          },
          "metadata": {},
          "output_type": "display_data"
        }
      ],
      "source": [
        "import plotly.graph_objects as go\n",
        "\n",
        "# Aquí asumo que tienes un DataFrame llamado 'df' con el índice 'Date' y las columnas 'Open', 'High', 'Low' y 'Close'\n",
        "fig = go.Figure(data=[go.Candlestick(x=list(range(0,len(predicciones))),\n",
        "                                     open=predicciones[:],\n",
        "                                     high=predicciones[:],\n",
        "                                     low=valores_reales[:],\n",
        "                                     close=valores_reales[:])])\n",
        "fig.show()\n",
        "\n",
        "# https://github.com/codificandobits/Prediccion_de_acciones_en_la_bolsa_con_redes_LSTM/blob/master/prediccion_de_acciones.py"
      ]
    },
    {
      "cell_type": "markdown",
      "metadata": {
        "id": "XmtqM7Lexy4Y"
      },
      "source": [
        "Beneficio de las transacciones alcistas:\n",
        "\n",
        "(Lo que se gana si la predicción es de subida de un 7%, se compra al precio del día y se vende a los 10 días)"
      ]
    },
    {
      "cell_type": "markdown",
      "metadata": {},
      "source": [
        "Compra: Se realiza cuando la predicción de la acción es al menos un 7% mayor que el precio real del día.\n",
        "\n",
        "Venta: Se asume que se venderá la acción después de num_dias_pred días, y se calcula el beneficio comparando el precio real dentro de esos días con el precio de compra."
      ]
    },
    {
      "cell_type": "code",
      "execution_count": 41,
      "metadata": {
        "colab": {
          "base_uri": "https://localhost:8080/"
        },
        "id": "-p1At_tswUJS",
        "outputId": "c995d89d-f393-48b1-a3f9-e853fe23228c"
      },
      "outputs": [
        {
          "name": "stdout",
          "output_type": "stream",
          "text": [
            "Día 256: Valor real dentro de 10 días 4.49, valor real hoy 4.28. Beneficio: 0.21\n",
            "Día 257: Valor real dentro de 10 días 4.51, valor real hoy 4.28. Beneficio: 0.23\n",
            "Día 258: Valor real dentro de 10 días 4.51, valor real hoy 4.25. Beneficio: 0.25\n",
            "Día 259: Valor real dentro de 10 días 4.53, valor real hoy 4.32. Beneficio: 0.21\n",
            "Día 260: Valor real dentro de 10 días 4.46, valor real hoy 4.32. Beneficio: 0.13\n",
            "Día 261: Valor real dentro de 10 días 4.36, valor real hoy 4.30. Beneficio: 0.06\n",
            "Día 262: Valor real dentro de 10 días 4.25, valor real hoy 4.37. Beneficio: -0.12\n",
            "Día 263: Valor real dentro de 10 días 4.33, valor real hoy 4.36. Beneficio: -0.04\n",
            "Beneficio total: 0.94€, número de transacciones realizadas: 8, beneficio medio por transacción 0.12€\n"
          ]
        }
      ],
      "source": [
        "beneficio = 0\n",
        "transacciones = 0\n",
        "for indice, (hoy, prediccion) in enumerate(zip(valores_reales, predicciones)):\n",
        "  if prediccion > 1.07*(hoy) and len(valores_reales)>indice + num_dias_pred: #no se intentará acceder a un índice fuera del rango de valores_reales y predicciones, ya que se necesita información de los valores futuros de valores_reales para hacer el cálculo del beneficio\n",
        "    beneficio = beneficio + (valores_reales[indice + num_dias_pred] - hoy)\n",
        "    print(f\"Día {indice}: Valor real dentro de 10 días {valores_reales[indice + num_dias_pred]:.2f}, valor real hoy {hoy:.2f}. Beneficio: {valores_reales[indice + num_dias_pred] - hoy:.2f}\")\n",
        "    transacciones +=1\n",
        "print(f\"Beneficio total: {beneficio:.2f}€, número de transacciones realizadas: {transacciones}, beneficio medio por transacción {beneficio/transacciones:.2f}€\")"
      ]
    },
    {
      "cell_type": "markdown",
      "metadata": {
        "id": "_zsEgwNTzyQC"
      },
      "source": [
        "Beneficio de las transacciones bajistas:\n",
        "\n",
        "(Lo que se gana si la predicción es de bajada de un 7%, se vende al precio del día y se compra a los 10 días)"
      ]
    },
    {
      "cell_type": "code",
      "execution_count": 42,
      "metadata": {
        "colab": {
          "base_uri": "https://localhost:8080/"
        },
        "id": "dgJArD052xzr",
        "outputId": "b3fe7129-a47e-4847-c7a6-e595126195ad"
      },
      "outputs": [
        {
          "name": "stdout",
          "output_type": "stream",
          "text": [
            "Día 27: Valor real dentro de 10 días 3.22, valor real hoy 3.33. Beneficio: 0.11\n",
            "Día 28: Valor real dentro de 10 días 3.19, valor real hoy 3.33. Beneficio: 0.14\n",
            "Día 29: Valor real dentro de 10 días 3.17, valor real hoy 3.33. Beneficio: 0.16\n",
            "Día 106: Valor real dentro de 10 días 3.32, valor real hoy 3.23. Beneficio: -0.09\n",
            "Día 107: Valor real dentro de 10 días 3.33, valor real hoy 3.29. Beneficio: -0.04\n",
            "Día 108: Valor real dentro de 10 días 3.33, valor real hoy 3.30. Beneficio: -0.03\n",
            "Día 109: Valor real dentro de 10 días 3.31, valor real hoy 3.30. Beneficio: -0.01\n",
            "Día 110: Valor real dentro de 10 días 3.30, valor real hoy 3.30. Beneficio: -0.00\n",
            "Día 117: Valor real dentro de 10 días 3.42, valor real hoy 3.40. Beneficio: -0.02\n",
            "Día 177: Valor real dentro de 10 días 4.06, valor real hoy 3.57. Beneficio: -0.50\n",
            "Día 178: Valor real dentro de 10 días 4.04, valor real hoy 3.60. Beneficio: -0.44\n",
            "Día 179: Valor real dentro de 10 días 4.01, valor real hoy 3.62. Beneficio: -0.39\n",
            "Día 180: Valor real dentro de 10 días 3.96, valor real hoy 3.66. Beneficio: -0.31\n",
            "Día 181: Valor real dentro de 10 días 3.96, valor real hoy 3.74. Beneficio: -0.23\n",
            "Día 182: Valor real dentro de 10 días 3.99, valor real hoy 3.79. Beneficio: -0.20\n",
            "Día 183: Valor real dentro de 10 días 3.97, valor real hoy 3.81. Beneficio: -0.16\n",
            "Día 184: Valor real dentro de 10 días 3.92, valor real hoy 3.80. Beneficio: -0.13\n",
            "Día 185: Valor real dentro de 10 días 4.01, valor real hoy 3.77. Beneficio: -0.24\n",
            "Día 186: Valor real dentro de 10 días 4.06, valor real hoy 3.78. Beneficio: -0.28\n",
            "Día 187: Valor real dentro de 10 días 4.06, valor real hoy 3.82. Beneficio: -0.24\n",
            "Día 188: Valor real dentro de 10 días 4.11, valor real hoy 3.89. Beneficio: -0.22\n",
            "Día 189: Valor real dentro de 10 días 4.17, valor real hoy 3.91. Beneficio: -0.27\n",
            "Día 190: Valor real dentro de 10 días 4.21, valor real hoy 3.90. Beneficio: -0.31\n",
            "Día 191: Valor real dentro de 10 días 4.43, valor real hoy 3.96. Beneficio: -0.47\n",
            "Día 192: Valor real dentro de 10 días 4.45, valor real hoy 4.03. Beneficio: -0.42\n",
            "Día 193: Valor real dentro de 10 días 4.40, valor real hoy 4.04. Beneficio: -0.36\n",
            "Día 194: Valor real dentro de 10 días 4.38, valor real hoy 4.08. Beneficio: -0.30\n",
            "Día 195: Valor real dentro de 10 días 4.39, valor real hoy 4.05. Beneficio: -0.34\n",
            "Día 196: Valor real dentro de 10 días 4.42, valor real hoy 4.11. Beneficio: -0.30\n",
            "Día 197: Valor real dentro de 10 días 4.43, valor real hoy 4.06. Beneficio: -0.36\n",
            "Día 198: Valor real dentro de 10 días 4.44, valor real hoy 4.04. Beneficio: -0.40\n",
            "Día 199: Valor real dentro de 10 días 4.45, valor real hoy 4.01. Beneficio: -0.44\n",
            "Día 200: Valor real dentro de 10 días 4.45, valor real hoy 3.96. Beneficio: -0.49\n",
            "Día 201: Valor real dentro de 10 días 4.46, valor real hoy 3.96. Beneficio: -0.49\n",
            "Día 206: Valor real dentro de 10 días 4.51, valor real hoy 4.06. Beneficio: -0.45\n",
            "Día 207: Valor real dentro de 10 días 4.55, valor real hoy 4.06. Beneficio: -0.49\n",
            "Día 208: Valor real dentro de 10 días 4.56, valor real hoy 4.11. Beneficio: -0.45\n",
            "Día 209: Valor real dentro de 10 días 4.58, valor real hoy 4.17. Beneficio: -0.41\n",
            "Día 210: Valor real dentro de 10 días 4.64, valor real hoy 4.21. Beneficio: -0.43\n",
            "Día 211: Valor real dentro de 10 días 4.66, valor real hoy 4.43. Beneficio: -0.22\n",
            "Día 212: Valor real dentro de 10 días 4.68, valor real hoy 4.45. Beneficio: -0.24\n",
            "Día 213: Valor real dentro de 10 días 4.69, valor real hoy 4.40. Beneficio: -0.30\n",
            "Día 214: Valor real dentro de 10 días 4.72, valor real hoy 4.38. Beneficio: -0.34\n",
            "Día 215: Valor real dentro de 10 días 4.77, valor real hoy 4.39. Beneficio: -0.39\n",
            "Día 216: Valor real dentro de 10 días 4.81, valor real hoy 4.42. Beneficio: -0.39\n",
            "Día 217: Valor real dentro de 10 días 4.90, valor real hoy 4.43. Beneficio: -0.47\n",
            "Día 218: Valor real dentro de 10 días 4.93, valor real hoy 4.44. Beneficio: -0.49\n",
            "Día 219: Valor real dentro de 10 días 4.90, valor real hoy 4.45. Beneficio: -0.45\n",
            "Día 220: Valor real dentro de 10 días 4.90, valor real hoy 4.45. Beneficio: -0.45\n",
            "Día 221: Valor real dentro de 10 días 4.89, valor real hoy 4.46. Beneficio: -0.44\n",
            "Día 222: Valor real dentro de 10 días 4.87, valor real hoy 4.47. Beneficio: -0.40\n",
            "Día 223: Valor real dentro de 10 días 4.84, valor real hoy 4.47. Beneficio: -0.36\n",
            "Día 224: Valor real dentro de 10 días 4.79, valor real hoy 4.47. Beneficio: -0.32\n",
            "Día 225: Valor real dentro de 10 días 4.75, valor real hoy 4.46. Beneficio: -0.29\n",
            "Día 226: Valor real dentro de 10 días 4.52, valor real hoy 4.51. Beneficio: -0.01\n",
            "Día 227: Valor real dentro de 10 días 4.58, valor real hoy 4.55. Beneficio: -0.04\n",
            "Día 228: Valor real dentro de 10 días 4.57, valor real hoy 4.56. Beneficio: -0.02\n",
            "Día 229: Valor real dentro de 10 días 4.49, valor real hoy 4.58. Beneficio: 0.09\n",
            "Día 230: Valor real dentro de 10 días 4.41, valor real hoy 4.64. Beneficio: 0.23\n",
            "Día 231: Valor real dentro de 10 días 4.42, valor real hoy 4.66. Beneficio: 0.24\n",
            "Día 232: Valor real dentro de 10 días 4.41, valor real hoy 4.68. Beneficio: 0.27\n",
            "Día 233: Valor real dentro de 10 días 4.43, valor real hoy 4.69. Beneficio: 0.27\n",
            "Día 234: Valor real dentro de 10 días 4.36, valor real hoy 4.72. Beneficio: 0.36\n",
            "Día 235: Valor real dentro de 10 días 4.36, valor real hoy 4.77. Beneficio: 0.41\n",
            "Día 236: Valor real dentro de 10 días 4.28, valor real hoy 4.81. Beneficio: 0.53\n",
            "Día 237: Valor real dentro de 10 días 4.28, valor real hoy 4.90. Beneficio: 0.62\n",
            "Día 238: Valor real dentro de 10 días 4.25, valor real hoy 4.93. Beneficio: 0.67\n",
            "Día 239: Valor real dentro de 10 días 4.32, valor real hoy 4.90. Beneficio: 0.58\n",
            "Día 240: Valor real dentro de 10 días 4.32, valor real hoy 4.90. Beneficio: 0.58\n",
            "Día 241: Valor real dentro de 10 días 4.30, valor real hoy 4.89. Beneficio: 0.59\n",
            "Día 242: Valor real dentro de 10 días 4.37, valor real hoy 4.87. Beneficio: 0.50\n",
            "Día 243: Valor real dentro de 10 días 4.36, valor real hoy 4.84. Beneficio: 0.47\n",
            "Día 244: Valor real dentro de 10 días 4.40, valor real hoy 4.79. Beneficio: 0.39\n",
            "Día 245: Valor real dentro de 10 días 4.40, valor real hoy 4.75. Beneficio: 0.35\n",
            "Día 278: Valor real dentro de 10 días 4.41, valor real hoy 4.51. Beneficio: 0.10\n",
            "Día 279: Valor real dentro de 10 días 4.39, valor real hoy 4.53. Beneficio: 0.13\n",
            "Día 316: Valor real dentro de 10 días 4.46, valor real hoy 4.58. Beneficio: 0.12\n",
            "Día 317: Valor real dentro de 10 días 4.45, valor real hoy 4.61. Beneficio: 0.16\n",
            "Día 369: Valor real dentro de 10 días 4.53, valor real hoy 4.43. Beneficio: -0.11\n",
            "Beneficio total: -8.30€, número de transacciones realizadas: 79, beneficio medio por transacción -0.11€\n"
          ]
        }
      ],
      "source": [
        "beneficio = 0\n",
        "transacciones = 0\n",
        "for indice, (hoy, prediccion) in enumerate(zip(valores_reales, predicciones)):\n",
        "  if prediccion < 0.93*(hoy) and len(valores_reales)>indice + num_dias_pred:\n",
        "    beneficio = beneficio - (valores_reales[indice + num_dias_pred] - hoy)\n",
        "    print(f\"Día {indice}: Valor real dentro de 10 días {valores_reales[indice + num_dias_pred]:.2f}, valor real hoy {hoy:.2f}. Beneficio: {hoy - valores_reales[indice + num_dias_pred]:.2f}\")\n",
        "    transacciones +=1\n",
        "print(f\"Beneficio total: {beneficio:.2f}€, número de transacciones realizadas: {transacciones}, beneficio medio por transacción {beneficio/transacciones:.2f}€\")"
      ]
    },
    {
      "cell_type": "code",
      "execution_count": 43,
      "metadata": {
        "colab": {
          "base_uri": "https://localhost:8080/"
        },
        "id": "scG1cmkWa4x5",
        "outputId": "256418b8-f597-4150-d989-bb5186eec5ae"
      },
      "outputs": [
        {
          "data": {
            "text/plain": [
              "(100, 1)"
            ]
          },
          "execution_count": 43,
          "metadata": {},
          "output_type": "execute_result"
        }
      ],
      "source": [
        "ultimas_cotiz = dataset[-time_step:].iloc[:,1:2] # ultimos 100 dias\n",
        "ultimas_cotiz_escalado = sc.transform(ultimas_cotiz)\n",
        "np.array(ultimas_cotiz_escalado).shape"
      ]
    },
    {
      "cell_type": "code",
      "execution_count": 44,
      "metadata": {
        "id": "H2FhyruKmYpS"
      },
      "outputs": [],
      "source": [
        "array_repetido = np.repeat(np.array(ultimas_cotiz_escalado), num_dias_pred, axis=1).reshape(1, time_step, num_dias_pred)"
      ]
    },
    {
      "cell_type": "code",
      "execution_count": 45,
      "metadata": {
        "colab": {
          "base_uri": "https://localhost:8080/"
        },
        "id": "yzKe02hOmwn3",
        "outputId": "9032f28a-5af1-4aa4-a82b-424a7699e99e"
      },
      "outputs": [
        {
          "data": {
            "text/plain": [
              "(1, 100, 20)"
            ]
          },
          "execution_count": 45,
          "metadata": {},
          "output_type": "execute_result"
        }
      ],
      "source": [
        "array_repetido.shape"
      ]
    },
    {
      "cell_type": "code",
      "execution_count": null,
      "metadata": {
        "colab": {
          "base_uri": "https://localhost:8080/"
        },
        "id": "b4AOck7mhj2O",
        "outputId": "0fbedbf4-30f2-4092-ce6a-1dfc0da535fa"
      },
      "outputs": [
        {
          "name": "stdout",
          "output_type": "stream",
          "text": [
            "\u001b[1m1/1\u001b[0m \u001b[32m━━━━━━━━━━━━━━━━━━━━\u001b[0m\u001b[37m\u001b[0m \u001b[1m0s\u001b[0m 75ms/step\n"
          ]
        }
      ],
      "source": [
        "ultima_prediccion = modelo.predict(array_repetido) \n",
        "# La salida es una predicción del valor de la acción para los proximos 20 días\n",
        "ultima_prediccion = sc.inverse_transform(ultima_prediccion)"
      ]
    },
    {
      "cell_type": "code",
      "execution_count": 47,
      "metadata": {
        "colab": {
          "base_uri": "https://localhost:8080/"
        },
        "id": "ilQk_X-ojEF_",
        "outputId": "efe68971-93dc-4817-e4f5-8fef6fd161dc"
      },
      "outputs": [
        {
          "name": "stdout",
          "output_type": "stream",
          "text": [
            "[4.4709053 4.44803   4.4848127 4.4996123 4.4887834 4.4750385 4.475847\n",
            " 4.479608  4.514676  4.4566703 4.4464602 4.4778857 4.4707284 4.4841537\n",
            " 4.460556  4.4507484 4.457267  4.4617753 4.435836  4.396438 ]\n"
          ]
        }
      ],
      "source": [
        "print(ultima_prediccion[0])"
      ]
    },
    {
      "cell_type": "code",
      "execution_count": 48,
      "metadata": {
        "colab": {
          "base_uri": "https://localhost:8080/"
        },
        "id": "fNh62SVWnTr1",
        "outputId": "226bb126-16a5-4759-9468-3abebd1959fa"
      },
      "outputs": [
        {
          "name": "stdout",
          "output_type": "stream",
          "text": [
            "4.396438\n"
          ]
        }
      ],
      "source": [
        "predicho = ultima_prediccion[0][num_dias_pred-1]\n",
        "print(predicho)"
      ]
    },
    {
      "cell_type": "code",
      "execution_count": 49,
      "metadata": {
        "colab": {
          "base_uri": "https://localhost:8080/"
        },
        "id": "jdPB06J2n7wl",
        "outputId": "f0d840d8-ad45-4528-a02a-081d2853b6fa"
      },
      "outputs": [
        {
          "name": "stdout",
          "output_type": "stream",
          "text": [
            "4.5\n"
          ]
        }
      ],
      "source": [
        "ultimo = ultimas_cotiz[\"High\"].tolist()[-1] #el valor más alto de la última cotización de la acción\n",
        "print(ultimo)"
      ]
    },
    {
      "cell_type": "code",
      "execution_count": 50,
      "metadata": {
        "colab": {
          "base_uri": "https://localhost:8080/"
        },
        "id": "1aLkvZIToCOA",
        "outputId": "77497cf1-00d2-4f25-e071-0ea4bd1a3219"
      },
      "outputs": [
        {
          "name": "stdout",
          "output_type": "stream",
          "text": [
            "Porcentaje predicho para dentro de 20 días: -2.301375071207682%\n"
          ]
        }
      ],
      "source": [
        "print(f\"Porcentaje predicho para dentro de {num_dias_pred} días: {100*(predicho-ultimo)/ultimo}%\") #porcentaje de cambio\n",
        "if 100*(predicho-ultimo)/ultimo > 10: #si el modelo predice que el precio aumentará más del 10% en los próximos 20 dias, me imprime el mensaje\n",
        "  print(\"¡Compra insensato!\")"
      ]
    }
  ],
  "metadata": {
    "accelerator": "TPU",
    "colab": {
      "provenance": []
    },
    "kernelspec": {
      "display_name": "base",
      "language": "python",
      "name": "python3"
    },
    "language_info": {
      "codemirror_mode": {
        "name": "ipython",
        "version": 3
      },
      "file_extension": ".py",
      "mimetype": "text/x-python",
      "name": "python",
      "nbconvert_exporter": "python",
      "pygments_lexer": "ipython3",
      "version": "3.11.5"
    }
  },
  "nbformat": 4,
  "nbformat_minor": 0
}
