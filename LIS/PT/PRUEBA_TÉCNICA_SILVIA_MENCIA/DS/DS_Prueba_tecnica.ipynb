{
 "cells": [
  {
   "cell_type": "markdown",
   "id": "91a4d198",
   "metadata": {},
   "source": [
    "# Prueba Técnica DS\n",
    "\n",
    "El proposito de esta prueba técnica es comprobar si el candidato posee conocimientos de Python (básico y aplicados a ML). Desde Python 3, aconsejamos usar las siguientes librerias (salvo que se indique lo contrario): **numpy, pandas, matplotlib**\n",
    "\n"
   ]
  },
  {
   "cell_type": "markdown",
   "id": "e294cb01",
   "metadata": {},
   "source": [
    "## Bloque 1: Python general"
   ]
  },
  {
   "cell_type": "markdown",
   "id": "c28d98a3",
   "metadata": {},
   "source": [
    "### 1.1: Escribe una función que te devuelva una matriz de números aleatorios entre 1 y 100 con 2 decimales. El número de filas y columnas de la matriz será determinado por sendos parámetros. Utiliza la función para crear una matriz de 10 filas y 7 columnas.\n",
    "<font color=\"#9E1B32\">**(No utilices NUMPY ni PANDAS en este apartado 1.1, en los demás puedes usarlo)**</font>\n"
   ]
  },
  {
   "cell_type": "code",
   "execution_count": null,
   "metadata": {},
   "outputs": [],
   "source": []
  },
  {
   "cell_type": "markdown",
   "metadata": {},
   "source": [
    "### 1.2: Normaliza los elementos de la matriz anterior, de modo que todos los valores se encuentren entre 0 y 1\n"
   ]
  },
  {
   "cell_type": "code",
   "execution_count": null,
   "metadata": {},
   "outputs": [],
   "source": []
  },
  {
   "cell_type": "markdown",
   "metadata": {},
   "source": [
    "### 1.3: A partir de la matriz normalizada, filtra todos aquellos valores comprendidos entre 0.10 y 0.90\n",
    "El resultado debe ser un vector con dichos valores ordenados descendentemente"
   ]
  },
  {
   "cell_type": "code",
   "execution_count": null,
   "metadata": {},
   "outputs": [],
   "source": []
  },
  {
   "cell_type": "markdown",
   "metadata": {},
   "source": [
    "## Bloque 2: Exploración de Datos"
   ]
  },
  {
   "cell_type": "markdown",
   "id": "22db0535",
   "metadata": {},
   "source": [
    "Se dispone de un conjunto de datos que contiene observaciones de vuelos nacionales estadounidenses en 2023, almacenado en el fichero vuelos.csv,  que consta de los siguientes campos:\n",
    "\n",
    "* Fecha: La fecha del vuelo, en formato YYYY-MM-DD\n",
    "* Compañía: La abreviatura de dos letras de la compañía aérea.\n",
    "* AeropuertoOrigenID: Identificador numérico único del aeropuerto de salida.\n",
    "* AeropuertoOrigen: El nombre completo del aeropuerto de salida\n",
    "* AeropuertoDestinoID: Identificador numérico único del aeropuerto de destino\n",
    "* AeropuertoDestino: El nombre completo del aeropuerto de destino\n",
    "* HoraSalidaProgramada: La hora de salida programada\n",
    "* RetrasoSalida: El número de minutos que se retrasó la salida (los vuelos que salieron antes de lo previsto tienen un valor negativo)\n",
    "* SalidaTarde: Un indicador binario de que la salida se retrasó más de 15 minutos (y por lo tanto se considera \"tarde\"). Si se retrasa menos, se considera \"puntual\".\n",
    "* HoraLlegadaProgramada: La hora de llegada programada\n",
    "* RetrasoLlegada: El número de minutos que se retrasó la llegada (el vuelo que llegó antes de lo previsto tiene un valor negativo)\n",
    "* LlegadaTarde: Un indicador binario de que la llegada se retrasó más de 15 minutos (y por lo tanto se considera \"tarde\"). Si se retrasa menos, se considera \"puntual\".\n",
    "* Cancelado: Un indicador binario que indica si l vuelo fue cancelado\n",
    "\n",
    "## El reto consiste en explorar los datos de los vuelos para analizar los posibles factores que afectan a los retrasos en la salida o llegada.\n",
    "\n",
    "### 2.1 Empezaremos por limpiar los datos.\n",
    "* Identifica cualquier dato nulo o faltante, y tratalo convenientemente.\n",
    "* Identifica y elimina cualquier valor atípico (outliers) en las columnas que determinan los retrasos de llegada y salida.\n",
    "### 2.2 Utilice estadísticas, funciones de agregación y visualizaciones para responder a las siguientes preguntas:\n",
    "* ¿Cuáles son los retrasos medios de salida y llegada?\n",
    "* ¿Cómo se comportan las compañías aéreas en cuanto a los retrasos de llegada y salida medios se refiere?\n",
    "* ¿Qué aeropuerto tiene el mayor número de retrasos de salida?\n",
    "\n",
    "<font color=\"#9E1B32\">**(Justifica y explica todas tus respuestas y acciones, con comentarios apropiados.)**</font>\n",
    "\n"
   ]
  },
  {
   "cell_type": "code",
   "execution_count": null,
   "metadata": {},
   "outputs": [],
   "source": []
  }
 ],
 "metadata": {
  "kernelspec": {
   "display_name": "Python 3 (ipykernel)",
   "language": "python",
   "name": "python3"
  },
  "language_info": {
   "codemirror_mode": {
    "name": "ipython",
    "version": 3
   },
   "file_extension": ".py",
   "mimetype": "text/x-python",
   "name": "python",
   "nbconvert_exporter": "python",
   "pygments_lexer": "ipython3",
   "version": "3.9.13"
  }
 },
 "nbformat": 4,
 "nbformat_minor": 5
}
