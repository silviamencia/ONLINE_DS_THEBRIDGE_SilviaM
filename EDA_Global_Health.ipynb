{
  "nbformat": 4,
  "nbformat_minor": 0,
  "metadata": {
    "colab": {
      "provenance": []
    },
    "kernelspec": {
      "name": "python3",
      "display_name": "Python 3"
    },
    "language_info": {
      "name": "python"
    }
  },
  "cells": [
    {
      "cell_type": "markdown",
      "source": [
        "# **ESTADÍSTICAS SALUD GLOBAL**"
      ],
      "metadata": {
        "id": "2nnaNeuxjZ65"
      }
    },
    {
      "cell_type": "markdown",
      "source": [
        "Este conjunto de datos ofrece estadísticas sobre la salud global, con un enfoque en diversas enfermedades, tratamientos y resultados. Los datos abarcan múltiples países y años. Me gustaría hacer un análisis de estos datos para ver tipos de enfermedades por país y región del mundo y por sexo, teniendo también en cuenta el acceso a la Sanidad en cada uno de los países, dónde viven, y también hacer una comparativa por continentes."
      ],
      "metadata": {
        "id": "g5SrF-7Vg3hD"
      }
    },
    {
      "cell_type": "markdown",
      "source": [
        "**Country**: Nombre del país donde se registraron los datos de salud.\n",
        "\n",
        "**Year**: Año en que se recopilaron los datos.\n",
        "\n",
        "**Disease Name**: Nombre de la enfermedad o condición de salud analizada.\n",
        "\n",
        "**Prevalence Rate (%)**: Porcentaje de la población afectada por la enfermedad.\n",
        "\n",
        "**Incidence Rate (%)**: Porcentaje de casos nuevos o recién diagnosticados.\n",
        "\n",
        "**Mortality Rate (%)**: Porcentaje de la población afectada que fallece a causa de la enfermedad.\n",
        "\n",
        "**Age Group**: Rango de edad más afectado por la enfermedad.\n",
        "\n",
        "**Gender:** Género(s) afectados por la enfermedad (Masculino, Femenino, Ambos).\n",
        "\n",
        "**Population Affected**: Número total de personas afectadas por la enfermedad.\n",
        "\n",
        "**Healthcare Access (%)**: Porcentaje de la población con acceso a servicios de salud.\n",
        "\n",
        "**Doctors per 1000**: Número de médicos por cada 1000 habitantes.\n",
        "\n",
        "**Average Treatment Cost (USD)**:Costo promedio del tratamiento en dólares estadounidenses.\n",
        "\n",
        "**Availability of Vaccines/Treatment**: Disponibilidad de vacunas o tratamientos.\n",
        "\n",
        "**Recovery Rate (%)**: Porcentaje de personas que se recuperan de la enfermedad.\n",
        "\n",
        "**Per Capita Income (USD)**: Ingreso promedio por persona en el país.\n",
        "\n",
        "**Education Index:** Nivel educativo promedio en el país.\n",
        "\n",
        "**Urbanization Rate (%):** Porcentaje de la población que vive en zonas urbanas."
      ],
      "metadata": {
        "id": "98R502IAOLMT"
      }
    },
    {
      "cell_type": "code",
      "source": [
        "import pandas as pd\n",
        "import os\n",
        "import numpy as np\n",
        "import matplotlib.pyplot as plt\n",
        "import seaborn as sns"
      ],
      "metadata": {
        "id": "mhuOAiePe8mt"
      },
      "execution_count": 95,
      "outputs": []
    },
    {
      "cell_type": "code",
      "source": [
        "os.chdir(r\"/content/sample_data/\")\n",
        "df = pd.read_csv(\"Global_Health_Statistics.csv\")"
      ],
      "metadata": {
        "id": "JXRHY97_osrA"
      },
      "execution_count": 96,
      "outputs": []
    },
    {
      "cell_type": "code",
      "source": [
        "df.head()"
      ],
      "metadata": {
        "colab": {
          "base_uri": "https://localhost:8080/",
          "height": 296
        },
        "id": "oUHx3go9fCzM",
        "outputId": "284444e8-6591-47cb-f998-b54d1d363f4f"
      },
      "execution_count": 97,
      "outputs": [
        {
          "output_type": "execute_result",
          "data": {
            "text/plain": [
              "     Country  Year         Disease Name  Prevalence Rate (%)  \\\n",
              "0      Italy  2013              Malaria                 0.95   \n",
              "1     France  2002                Ebola                12.46   \n",
              "2     Turkey  2015             COVID-19                 0.91   \n",
              "3  Indonesia  2011  Parkinson's Disease                 4.68   \n",
              "4      Italy  2013         Tuberculosis                 0.83   \n",
              "\n",
              "   Incidence Rate (%)  Mortality Rate (%) Age Group Gender  \\\n",
              "0                1.55                8.42      0-18   Male   \n",
              "1                8.63                8.75       61+   Male   \n",
              "2                2.35                6.22     36-60   Male   \n",
              "3                6.29                3.99      0-18  Other   \n",
              "4               13.59                7.01       61+   Male   \n",
              "\n",
              "   Population Affected  Healthcare Access (%)  Doctors per 1000  \\\n",
              "0               471007                  57.74              3.34   \n",
              "1               634318                  89.21              1.33   \n",
              "2               154878                  56.41              4.07   \n",
              "3               446224                  85.20              3.18   \n",
              "4               472908                  67.00              4.61   \n",
              "\n",
              "   Hospital Beds per 1000 Treatment Type  Average Treatment Cost (USD)  \\\n",
              "0                    7.58     Medication                         21064   \n",
              "1                    5.11        Surgery                         47851   \n",
              "2                    3.49    Vaccination                         27834   \n",
              "3                    8.44        Surgery                           144   \n",
              "4                    5.90     Medication                          8908   \n",
              "\n",
              "  Availability of Vaccines/Treatment  Recovery Rate (%)  \\\n",
              "0                                 No              91.82   \n",
              "1                                Yes              76.65   \n",
              "2                                Yes              98.55   \n",
              "3                                Yes              67.35   \n",
              "4                                Yes              50.06   \n",
              "\n",
              "   Improvement in 5 Years (%)  Per Capita Income (USD)  Education Index  \\\n",
              "0                        2.16                    16886             0.79   \n",
              "1                        4.82                    80639             0.74   \n",
              "2                        5.81                    12245             0.41   \n",
              "3                        2.22                    49336             0.49   \n",
              "4                        6.93                    47701             0.50   \n",
              "\n",
              "   Urbanization Rate (%)  \n",
              "0                  86.02  \n",
              "1                  45.52  \n",
              "2                  40.20  \n",
              "3                  58.47  \n",
              "4                  48.14  "
            ],
            "text/html": [
              "\n",
              "  <div id=\"df-3fc06a1f-c506-45ea-bafe-1bed97c4a231\" class=\"colab-df-container\">\n",
              "    <div>\n",
              "<style scoped>\n",
              "    .dataframe tbody tr th:only-of-type {\n",
              "        vertical-align: middle;\n",
              "    }\n",
              "\n",
              "    .dataframe tbody tr th {\n",
              "        vertical-align: top;\n",
              "    }\n",
              "\n",
              "    .dataframe thead th {\n",
              "        text-align: right;\n",
              "    }\n",
              "</style>\n",
              "<table border=\"1\" class=\"dataframe\">\n",
              "  <thead>\n",
              "    <tr style=\"text-align: right;\">\n",
              "      <th></th>\n",
              "      <th>Country</th>\n",
              "      <th>Year</th>\n",
              "      <th>Disease Name</th>\n",
              "      <th>Prevalence Rate (%)</th>\n",
              "      <th>Incidence Rate (%)</th>\n",
              "      <th>Mortality Rate (%)</th>\n",
              "      <th>Age Group</th>\n",
              "      <th>Gender</th>\n",
              "      <th>Population Affected</th>\n",
              "      <th>Healthcare Access (%)</th>\n",
              "      <th>Doctors per 1000</th>\n",
              "      <th>Hospital Beds per 1000</th>\n",
              "      <th>Treatment Type</th>\n",
              "      <th>Average Treatment Cost (USD)</th>\n",
              "      <th>Availability of Vaccines/Treatment</th>\n",
              "      <th>Recovery Rate (%)</th>\n",
              "      <th>Improvement in 5 Years (%)</th>\n",
              "      <th>Per Capita Income (USD)</th>\n",
              "      <th>Education Index</th>\n",
              "      <th>Urbanization Rate (%)</th>\n",
              "    </tr>\n",
              "  </thead>\n",
              "  <tbody>\n",
              "    <tr>\n",
              "      <th>0</th>\n",
              "      <td>Italy</td>\n",
              "      <td>2013</td>\n",
              "      <td>Malaria</td>\n",
              "      <td>0.95</td>\n",
              "      <td>1.55</td>\n",
              "      <td>8.42</td>\n",
              "      <td>0-18</td>\n",
              "      <td>Male</td>\n",
              "      <td>471007</td>\n",
              "      <td>57.74</td>\n",
              "      <td>3.34</td>\n",
              "      <td>7.58</td>\n",
              "      <td>Medication</td>\n",
              "      <td>21064</td>\n",
              "      <td>No</td>\n",
              "      <td>91.82</td>\n",
              "      <td>2.16</td>\n",
              "      <td>16886</td>\n",
              "      <td>0.79</td>\n",
              "      <td>86.02</td>\n",
              "    </tr>\n",
              "    <tr>\n",
              "      <th>1</th>\n",
              "      <td>France</td>\n",
              "      <td>2002</td>\n",
              "      <td>Ebola</td>\n",
              "      <td>12.46</td>\n",
              "      <td>8.63</td>\n",
              "      <td>8.75</td>\n",
              "      <td>61+</td>\n",
              "      <td>Male</td>\n",
              "      <td>634318</td>\n",
              "      <td>89.21</td>\n",
              "      <td>1.33</td>\n",
              "      <td>5.11</td>\n",
              "      <td>Surgery</td>\n",
              "      <td>47851</td>\n",
              "      <td>Yes</td>\n",
              "      <td>76.65</td>\n",
              "      <td>4.82</td>\n",
              "      <td>80639</td>\n",
              "      <td>0.74</td>\n",
              "      <td>45.52</td>\n",
              "    </tr>\n",
              "    <tr>\n",
              "      <th>2</th>\n",
              "      <td>Turkey</td>\n",
              "      <td>2015</td>\n",
              "      <td>COVID-19</td>\n",
              "      <td>0.91</td>\n",
              "      <td>2.35</td>\n",
              "      <td>6.22</td>\n",
              "      <td>36-60</td>\n",
              "      <td>Male</td>\n",
              "      <td>154878</td>\n",
              "      <td>56.41</td>\n",
              "      <td>4.07</td>\n",
              "      <td>3.49</td>\n",
              "      <td>Vaccination</td>\n",
              "      <td>27834</td>\n",
              "      <td>Yes</td>\n",
              "      <td>98.55</td>\n",
              "      <td>5.81</td>\n",
              "      <td>12245</td>\n",
              "      <td>0.41</td>\n",
              "      <td>40.20</td>\n",
              "    </tr>\n",
              "    <tr>\n",
              "      <th>3</th>\n",
              "      <td>Indonesia</td>\n",
              "      <td>2011</td>\n",
              "      <td>Parkinson's Disease</td>\n",
              "      <td>4.68</td>\n",
              "      <td>6.29</td>\n",
              "      <td>3.99</td>\n",
              "      <td>0-18</td>\n",
              "      <td>Other</td>\n",
              "      <td>446224</td>\n",
              "      <td>85.20</td>\n",
              "      <td>3.18</td>\n",
              "      <td>8.44</td>\n",
              "      <td>Surgery</td>\n",
              "      <td>144</td>\n",
              "      <td>Yes</td>\n",
              "      <td>67.35</td>\n",
              "      <td>2.22</td>\n",
              "      <td>49336</td>\n",
              "      <td>0.49</td>\n",
              "      <td>58.47</td>\n",
              "    </tr>\n",
              "    <tr>\n",
              "      <th>4</th>\n",
              "      <td>Italy</td>\n",
              "      <td>2013</td>\n",
              "      <td>Tuberculosis</td>\n",
              "      <td>0.83</td>\n",
              "      <td>13.59</td>\n",
              "      <td>7.01</td>\n",
              "      <td>61+</td>\n",
              "      <td>Male</td>\n",
              "      <td>472908</td>\n",
              "      <td>67.00</td>\n",
              "      <td>4.61</td>\n",
              "      <td>5.90</td>\n",
              "      <td>Medication</td>\n",
              "      <td>8908</td>\n",
              "      <td>Yes</td>\n",
              "      <td>50.06</td>\n",
              "      <td>6.93</td>\n",
              "      <td>47701</td>\n",
              "      <td>0.50</td>\n",
              "      <td>48.14</td>\n",
              "    </tr>\n",
              "  </tbody>\n",
              "</table>\n",
              "</div>\n",
              "    <div class=\"colab-df-buttons\">\n",
              "\n",
              "  <div class=\"colab-df-container\">\n",
              "    <button class=\"colab-df-convert\" onclick=\"convertToInteractive('df-3fc06a1f-c506-45ea-bafe-1bed97c4a231')\"\n",
              "            title=\"Convert this dataframe to an interactive table.\"\n",
              "            style=\"display:none;\">\n",
              "\n",
              "  <svg xmlns=\"http://www.w3.org/2000/svg\" height=\"24px\" viewBox=\"0 -960 960 960\">\n",
              "    <path d=\"M120-120v-720h720v720H120Zm60-500h600v-160H180v160Zm220 220h160v-160H400v160Zm0 220h160v-160H400v160ZM180-400h160v-160H180v160Zm440 0h160v-160H620v160ZM180-180h160v-160H180v160Zm440 0h160v-160H620v160Z\"/>\n",
              "  </svg>\n",
              "    </button>\n",
              "\n",
              "  <style>\n",
              "    .colab-df-container {\n",
              "      display:flex;\n",
              "      gap: 12px;\n",
              "    }\n",
              "\n",
              "    .colab-df-convert {\n",
              "      background-color: #E8F0FE;\n",
              "      border: none;\n",
              "      border-radius: 50%;\n",
              "      cursor: pointer;\n",
              "      display: none;\n",
              "      fill: #1967D2;\n",
              "      height: 32px;\n",
              "      padding: 0 0 0 0;\n",
              "      width: 32px;\n",
              "    }\n",
              "\n",
              "    .colab-df-convert:hover {\n",
              "      background-color: #E2EBFA;\n",
              "      box-shadow: 0px 1px 2px rgba(60, 64, 67, 0.3), 0px 1px 3px 1px rgba(60, 64, 67, 0.15);\n",
              "      fill: #174EA6;\n",
              "    }\n",
              "\n",
              "    .colab-df-buttons div {\n",
              "      margin-bottom: 4px;\n",
              "    }\n",
              "\n",
              "    [theme=dark] .colab-df-convert {\n",
              "      background-color: #3B4455;\n",
              "      fill: #D2E3FC;\n",
              "    }\n",
              "\n",
              "    [theme=dark] .colab-df-convert:hover {\n",
              "      background-color: #434B5C;\n",
              "      box-shadow: 0px 1px 3px 1px rgba(0, 0, 0, 0.15);\n",
              "      filter: drop-shadow(0px 1px 2px rgba(0, 0, 0, 0.3));\n",
              "      fill: #FFFFFF;\n",
              "    }\n",
              "  </style>\n",
              "\n",
              "    <script>\n",
              "      const buttonEl =\n",
              "        document.querySelector('#df-3fc06a1f-c506-45ea-bafe-1bed97c4a231 button.colab-df-convert');\n",
              "      buttonEl.style.display =\n",
              "        google.colab.kernel.accessAllowed ? 'block' : 'none';\n",
              "\n",
              "      async function convertToInteractive(key) {\n",
              "        const element = document.querySelector('#df-3fc06a1f-c506-45ea-bafe-1bed97c4a231');\n",
              "        const dataTable =\n",
              "          await google.colab.kernel.invokeFunction('convertToInteractive',\n",
              "                                                    [key], {});\n",
              "        if (!dataTable) return;\n",
              "\n",
              "        const docLinkHtml = 'Like what you see? Visit the ' +\n",
              "          '<a target=\"_blank\" href=https://colab.research.google.com/notebooks/data_table.ipynb>data table notebook</a>'\n",
              "          + ' to learn more about interactive tables.';\n",
              "        element.innerHTML = '';\n",
              "        dataTable['output_type'] = 'display_data';\n",
              "        await google.colab.output.renderOutput(dataTable, element);\n",
              "        const docLink = document.createElement('div');\n",
              "        docLink.innerHTML = docLinkHtml;\n",
              "        element.appendChild(docLink);\n",
              "      }\n",
              "    </script>\n",
              "  </div>\n",
              "\n",
              "\n",
              "    <div id=\"df-45083f6a-3684-42a7-9978-f46fc5fd4f3a\">\n",
              "      <button class=\"colab-df-quickchart\" onclick=\"quickchart('df-45083f6a-3684-42a7-9978-f46fc5fd4f3a')\"\n",
              "                title=\"Suggest charts\"\n",
              "                style=\"display:none;\">\n",
              "\n",
              "<svg xmlns=\"http://www.w3.org/2000/svg\" height=\"24px\"viewBox=\"0 0 24 24\"\n",
              "     width=\"24px\">\n",
              "    <g>\n",
              "        <path d=\"M19 3H5c-1.1 0-2 .9-2 2v14c0 1.1.9 2 2 2h14c1.1 0 2-.9 2-2V5c0-1.1-.9-2-2-2zM9 17H7v-7h2v7zm4 0h-2V7h2v10zm4 0h-2v-4h2v4z\"/>\n",
              "    </g>\n",
              "</svg>\n",
              "      </button>\n",
              "\n",
              "<style>\n",
              "  .colab-df-quickchart {\n",
              "      --bg-color: #E8F0FE;\n",
              "      --fill-color: #1967D2;\n",
              "      --hover-bg-color: #E2EBFA;\n",
              "      --hover-fill-color: #174EA6;\n",
              "      --disabled-fill-color: #AAA;\n",
              "      --disabled-bg-color: #DDD;\n",
              "  }\n",
              "\n",
              "  [theme=dark] .colab-df-quickchart {\n",
              "      --bg-color: #3B4455;\n",
              "      --fill-color: #D2E3FC;\n",
              "      --hover-bg-color: #434B5C;\n",
              "      --hover-fill-color: #FFFFFF;\n",
              "      --disabled-bg-color: #3B4455;\n",
              "      --disabled-fill-color: #666;\n",
              "  }\n",
              "\n",
              "  .colab-df-quickchart {\n",
              "    background-color: var(--bg-color);\n",
              "    border: none;\n",
              "    border-radius: 50%;\n",
              "    cursor: pointer;\n",
              "    display: none;\n",
              "    fill: var(--fill-color);\n",
              "    height: 32px;\n",
              "    padding: 0;\n",
              "    width: 32px;\n",
              "  }\n",
              "\n",
              "  .colab-df-quickchart:hover {\n",
              "    background-color: var(--hover-bg-color);\n",
              "    box-shadow: 0 1px 2px rgba(60, 64, 67, 0.3), 0 1px 3px 1px rgba(60, 64, 67, 0.15);\n",
              "    fill: var(--button-hover-fill-color);\n",
              "  }\n",
              "\n",
              "  .colab-df-quickchart-complete:disabled,\n",
              "  .colab-df-quickchart-complete:disabled:hover {\n",
              "    background-color: var(--disabled-bg-color);\n",
              "    fill: var(--disabled-fill-color);\n",
              "    box-shadow: none;\n",
              "  }\n",
              "\n",
              "  .colab-df-spinner {\n",
              "    border: 2px solid var(--fill-color);\n",
              "    border-color: transparent;\n",
              "    border-bottom-color: var(--fill-color);\n",
              "    animation:\n",
              "      spin 1s steps(1) infinite;\n",
              "  }\n",
              "\n",
              "  @keyframes spin {\n",
              "    0% {\n",
              "      border-color: transparent;\n",
              "      border-bottom-color: var(--fill-color);\n",
              "      border-left-color: var(--fill-color);\n",
              "    }\n",
              "    20% {\n",
              "      border-color: transparent;\n",
              "      border-left-color: var(--fill-color);\n",
              "      border-top-color: var(--fill-color);\n",
              "    }\n",
              "    30% {\n",
              "      border-color: transparent;\n",
              "      border-left-color: var(--fill-color);\n",
              "      border-top-color: var(--fill-color);\n",
              "      border-right-color: var(--fill-color);\n",
              "    }\n",
              "    40% {\n",
              "      border-color: transparent;\n",
              "      border-right-color: var(--fill-color);\n",
              "      border-top-color: var(--fill-color);\n",
              "    }\n",
              "    60% {\n",
              "      border-color: transparent;\n",
              "      border-right-color: var(--fill-color);\n",
              "    }\n",
              "    80% {\n",
              "      border-color: transparent;\n",
              "      border-right-color: var(--fill-color);\n",
              "      border-bottom-color: var(--fill-color);\n",
              "    }\n",
              "    90% {\n",
              "      border-color: transparent;\n",
              "      border-bottom-color: var(--fill-color);\n",
              "    }\n",
              "  }\n",
              "</style>\n",
              "\n",
              "      <script>\n",
              "        async function quickchart(key) {\n",
              "          const quickchartButtonEl =\n",
              "            document.querySelector('#' + key + ' button');\n",
              "          quickchartButtonEl.disabled = true;  // To prevent multiple clicks.\n",
              "          quickchartButtonEl.classList.add('colab-df-spinner');\n",
              "          try {\n",
              "            const charts = await google.colab.kernel.invokeFunction(\n",
              "                'suggestCharts', [key], {});\n",
              "          } catch (error) {\n",
              "            console.error('Error during call to suggestCharts:', error);\n",
              "          }\n",
              "          quickchartButtonEl.classList.remove('colab-df-spinner');\n",
              "          quickchartButtonEl.classList.add('colab-df-quickchart-complete');\n",
              "        }\n",
              "        (() => {\n",
              "          let quickchartButtonEl =\n",
              "            document.querySelector('#df-45083f6a-3684-42a7-9978-f46fc5fd4f3a button');\n",
              "          quickchartButtonEl.style.display =\n",
              "            google.colab.kernel.accessAllowed ? 'block' : 'none';\n",
              "        })();\n",
              "      </script>\n",
              "    </div>\n",
              "\n",
              "    </div>\n",
              "  </div>\n"
            ],
            "application/vnd.google.colaboratory.intrinsic+json": {
              "type": "dataframe",
              "variable_name": "df"
            }
          },
          "metadata": {},
          "execution_count": 97
        }
      ]
    },
    {
      "cell_type": "markdown",
      "source": [
        "Se revisa el tipo de datos del DF y si hay valores faltantes."
      ],
      "metadata": {
        "id": "1hUWw1KafLyz"
      }
    },
    {
      "cell_type": "code",
      "source": [
        "df.info()"
      ],
      "metadata": {
        "colab": {
          "base_uri": "https://localhost:8080/"
        },
        "id": "VCvP6nGhfFtK",
        "outputId": "79b480fe-a164-47d6-9f6e-b27b878242fc"
      },
      "execution_count": 98,
      "outputs": [
        {
          "output_type": "stream",
          "name": "stdout",
          "text": [
            "<class 'pandas.core.frame.DataFrame'>\n",
            "RangeIndex: 1000000 entries, 0 to 999999\n",
            "Data columns (total 20 columns):\n",
            " #   Column                              Non-Null Count    Dtype  \n",
            "---  ------                              --------------    -----  \n",
            " 0   Country                             1000000 non-null  object \n",
            " 1   Year                                1000000 non-null  int64  \n",
            " 2   Disease Name                        1000000 non-null  object \n",
            " 3   Prevalence Rate (%)                 1000000 non-null  float64\n",
            " 4   Incidence Rate (%)                  1000000 non-null  float64\n",
            " 5   Mortality Rate (%)                  1000000 non-null  float64\n",
            " 6   Age Group                           1000000 non-null  object \n",
            " 7   Gender                              1000000 non-null  object \n",
            " 8   Population Affected                 1000000 non-null  int64  \n",
            " 9   Healthcare Access (%)               1000000 non-null  float64\n",
            " 10  Doctors per 1000                    1000000 non-null  float64\n",
            " 11  Hospital Beds per 1000              1000000 non-null  float64\n",
            " 12  Treatment Type                      1000000 non-null  object \n",
            " 13  Average Treatment Cost (USD)        1000000 non-null  int64  \n",
            " 14  Availability of Vaccines/Treatment  1000000 non-null  object \n",
            " 15  Recovery Rate (%)                   1000000 non-null  float64\n",
            " 16  Improvement in 5 Years (%)          1000000 non-null  float64\n",
            " 17  Per Capita Income (USD)             1000000 non-null  int64  \n",
            " 18  Education Index                     1000000 non-null  float64\n",
            " 19  Urbanization Rate (%)               1000000 non-null  float64\n",
            "dtypes: float64(10), int64(4), object(6)\n",
            "memory usage: 152.6+ MB\n"
          ]
        }
      ]
    },
    {
      "cell_type": "markdown",
      "source": [
        "No hay valores faltantes\n"
      ],
      "metadata": {
        "id": "cc2_U2pGTJGY"
      }
    },
    {
      "cell_type": "markdown",
      "source": [
        "Quito algunas columnas que no me sirven para mi análisis y así se trabaja con menos datos"
      ],
      "metadata": {
        "id": "bWIFvq0JS9N9"
      }
    },
    {
      "cell_type": "code",
      "source": [
        "df=df.drop(\"Availability of Vaccines/Treatment\",axis=1)\n",
        "df=df.drop(\"Improvement in 5 Years (%)\",axis=1)\n",
        "df=df.drop(\"Average Treatment Cost (USD)\",axis=1)\n",
        "df=df.drop(\"Hospital Beds per 1000\", axis=1)\n",
        "df=df.drop(\"Doctors per 1000\", axis=1)\n",
        "\n"
      ],
      "metadata": {
        "id": "oTZyCgQcTOe5"
      },
      "execution_count": 77,
      "outputs": []
    },
    {
      "cell_type": "markdown",
      "source": [
        "Reviso si los tipos de cada una de las variables son correctos, para corregirlo en caso de que no lo sean.\n"
      ],
      "metadata": {
        "id": "CQLY2Q4TgQtU"
      }
    },
    {
      "cell_type": "markdown",
      "source": [
        "Primero quiero ver el tipo de enfermedades que se están analizando y dentro de la categoría de enfermedad qué enfermedades se contemplan."
      ],
      "metadata": {
        "id": "bj9bImNPkgyR"
      }
    },
    {
      "cell_type": "code",
      "source": [
        "df[\"Disease Name\"].unique()"
      ],
      "metadata": {
        "colab": {
          "base_uri": "https://localhost:8080/"
        },
        "id": "tfA6vjHOklv6",
        "outputId": "953c4e11-687d-4f58-f97b-36e109c66213"
      },
      "execution_count": 78,
      "outputs": [
        {
          "output_type": "execute_result",
          "data": {
            "text/plain": [
              "array(['Malaria', 'Ebola', 'COVID-19', \"Parkinson's Disease\",\n",
              "       'Tuberculosis', 'Dengue', 'Rabies', 'Cholera', 'Leprosy', 'Cancer',\n",
              "       'Diabetes', 'Measles', 'Zika', \"Alzheimer's Disease\", 'Polio',\n",
              "       'Hypertension', 'Asthma', 'HIV/AIDS', 'Influenza', 'Hepatitis'],\n",
              "      dtype=object)"
            ]
          },
          "metadata": {},
          "execution_count": 78
        }
      ]
    },
    {
      "cell_type": "markdown",
      "source": [
        "Obtengo la cantidad de países reflejados en este estudio y cuáles son:"
      ],
      "metadata": {
        "id": "LFnSWe-Xn6NX"
      }
    },
    {
      "cell_type": "code",
      "source": [
        "df[\"Country\"].unique()"
      ],
      "metadata": {
        "colab": {
          "base_uri": "https://localhost:8080/"
        },
        "id": "0HQWKHAGo0gg",
        "outputId": "c315b3cb-36a3-4055-d4da-880d12e2cce6"
      },
      "execution_count": 79,
      "outputs": [
        {
          "output_type": "execute_result",
          "data": {
            "text/plain": [
              "array(['Italy', 'France', 'Turkey', 'Indonesia', 'Saudi Arabia', 'USA',\n",
              "       'Nigeria', 'Australia', 'Canada', 'Mexico', 'China',\n",
              "       'South Africa', 'Japan', 'UK', 'Russia', 'Brazil', 'Germany',\n",
              "       'India', 'Argentina', 'South Korea'], dtype=object)"
            ]
          },
          "metadata": {},
          "execution_count": 79
        }
      ]
    },
    {
      "cell_type": "code",
      "source": [
        "df[\"Country\"].nunique()"
      ],
      "metadata": {
        "colab": {
          "base_uri": "https://localhost:8080/"
        },
        "id": "MXxWxvvap_jX",
        "outputId": "fe2c1b06-7a09-449c-e560-d50c6d52c664"
      },
      "execution_count": 80,
      "outputs": [
        {
          "output_type": "execute_result",
          "data": {
            "text/plain": [
              "20"
            ]
          },
          "metadata": {},
          "execution_count": 80
        }
      ]
    },
    {
      "cell_type": "markdown",
      "source": [
        "Son **20** países, 5 en Europa, 7 en Asia, 5 en América , 2 en África y 1 en Oceanía. Voy a hacer 5 listas agrupando los países por continente pero no sé si puedo sacar buenas conclusiones, ya que el continente africano no queda bien reflejado al no incluir a Egipto, que tiene una gran población y relevancia dentro del mismo."
      ],
      "metadata": {
        "id": "gdrM8dRXrL0v"
      }
    },
    {
      "cell_type": "markdown",
      "source": [
        "Creo un diccionario con estos nuevos datos que quiero añadir:"
      ],
      "metadata": {
        "id": "5e_X8KNi4GbC"
      }
    },
    {
      "cell_type": "code",
      "source": [
        "continentes = {\n",
        "    \"USA\": \"América\",\n",
        "    \"Canada\": \"América\",\n",
        "    \"Mexico\": \"América\",\n",
        "    \"Brazil\": \"América\",\n",
        "    \"Argentina\": \"América\",\n",
        "\n",
        "    \"Turkey\": \"Asia\",\n",
        "    \"Indonesia\": \"Asia\",\n",
        "    \"Saudi Arabia\": \"Asia\",\n",
        "    \"China\": \"Asia\",\n",
        "    \"Japan\": \"Asia\",\n",
        "    \"India\": \"Asia\",\n",
        "    \"South Korea\": \"Asia\",\n",
        "    \"Russia\": \"Asia\",\n",
        "\n",
        "\n",
        "    \"Germany\": \"Europa\",\n",
        "    \"France\": \"Europa\",\n",
        "    \"UK\": \"Europa\",\n",
        "    \"Italy\": \"Europa\",\n",
        "\n",
        "    \"South Africa\": \"África\",\n",
        "    \"Nigeria\": \"África\",\n",
        "\n",
        "    \"Australia\": \"Oceanía\"\n",
        "}\n",
        "continentes"
      ],
      "metadata": {
        "id": "M-ZqLc4B4Dvk",
        "colab": {
          "base_uri": "https://localhost:8080/"
        },
        "outputId": "aa897087-32cb-4eae-c8bb-a7bc534aa1c5"
      },
      "execution_count": 99,
      "outputs": [
        {
          "output_type": "execute_result",
          "data": {
            "text/plain": [
              "{'USA': 'América',\n",
              " 'Canada': 'América',\n",
              " 'Mexico': 'América',\n",
              " 'Brazil': 'América',\n",
              " 'Argentina': 'América',\n",
              " 'Turkey': 'Asia',\n",
              " 'Indonesia': 'Asia',\n",
              " 'Saudi Arabia': 'Asia',\n",
              " 'China': 'Asia',\n",
              " 'Japan': 'Asia',\n",
              " 'India': 'Asia',\n",
              " 'South Korea': 'Asia',\n",
              " 'Russia': 'Asia',\n",
              " 'Germany': 'Europa',\n",
              " 'France': 'Europa',\n",
              " 'UK': 'Europa',\n",
              " 'Italy': 'Europa',\n",
              " 'South Africa': 'África',\n",
              " 'Nigeria': 'África',\n",
              " 'Australia': 'Oceanía'}"
            ]
          },
          "metadata": {},
          "execution_count": 99
        }
      ]
    },
    {
      "cell_type": "markdown",
      "source": [
        "Creo un dataframe incluyendo los continentes con sus países correspondientes"
      ],
      "metadata": {
        "id": "VCMMro_Y3brk"
      }
    },
    {
      "cell_type": "code",
      "source": [
        "df[\"Continente\"] = df[\"Country\"].map(continentes)"
      ],
      "metadata": {
        "id": "FI6GcTYX3hXU"
      },
      "execution_count": 100,
      "outputs": []
    },
    {
      "cell_type": "markdown",
      "source": [
        "Obtengo los años en los que se realizó el estudio"
      ],
      "metadata": {
        "id": "bfI15kGuGAAt"
      }
    },
    {
      "cell_type": "code",
      "source": [
        "df[\"Year\"].unique()"
      ],
      "metadata": {
        "colab": {
          "base_uri": "https://localhost:8080/"
        },
        "id": "ZjmLKaWIGI5t",
        "outputId": "e739637d-9a43-4165-facd-da45d6c1c5eb"
      },
      "execution_count": 83,
      "outputs": [
        {
          "output_type": "execute_result",
          "data": {
            "text/plain": [
              "array([2013, 2002, 2015, 2011, 2007, 2000, 2006, 2009, 2004, 2020, 2024,\n",
              "       2001, 2019, 2014, 2021, 2010, 2003, 2022, 2005, 2008, 2017, 2023,\n",
              "       2012, 2016, 2018])"
            ]
          },
          "metadata": {},
          "execution_count": 83
        }
      ]
    },
    {
      "cell_type": "code",
      "source": [
        "anios_ordenados = sorted(df[\"Year\"].unique())\n",
        "anios_ordenados"
      ],
      "metadata": {
        "colab": {
          "base_uri": "https://localhost:8080/"
        },
        "id": "KGQc2jh8GfjJ",
        "outputId": "5cecbeb5-8a96-4cc6-d158-4128ed5f8fa6"
      },
      "execution_count": 84,
      "outputs": [
        {
          "output_type": "execute_result",
          "data": {
            "text/plain": [
              "[np.int64(2000),\n",
              " np.int64(2001),\n",
              " np.int64(2002),\n",
              " np.int64(2003),\n",
              " np.int64(2004),\n",
              " np.int64(2005),\n",
              " np.int64(2006),\n",
              " np.int64(2007),\n",
              " np.int64(2008),\n",
              " np.int64(2009),\n",
              " np.int64(2010),\n",
              " np.int64(2011),\n",
              " np.int64(2012),\n",
              " np.int64(2013),\n",
              " np.int64(2014),\n",
              " np.int64(2015),\n",
              " np.int64(2016),\n",
              " np.int64(2017),\n",
              " np.int64(2018),\n",
              " np.int64(2019),\n",
              " np.int64(2020),\n",
              " np.int64(2021),\n",
              " np.int64(2022),\n",
              " np.int64(2023),\n",
              " np.int64(2024)]"
            ]
          },
          "metadata": {},
          "execution_count": 84
        }
      ]
    },
    {
      "cell_type": "markdown",
      "source": [
        "El estudio se ha realizado entre los años **2000 y 2024**"
      ],
      "metadata": {
        "id": "31GRU2wFzuH6"
      }
    },
    {
      "cell_type": "markdown",
      "source": [
        "#**Enfermedades más comunes por población afectada**"
      ],
      "metadata": {
        "id": "EgZHqq8XiDX_"
      }
    },
    {
      "cell_type": "code",
      "source": [
        "enfermedades_mas_comunes = df.groupby(\"Disease Name\")[\"Population Affected\"].sum().sort_values(ascending=False)\n",
        "\n",
        "print(\"Ranking de Enfermedades Más Comunes (por población afectada):\\n\")\n",
        "for i, (disease, population) in enumerate(enfermedades_mas_comunes.items(), 1):\n",
        "    print(f\"{i}. {disease}: {population:,} personas\")"
      ],
      "metadata": {
        "colab": {
          "base_uri": "https://localhost:8080/"
        },
        "id": "K1CLXBLTzfwK",
        "outputId": "45b45ffc-2db9-4711-969b-0100a53c8522"
      },
      "execution_count": 134,
      "outputs": [
        {
          "output_type": "stream",
          "name": "stdout",
          "text": [
            "Ranking de Enfermedades Más Comunes (por población afectada):\n",
            "\n",
            "1. Zika: 25,307,554,082 personas\n",
            "2. Cancer: 25,235,121,430 personas\n",
            "3. Leprosy: 25,177,373,936 personas\n",
            "4. Asthma: 25,146,142,810 personas\n",
            "5. Dengue: 25,133,166,300 personas\n",
            "6. COVID-19: 25,118,520,752 personas\n",
            "7. HIV/AIDS: 25,101,603,480 personas\n",
            "8. Influenza: 25,095,996,008 personas\n",
            "9. Cholera: 25,086,966,699 personas\n",
            "10. Diabetes: 25,069,386,449 personas\n",
            "11. Alzheimer's Disease: 25,042,569,375 personas\n",
            "12. Rabies: 25,034,142,572 personas\n",
            "13. Malaria: 25,015,737,911 personas\n",
            "14. Measles: 24,982,256,802 personas\n",
            "15. Polio: 24,974,691,110 personas\n",
            "16. Ebola: 24,905,002,514 personas\n",
            "17. Hepatitis: 24,904,267,850 personas\n",
            "18. Tuberculosis: 24,895,979,586 personas\n",
            "19. Parkinson's Disease: 24,801,241,635 personas\n",
            "20. Hypertension: 24,707,706,062 personas\n"
          ]
        }
      ]
    },
    {
      "cell_type": "markdown",
      "source": [
        "La enfermedad con más población afectada a nivel mundial en este estudio es **ZIKA** con **25,307,554,082 personas**"
      ],
      "metadata": {
        "id": "-h8zjLcf0igJ"
      }
    },
    {
      "cell_type": "markdown",
      "source": [
        "#**Enfermedades por país con más número de población afectada**"
      ],
      "metadata": {
        "id": "sf4Yz2tQ2QJJ"
      }
    },
    {
      "cell_type": "code",
      "source": [
        "for country in df[\"Country\"].unique():\n",
        "    subset = df[df[\"Country\"] == country]\n",
        "    top_disease = subset.loc[subset[\"Population Affected\"].idxmax()]\n",
        "\n",
        "    print(f\"{country}: {top_disease['Disease Name']} ({top_disease['Population Affected']:,} personas)\")"
      ],
      "metadata": {
        "colab": {
          "base_uri": "https://localhost:8080/"
        },
        "id": "J1Wv97-v1h_h",
        "outputId": "5d3fc8ad-4354-4a8f-aa61-bec5bf3c4c36"
      },
      "execution_count": 137,
      "outputs": [
        {
          "output_type": "stream",
          "name": "stdout",
          "text": [
            "Italy: Ebola (999,993 personas)\n",
            "France: Alzheimer's Disease (999,995 personas)\n",
            "Turkey: Ebola (999,998 personas)\n",
            "Indonesia: Parkinson's Disease (999,990 personas)\n",
            "Saudi Arabia: Diabetes (999,963 personas)\n",
            "USA: Hypertension (999,961 personas)\n",
            "Nigeria: Cancer (999,994 personas)\n",
            "Australia: Alzheimer's Disease (999,998 personas)\n",
            "Canada: Ebola (999,970 personas)\n",
            "Mexico: Rabies (999,993 personas)\n",
            "China: Cancer (999,989 personas)\n",
            "South Africa: Parkinson's Disease (999,991 personas)\n",
            "Japan: Rabies (999,999 personas)\n",
            "UK: Zika (999,999 personas)\n",
            "Russia: HIV/AIDS (999,979 personas)\n",
            "Brazil: Influenza (999,998 personas)\n",
            "Germany: Cancer (999,967 personas)\n",
            "India: Diabetes (999,945 personas)\n",
            "Argentina: Asthma (1,000,000 personas)\n",
            "South Korea: Asthma (999,978 personas)\n"
          ]
        }
      ]
    },
    {
      "cell_type": "markdown",
      "source": [
        "Me llaman la atención varios datos:\n",
        "\n",
        "*   Que en Italia , Turquía y Canadá la enfermedad con más casos sea Ébola.\n",
        "*   Que en UK la enfermedad con más casos sea Zika.\n",
        "\n"
      ],
      "metadata": {
        "id": "wsRH-Lf42u0v"
      }
    },
    {
      "cell_type": "markdown",
      "source": [
        "#**Enfermedad más común por porcentaje de Prevalencia**"
      ],
      "metadata": {
        "id": "hguhS3UpxjS7"
      }
    },
    {
      "cell_type": "code",
      "source": [
        "for country in df[\"Country\"].unique():\n",
        "    subset = df[df[\"Country\"] == country]\n",
        "    max_row = subset.loc[subset[\"Prevalence Rate (%)\"].idxmax()]\n",
        "    min_row = subset.loc[subset[\"Prevalence Rate (%)\"].idxmin()]\n",
        "\n",
        "    print(f\"\\n {country}\")\n",
        "    print(f\"  Enfermedad más común: {max_row['Disease Name']} ({max_row['Prevalence Rate (%)']}%)\")\n",
        "    print(f\"  Enfermedad menos común: {min_row['Disease Name']} ({min_row['Prevalence Rate (%)']}%)\")"
      ],
      "metadata": {
        "colab": {
          "base_uri": "https://localhost:8080/"
        },
        "id": "lADetiB1xWMw",
        "outputId": "6597a632-6444-4437-e163-a4456cbdbc40"
      },
      "execution_count": 127,
      "outputs": [
        {
          "output_type": "stream",
          "name": "stdout",
          "text": [
            "\n",
            " Italy\n",
            "  Enfermedad más común: Influenza (20.0%)\n",
            "  Enfermedad menos común: Hypertension (0.1%)\n",
            "\n",
            " France\n",
            "  Enfermedad más común: Dengue (20.0%)\n",
            "  Enfermedad menos común: Cancer (0.1%)\n",
            "\n",
            " Turkey\n",
            "  Enfermedad más común: Cholera (20.0%)\n",
            "  Enfermedad menos común: COVID-19 (0.1%)\n",
            "\n",
            " Indonesia\n",
            "  Enfermedad más común: Diabetes (20.0%)\n",
            "  Enfermedad menos común: HIV/AIDS (0.1%)\n",
            "\n",
            " Saudi Arabia\n",
            "  Enfermedad más común: Parkinson's Disease (20.0%)\n",
            "  Enfermedad menos común: Hypertension (0.1%)\n",
            "\n",
            " USA\n",
            "  Enfermedad más común: COVID-19 (20.0%)\n",
            "  Enfermedad menos común: Dengue (0.1%)\n",
            "\n",
            " Nigeria\n",
            "  Enfermedad más común: COVID-19 (20.0%)\n",
            "  Enfermedad menos común: Leprosy (0.1%)\n",
            "\n",
            " Australia\n",
            "  Enfermedad más común: Malaria (20.0%)\n",
            "  Enfermedad menos común: Dengue (0.1%)\n",
            "\n",
            " Canada\n",
            "  Enfermedad más común: Leprosy (20.0%)\n",
            "  Enfermedad menos común: Tuberculosis (0.1%)\n",
            "\n",
            " Mexico\n",
            "  Enfermedad más común: Diabetes (20.0%)\n",
            "  Enfermedad menos común: Diabetes (0.1%)\n",
            "\n",
            " China\n",
            "  Enfermedad más común: Influenza (20.0%)\n",
            "  Enfermedad menos común: Leprosy (0.1%)\n",
            "\n",
            " South Africa\n",
            "  Enfermedad más común: Dengue (20.0%)\n",
            "  Enfermedad menos común: Tuberculosis (0.1%)\n",
            "\n",
            " Japan\n",
            "  Enfermedad más común: Zika (20.0%)\n",
            "  Enfermedad menos común: Ebola (0.1%)\n",
            "\n",
            " UK\n",
            "  Enfermedad más común: Leprosy (20.0%)\n",
            "  Enfermedad menos común: Leprosy (0.1%)\n",
            "\n",
            " Russia\n",
            "  Enfermedad más común: Asthma (20.0%)\n",
            "  Enfermedad menos común: Hepatitis (0.1%)\n",
            "\n",
            " Brazil\n",
            "  Enfermedad más común: Parkinson's Disease (20.0%)\n",
            "  Enfermedad menos común: Influenza (0.1%)\n",
            "\n",
            " Germany\n",
            "  Enfermedad más común: Alzheimer's Disease (20.0%)\n",
            "  Enfermedad menos común: Cancer (0.1%)\n",
            "\n",
            " India\n",
            "  Enfermedad más común: Hepatitis (20.0%)\n",
            "  Enfermedad menos común: HIV/AIDS (0.1%)\n",
            "\n",
            " Argentina\n",
            "  Enfermedad más común: COVID-19 (20.0%)\n",
            "  Enfermedad menos común: Rabies (0.1%)\n",
            "\n",
            " South Korea\n",
            "  Enfermedad más común: Ebola (20.0%)\n",
            "  Enfermedad menos común: Leprosy (0.1%)\n"
          ]
        }
      ]
    },
    {
      "cell_type": "markdown",
      "source": [
        "#**Enfermedad más común por cantidad de Población Afectada**"
      ],
      "metadata": {
        "id": "bLT0Zvzq-dwd"
      }
    },
    {
      "cell_type": "code",
      "source": [
        "for country in df[\"Country\"].unique():\n",
        "    subset = df[df[\"Country\"] == country]\n",
        "    max_row = subset.loc[subset[\"Population Affected\"].idxmax()]\n",
        "    min_row = subset.loc[subset[\"Population Affected\"].idxmin()]\n",
        "\n",
        "    print(f\"\\n {country}\")\n",
        "    print(f\"  Más personas afectadas: {max_row['Disease Name']} ({max_row['Population Affected']:,} personas)\")\n",
        "    print(f\"  Menos personas afectadas: {min_row['Disease Name']} ({min_row['Population Affected']:,} personas)\")"
      ],
      "metadata": {
        "colab": {
          "base_uri": "https://localhost:8080/"
        },
        "id": "GkuJ8WBBx3Tu",
        "outputId": "53983df5-2ad6-4a4e-c25a-ef6183960942"
      },
      "execution_count": 130,
      "outputs": [
        {
          "output_type": "stream",
          "name": "stdout",
          "text": [
            "\n",
            " Italy\n",
            "  Más personas afectadas: Ebola (999,993 personas)\n",
            "  Menos personas afectadas: Leprosy (1,035 personas)\n",
            "\n",
            " France\n",
            "  Más personas afectadas: Alzheimer's Disease (999,995 personas)\n",
            "  Menos personas afectadas: Tuberculosis (1,014 personas)\n",
            "\n",
            " Turkey\n",
            "  Más personas afectadas: Ebola (999,998 personas)\n",
            "  Menos personas afectadas: Alzheimer's Disease (1,011 personas)\n",
            "\n",
            " Indonesia\n",
            "  Más personas afectadas: Parkinson's Disease (999,990 personas)\n",
            "  Menos personas afectadas: Ebola (1,003 personas)\n",
            "\n",
            " Saudi Arabia\n",
            "  Más personas afectadas: Diabetes (999,963 personas)\n",
            "  Menos personas afectadas: Cholera (1,008 personas)\n",
            "\n",
            " USA\n",
            "  Más personas afectadas: Hypertension (999,961 personas)\n",
            "  Menos personas afectadas: Cancer (1,000 personas)\n",
            "\n",
            " Nigeria\n",
            "  Más personas afectadas: Cancer (999,994 personas)\n",
            "  Menos personas afectadas: Measles (1,001 personas)\n",
            "\n",
            " Australia\n",
            "  Más personas afectadas: Alzheimer's Disease (999,998 personas)\n",
            "  Menos personas afectadas: Cancer (1,010 personas)\n",
            "\n",
            " Canada\n",
            "  Más personas afectadas: Ebola (999,970 personas)\n",
            "  Menos personas afectadas: Parkinson's Disease (1,004 personas)\n",
            "\n",
            " Mexico\n",
            "  Más personas afectadas: Rabies (999,993 personas)\n",
            "  Menos personas afectadas: Leprosy (1,052 personas)\n",
            "\n",
            " China\n",
            "  Más personas afectadas: Cancer (999,989 personas)\n",
            "  Menos personas afectadas: Cholera (1,003 personas)\n",
            "\n",
            " South Africa\n",
            "  Más personas afectadas: Parkinson's Disease (999,991 personas)\n",
            "  Menos personas afectadas: Polio (1,003 personas)\n",
            "\n",
            " Japan\n",
            "  Más personas afectadas: Rabies (999,999 personas)\n",
            "  Menos personas afectadas: Dengue (1,080 personas)\n",
            "\n",
            " UK\n",
            "  Más personas afectadas: Zika (999,999 personas)\n",
            "  Menos personas afectadas: Hepatitis (1,018 personas)\n",
            "\n",
            " Russia\n",
            "  Más personas afectadas: HIV/AIDS (999,979 personas)\n",
            "  Menos personas afectadas: HIV/AIDS (1,006 personas)\n",
            "\n",
            " Brazil\n",
            "  Más personas afectadas: Influenza (999,998 personas)\n",
            "  Menos personas afectadas: Rabies (1,019 personas)\n",
            "\n",
            " Germany\n",
            "  Más personas afectadas: Cancer (999,967 personas)\n",
            "  Menos personas afectadas: Ebola (1,001 personas)\n",
            "\n",
            " India\n",
            "  Más personas afectadas: Diabetes (999,945 personas)\n",
            "  Menos personas afectadas: Tuberculosis (1,001 personas)\n",
            "\n",
            " Argentina\n",
            "  Más personas afectadas: Asthma (1,000,000 personas)\n",
            "  Menos personas afectadas: Zika (1,007 personas)\n",
            "\n",
            " South Korea\n",
            "  Más personas afectadas: Asthma (999,978 personas)\n",
            "  Menos personas afectadas: Asthma (1,002 personas)\n"
          ]
        }
      ]
    },
    {
      "cell_type": "markdown",
      "source": [
        "#**Población afectada por país , enfermedad y año**"
      ],
      "metadata": {
        "id": "8SjnQbPL4ej8"
      }
    },
    {
      "cell_type": "code",
      "source": [
        "enfermos_anio_pais_enfermedad = df.groupby([\"Country\", \"Year\", \"Disease Name\"])[\"Population Affected\"].sum().reset_index()\n",
        "\n",
        "print(\"Población afectada por país, año y enfermedad:\\n\")\n",
        "print(enfermos_anio_pais_enfermedad)"
      ],
      "metadata": {
        "colab": {
          "base_uri": "https://localhost:8080/"
        },
        "id": "iKk-z5Kl4IIs",
        "outputId": "bce99e13-d04a-491f-93c9-1c70472e2cfe"
      },
      "execution_count": 140,
      "outputs": [
        {
          "output_type": "stream",
          "name": "stdout",
          "text": [
            "Población afectada por país, año y enfermedad:\n",
            "\n",
            "        Country  Year         Disease Name  Population Affected\n",
            "0     Argentina  2000  Alzheimer's Disease             47370554\n",
            "1     Argentina  2000               Asthma             47704791\n",
            "2     Argentina  2000             COVID-19             49908299\n",
            "3     Argentina  2000               Cancer             51015173\n",
            "4     Argentina  2000              Cholera             47933525\n",
            "...         ...   ...                  ...                  ...\n",
            "9995        USA  2024  Parkinson's Disease             42966521\n",
            "9996        USA  2024                Polio             46725978\n",
            "9997        USA  2024               Rabies             56838441\n",
            "9998        USA  2024         Tuberculosis             46766367\n",
            "9999        USA  2024                 Zika             51144636\n",
            "\n",
            "[10000 rows x 4 columns]\n"
          ]
        }
      ]
    },
    {
      "cell_type": "code",
      "source": [
        "print(\"Enfermedad más común por año y país:\\n\")\n",
        "grouped = df.groupby([\"Country\", \"Year\"])\n",
        "\n",
        "for (country, year), group in grouped:\n",
        "    top = group.loc[group[\"Population Affected\"].idxmax()]\n",
        "    print(f\"{country} - {year}: {top['Disease Name']} ({top['Population Affected']:,} personas)\")"
      ],
      "metadata": {
        "colab": {
          "base_uri": "https://localhost:8080/"
        },
        "id": "e1L0DszkBJkM",
        "outputId": "cfb3b82e-e221-406a-e376-e77faf67cc6e"
      },
      "execution_count": 153,
      "outputs": [
        {
          "output_type": "stream",
          "name": "stdout",
          "text": [
            "Enfermedad más común por año y país:\n",
            "\n",
            "Argentina - 2000: Alzheimer's Disease (999,739 personas)\n",
            "Argentina - 2001: Tuberculosis (998,766 personas)\n",
            "Argentina - 2002: Hypertension (999,733 personas)\n",
            "Argentina - 2003: Tuberculosis (999,607 personas)\n",
            "Argentina - 2004: Cholera (999,995 personas)\n",
            "Argentina - 2005: Cholera (999,487 personas)\n",
            "Argentina - 2006: HIV/AIDS (999,559 personas)\n",
            "Argentina - 2007: COVID-19 (999,810 personas)\n",
            "Argentina - 2008: Asthma (1,000,000 personas)\n",
            "Argentina - 2009: Dengue (999,381 personas)\n",
            "Argentina - 2010: Polio (999,330 personas)\n",
            "Argentina - 2011: Diabetes (999,981 personas)\n",
            "Argentina - 2012: Leprosy (999,896 personas)\n",
            "Argentina - 2013: Parkinson's Disease (998,544 personas)\n",
            "Argentina - 2014: Dengue (999,984 personas)\n",
            "Argentina - 2015: Polio (999,930 personas)\n",
            "Argentina - 2016: Asthma (999,767 personas)\n",
            "Argentina - 2017: Cholera (999,600 personas)\n",
            "Argentina - 2018: Parkinson's Disease (998,419 personas)\n",
            "Argentina - 2019: Cancer (998,896 personas)\n",
            "Argentina - 2020: Cancer (999,522 personas)\n",
            "Argentina - 2021: COVID-19 (999,618 personas)\n",
            "Argentina - 2022: Cancer (999,875 personas)\n",
            "Argentina - 2023: Polio (999,960 personas)\n",
            "Argentina - 2024: Measles (999,962 personas)\n",
            "Australia - 2000: Alzheimer's Disease (999,987 personas)\n",
            "Australia - 2001: Alzheimer's Disease (999,380 personas)\n",
            "Australia - 2002: Malaria (999,509 personas)\n",
            "Australia - 2003: Ebola (999,780 personas)\n",
            "Australia - 2004: Polio (999,129 personas)\n",
            "Australia - 2005: Parkinson's Disease (999,669 personas)\n",
            "Australia - 2006: Alzheimer's Disease (999,998 personas)\n",
            "Australia - 2007: COVID-19 (999,724 personas)\n",
            "Australia - 2008: Malaria (999,931 personas)\n",
            "Australia - 2009: HIV/AIDS (999,418 personas)\n",
            "Australia - 2010: HIV/AIDS (998,564 personas)\n",
            "Australia - 2011: Hypertension (999,412 personas)\n",
            "Australia - 2012: Influenza (999,676 personas)\n",
            "Australia - 2013: Cholera (999,702 personas)\n",
            "Australia - 2014: Rabies (999,918 personas)\n",
            "Australia - 2015: Influenza (999,031 personas)\n",
            "Australia - 2016: Malaria (999,838 personas)\n",
            "Australia - 2017: COVID-19 (999,886 personas)\n",
            "Australia - 2018: Leprosy (999,954 personas)\n",
            "Australia - 2019: HIV/AIDS (998,935 personas)\n",
            "Australia - 2020: Rabies (999,972 personas)\n",
            "Australia - 2021: COVID-19 (999,928 personas)\n",
            "Australia - 2022: HIV/AIDS (999,829 personas)\n",
            "Australia - 2023: COVID-19 (999,916 personas)\n",
            "Australia - 2024: Hepatitis (998,007 personas)\n",
            "Brazil - 2000: Influenza (999,982 personas)\n",
            "Brazil - 2001: Tuberculosis (999,055 personas)\n",
            "Brazil - 2002: Malaria (999,690 personas)\n",
            "Brazil - 2003: Parkinson's Disease (999,150 personas)\n",
            "Brazil - 2004: Tuberculosis (999,961 personas)\n",
            "Brazil - 2005: Influenza (999,304 personas)\n",
            "Brazil - 2006: Asthma (999,202 personas)\n",
            "Brazil - 2007: Leprosy (999,605 personas)\n",
            "Brazil - 2008: Ebola (999,908 personas)\n",
            "Brazil - 2009: Cancer (999,628 personas)\n",
            "Brazil - 2010: Tuberculosis (999,503 personas)\n",
            "Brazil - 2011: Zika (999,905 personas)\n",
            "Brazil - 2012: COVID-19 (999,735 personas)\n",
            "Brazil - 2013: Alzheimer's Disease (999,776 personas)\n",
            "Brazil - 2014: Alzheimer's Disease (999,386 personas)\n",
            "Brazil - 2015: Cancer (999,930 personas)\n",
            "Brazil - 2016: Tuberculosis (999,377 personas)\n",
            "Brazil - 2017: Influenza (999,998 personas)\n",
            "Brazil - 2018: Hypertension (999,104 personas)\n",
            "Brazil - 2019: Ebola (999,944 personas)\n",
            "Brazil - 2020: Influenza (999,885 personas)\n",
            "Brazil - 2021: Parkinson's Disease (999,961 personas)\n",
            "Brazil - 2022: Alzheimer's Disease (999,783 personas)\n",
            "Brazil - 2023: Leprosy (999,627 personas)\n",
            "Brazil - 2024: Hypertension (999,146 personas)\n",
            "Canada - 2000: Ebola (999,970 personas)\n",
            "Canada - 2001: Influenza (999,537 personas)\n",
            "Canada - 2002: Tuberculosis (999,091 personas)\n",
            "Canada - 2003: Hypertension (999,887 personas)\n",
            "Canada - 2004: Tuberculosis (999,741 personas)\n",
            "Canada - 2005: Hepatitis (999,924 personas)\n",
            "Canada - 2006: Diabetes (998,686 personas)\n",
            "Canada - 2007: Leprosy (999,244 personas)\n",
            "Canada - 2008: Influenza (998,755 personas)\n",
            "Canada - 2009: Leprosy (999,691 personas)\n",
            "Canada - 2010: Malaria (999,109 personas)\n",
            "Canada - 2011: Rabies (997,648 personas)\n",
            "Canada - 2012: Hepatitis (999,475 personas)\n",
            "Canada - 2013: Alzheimer's Disease (998,514 personas)\n",
            "Canada - 2014: Zika (999,302 personas)\n",
            "Canada - 2015: Ebola (998,879 personas)\n",
            "Canada - 2016: Polio (999,646 personas)\n",
            "Canada - 2017: Influenza (999,677 personas)\n",
            "Canada - 2018: Hypertension (999,098 personas)\n",
            "Canada - 2019: Alzheimer's Disease (999,418 personas)\n",
            "Canada - 2020: Tuberculosis (999,203 personas)\n",
            "Canada - 2021: Cholera (999,494 personas)\n",
            "Canada - 2022: Hepatitis (998,489 personas)\n",
            "Canada - 2023: Hypertension (998,945 personas)\n",
            "Canada - 2024: Cancer (997,630 personas)\n",
            "China - 2000: Cholera (999,603 personas)\n",
            "China - 2001: Cancer (999,989 personas)\n",
            "China - 2002: Parkinson's Disease (999,963 personas)\n",
            "China - 2003: Parkinson's Disease (999,912 personas)\n",
            "China - 2004: Tuberculosis (999,739 personas)\n",
            "China - 2005: Cholera (999,688 personas)\n",
            "China - 2006: Cancer (999,459 personas)\n",
            "China - 2007: Rabies (998,739 personas)\n",
            "China - 2008: Measles (999,382 personas)\n",
            "China - 2009: Measles (999,786 personas)\n",
            "China - 2010: Diabetes (999,196 personas)\n",
            "China - 2011: Polio (999,415 personas)\n",
            "China - 2012: Influenza (999,901 personas)\n",
            "China - 2013: Leprosy (998,884 personas)\n",
            "China - 2014: Alzheimer's Disease (999,752 personas)\n",
            "China - 2015: Cholera (999,435 personas)\n",
            "China - 2016: Cholera (998,750 personas)\n",
            "China - 2017: Leprosy (999,572 personas)\n",
            "China - 2018: Measles (999,936 personas)\n",
            "China - 2019: Ebola (999,193 personas)\n",
            "China - 2020: Parkinson's Disease (999,003 personas)\n",
            "China - 2021: Ebola (999,957 personas)\n",
            "China - 2022: Rabies (997,943 personas)\n",
            "China - 2023: Diabetes (999,469 personas)\n",
            "China - 2024: Polio (999,371 personas)\n",
            "France - 2000: Zika (998,063 personas)\n",
            "France - 2001: Malaria (999,206 personas)\n",
            "France - 2002: Influenza (999,983 personas)\n",
            "France - 2003: COVID-19 (999,221 personas)\n",
            "France - 2004: Cancer (999,312 personas)\n",
            "France - 2005: Hypertension (999,424 personas)\n",
            "France - 2006: Asthma (999,072 personas)\n",
            "France - 2007: Parkinson's Disease (998,709 personas)\n",
            "France - 2008: Dengue (999,195 personas)\n",
            "France - 2009: HIV/AIDS (998,931 personas)\n",
            "France - 2010: Polio (999,952 personas)\n",
            "France - 2011: Ebola (998,852 personas)\n",
            "France - 2012: Tuberculosis (999,746 personas)\n",
            "France - 2013: Asthma (998,466 personas)\n",
            "France - 2014: Parkinson's Disease (999,542 personas)\n",
            "France - 2015: Cholera (999,804 personas)\n",
            "France - 2016: Hepatitis (999,736 personas)\n",
            "France - 2017: Polio (999,984 personas)\n",
            "France - 2018: Alzheimer's Disease (999,995 personas)\n",
            "France - 2019: Alzheimer's Disease (999,679 personas)\n",
            "France - 2020: COVID-19 (999,947 personas)\n",
            "France - 2021: Zika (999,825 personas)\n",
            "France - 2022: Malaria (998,659 personas)\n",
            "France - 2023: Ebola (999,918 personas)\n",
            "France - 2024: Measles (999,326 personas)\n",
            "Germany - 2000: Parkinson's Disease (999,009 personas)\n",
            "Germany - 2001: Leprosy (999,116 personas)\n",
            "Germany - 2002: Zika (999,183 personas)\n",
            "Germany - 2003: Tuberculosis (998,924 personas)\n",
            "Germany - 2004: Tuberculosis (998,823 personas)\n",
            "Germany - 2005: Influenza (999,650 personas)\n",
            "Germany - 2006: Dengue (999,964 personas)\n",
            "Germany - 2007: Hepatitis (999,804 personas)\n",
            "Germany - 2008: Hypertension (999,800 personas)\n",
            "Germany - 2009: Cholera (998,610 personas)\n",
            "Germany - 2010: Influenza (999,826 personas)\n",
            "Germany - 2011: Leprosy (999,027 personas)\n",
            "Germany - 2012: Cancer (999,967 personas)\n",
            "Germany - 2013: Parkinson's Disease (999,719 personas)\n",
            "Germany - 2014: Hepatitis (999,566 personas)\n",
            "Germany - 2015: Leprosy (999,917 personas)\n",
            "Germany - 2016: Malaria (999,679 personas)\n",
            "Germany - 2017: Cholera (999,630 personas)\n",
            "Germany - 2018: Alzheimer's Disease (999,919 personas)\n",
            "Germany - 2019: COVID-19 (999,585 personas)\n",
            "Germany - 2020: Alzheimer's Disease (999,746 personas)\n",
            "Germany - 2021: Polio (999,601 personas)\n",
            "Germany - 2022: Measles (999,930 personas)\n",
            "Germany - 2023: Diabetes (998,135 personas)\n",
            "Germany - 2024: Ebola (998,852 personas)\n",
            "India - 2000: Ebola (999,154 personas)\n",
            "India - 2001: Tuberculosis (999,859 personas)\n",
            "India - 2002: Influenza (999,245 personas)\n",
            "India - 2003: Leprosy (999,696 personas)\n",
            "India - 2004: Polio (999,048 personas)\n",
            "India - 2005: Parkinson's Disease (999,894 personas)\n",
            "India - 2006: Alzheimer's Disease (999,722 personas)\n",
            "India - 2007: Alzheimer's Disease (999,602 personas)\n",
            "India - 2008: Diabetes (997,464 personas)\n",
            "India - 2009: Dengue (999,781 personas)\n",
            "India - 2010: COVID-19 (999,918 personas)\n",
            "India - 2011: Measles (998,596 personas)\n",
            "India - 2012: Tuberculosis (999,231 personas)\n",
            "India - 2013: Zika (999,731 personas)\n",
            "India - 2014: Diabetes (999,945 personas)\n",
            "India - 2015: Dengue (999,678 personas)\n",
            "India - 2016: Tuberculosis (999,603 personas)\n",
            "India - 2017: Parkinson's Disease (999,936 personas)\n",
            "India - 2018: Influenza (999,859 personas)\n",
            "India - 2019: Cancer (998,942 personas)\n",
            "India - 2020: Zika (999,835 personas)\n",
            "India - 2021: Rabies (999,763 personas)\n",
            "India - 2022: Influenza (998,735 personas)\n",
            "India - 2023: Tuberculosis (999,487 personas)\n",
            "India - 2024: Dengue (999,855 personas)\n",
            "Indonesia - 2000: Influenza (999,664 personas)\n",
            "Indonesia - 2001: Polio (999,955 personas)\n",
            "Indonesia - 2002: Polio (999,585 personas)\n",
            "Indonesia - 2003: Polio (999,973 personas)\n",
            "Indonesia - 2004: Cancer (999,985 personas)\n",
            "Indonesia - 2005: Influenza (999,652 personas)\n",
            "Indonesia - 2006: Zika (999,200 personas)\n",
            "Indonesia - 2007: Cholera (999,958 personas)\n",
            "Indonesia - 2008: Leprosy (999,839 personas)\n",
            "Indonesia - 2009: Dengue (999,952 personas)\n",
            "Indonesia - 2010: Cholera (999,914 personas)\n",
            "Indonesia - 2011: COVID-19 (998,269 personas)\n",
            "Indonesia - 2012: Ebola (998,866 personas)\n",
            "Indonesia - 2013: Parkinson's Disease (999,990 personas)\n",
            "Indonesia - 2014: Asthma (999,798 personas)\n",
            "Indonesia - 2015: Diabetes (998,803 personas)\n",
            "Indonesia - 2016: Influenza (999,173 personas)\n",
            "Indonesia - 2017: Zika (999,621 personas)\n",
            "Indonesia - 2018: Tuberculosis (999,769 personas)\n",
            "Indonesia - 2019: Cholera (998,833 personas)\n",
            "Indonesia - 2020: HIV/AIDS (999,715 personas)\n",
            "Indonesia - 2021: COVID-19 (999,967 personas)\n",
            "Indonesia - 2022: Ebola (999,838 personas)\n",
            "Indonesia - 2023: Cancer (999,373 personas)\n",
            "Indonesia - 2024: Cholera (999,084 personas)\n",
            "Italy - 2000: HIV/AIDS (999,203 personas)\n",
            "Italy - 2001: Hepatitis (999,986 personas)\n",
            "Italy - 2002: Asthma (998,811 personas)\n",
            "Italy - 2003: COVID-19 (999,973 personas)\n",
            "Italy - 2004: HIV/AIDS (999,148 personas)\n",
            "Italy - 2005: Malaria (999,126 personas)\n",
            "Italy - 2006: Malaria (999,533 personas)\n",
            "Italy - 2007: Alzheimer's Disease (999,490 personas)\n",
            "Italy - 2008: Cancer (999,142 personas)\n",
            "Italy - 2009: Asthma (999,951 personas)\n",
            "Italy - 2010: Dengue (999,716 personas)\n",
            "Italy - 2011: Alzheimer's Disease (999,875 personas)\n",
            "Italy - 2012: Influenza (999,125 personas)\n",
            "Italy - 2013: Ebola (999,993 personas)\n",
            "Italy - 2014: Hepatitis (999,497 personas)\n",
            "Italy - 2015: HIV/AIDS (999,867 personas)\n",
            "Italy - 2016: Zika (999,745 personas)\n",
            "Italy - 2017: Asthma (999,920 personas)\n",
            "Italy - 2018: Cancer (999,984 personas)\n",
            "Italy - 2019: Hepatitis (999,431 personas)\n",
            "Italy - 2020: Cholera (999,207 personas)\n",
            "Italy - 2021: Measles (999,801 personas)\n",
            "Italy - 2022: Hypertension (999,490 personas)\n",
            "Italy - 2023: COVID-19 (999,718 personas)\n",
            "Italy - 2024: Diabetes (999,751 personas)\n",
            "Japan - 2000: Hepatitis (998,393 personas)\n",
            "Japan - 2001: Cholera (999,953 personas)\n",
            "Japan - 2002: Dengue (999,181 personas)\n",
            "Japan - 2003: Rabies (999,999 personas)\n",
            "Japan - 2004: Leprosy (998,144 personas)\n",
            "Japan - 2005: Cholera (999,879 personas)\n",
            "Japan - 2006: Parkinson's Disease (999,464 personas)\n",
            "Japan - 2007: Diabetes (999,105 personas)\n",
            "Japan - 2008: Malaria (998,739 personas)\n",
            "Japan - 2009: Polio (998,805 personas)\n",
            "Japan - 2010: Influenza (998,908 personas)\n",
            "Japan - 2011: Cholera (999,761 personas)\n",
            "Japan - 2012: Leprosy (999,766 personas)\n",
            "Japan - 2013: HIV/AIDS (997,759 personas)\n",
            "Japan - 2014: Cancer (997,055 personas)\n",
            "Japan - 2015: COVID-19 (999,560 personas)\n",
            "Japan - 2016: HIV/AIDS (999,783 personas)\n",
            "Japan - 2017: Influenza (999,832 personas)\n",
            "Japan - 2018: Diabetes (997,679 personas)\n",
            "Japan - 2019: Rabies (999,810 personas)\n",
            "Japan - 2020: Diabetes (999,745 personas)\n",
            "Japan - 2021: COVID-19 (999,645 personas)\n",
            "Japan - 2022: Hepatitis (999,559 personas)\n",
            "Japan - 2023: Leprosy (999,874 personas)\n",
            "Japan - 2024: Zika (998,961 personas)\n",
            "Mexico - 2000: Parkinson's Disease (999,589 personas)\n",
            "Mexico - 2001: Ebola (998,976 personas)\n",
            "Mexico - 2002: Diabetes (998,668 personas)\n",
            "Mexico - 2003: Hypertension (999,865 personas)\n",
            "Mexico - 2004: Alzheimer's Disease (999,675 personas)\n",
            "Mexico - 2005: Tuberculosis (999,617 personas)\n",
            "Mexico - 2006: Asthma (999,571 personas)\n",
            "Mexico - 2007: Measles (999,519 personas)\n",
            "Mexico - 2008: Zika (999,760 personas)\n",
            "Mexico - 2009: Measles (999,725 personas)\n",
            "Mexico - 2010: Influenza (999,624 personas)\n",
            "Mexico - 2011: Zika (999,517 personas)\n",
            "Mexico - 2012: Rabies (999,993 personas)\n",
            "Mexico - 2013: Leprosy (999,798 personas)\n",
            "Mexico - 2014: Malaria (999,965 personas)\n",
            "Mexico - 2015: Ebola (999,669 personas)\n",
            "Mexico - 2016: Diabetes (999,839 personas)\n",
            "Mexico - 2017: Zika (998,626 personas)\n",
            "Mexico - 2018: Polio (999,756 personas)\n",
            "Mexico - 2019: Parkinson's Disease (999,687 personas)\n",
            "Mexico - 2020: Tuberculosis (999,032 personas)\n",
            "Mexico - 2021: Polio (999,915 personas)\n",
            "Mexico - 2022: Malaria (999,033 personas)\n",
            "Mexico - 2023: Diabetes (999,640 personas)\n",
            "Mexico - 2024: Dengue (999,697 personas)\n",
            "Nigeria - 2000: Tuberculosis (998,674 personas)\n",
            "Nigeria - 2001: Influenza (999,499 personas)\n",
            "Nigeria - 2002: Cholera (999,534 personas)\n",
            "Nigeria - 2003: Influenza (999,860 personas)\n",
            "Nigeria - 2004: Malaria (999,639 personas)\n",
            "Nigeria - 2005: Polio (999,939 personas)\n",
            "Nigeria - 2006: Alzheimer's Disease (999,775 personas)\n",
            "Nigeria - 2007: Ebola (999,013 personas)\n",
            "Nigeria - 2008: Measles (999,973 personas)\n",
            "Nigeria - 2009: Parkinson's Disease (999,614 personas)\n",
            "Nigeria - 2010: Parkinson's Disease (999,660 personas)\n",
            "Nigeria - 2011: Influenza (999,952 personas)\n",
            "Nigeria - 2012: Tuberculosis (997,606 personas)\n",
            "Nigeria - 2013: Zika (999,702 personas)\n",
            "Nigeria - 2014: Malaria (997,858 personas)\n",
            "Nigeria - 2015: Parkinson's Disease (999,546 personas)\n",
            "Nigeria - 2016: COVID-19 (999,975 personas)\n",
            "Nigeria - 2017: Hypertension (999,896 personas)\n",
            "Nigeria - 2018: Hepatitis (999,807 personas)\n",
            "Nigeria - 2019: Diabetes (999,378 personas)\n",
            "Nigeria - 2020: Diabetes (999,474 personas)\n",
            "Nigeria - 2021: Cancer (999,994 personas)\n",
            "Nigeria - 2022: Influenza (999,753 personas)\n",
            "Nigeria - 2023: Cholera (998,838 personas)\n",
            "Nigeria - 2024: Ebola (998,837 personas)\n",
            "Russia - 2000: Influenza (999,774 personas)\n",
            "Russia - 2001: HIV/AIDS (999,979 personas)\n",
            "Russia - 2002: Ebola (999,867 personas)\n",
            "Russia - 2003: Polio (998,861 personas)\n",
            "Russia - 2004: Rabies (999,777 personas)\n",
            "Russia - 2005: Tuberculosis (999,186 personas)\n",
            "Russia - 2006: HIV/AIDS (999,213 personas)\n",
            "Russia - 2007: Parkinson's Disease (998,862 personas)\n",
            "Russia - 2008: Alzheimer's Disease (999,320 personas)\n",
            "Russia - 2009: Alzheimer's Disease (999,891 personas)\n",
            "Russia - 2010: Polio (999,086 personas)\n",
            "Russia - 2011: Ebola (999,749 personas)\n",
            "Russia - 2012: Asthma (999,825 personas)\n",
            "Russia - 2013: Hepatitis (999,970 personas)\n",
            "Russia - 2014: Cancer (999,539 personas)\n",
            "Russia - 2015: Dengue (999,920 personas)\n",
            "Russia - 2016: Dengue (999,513 personas)\n",
            "Russia - 2017: Cholera (999,289 personas)\n",
            "Russia - 2018: Asthma (999,941 personas)\n",
            "Russia - 2019: Parkinson's Disease (999,806 personas)\n",
            "Russia - 2020: Cholera (999,601 personas)\n",
            "Russia - 2021: Rabies (999,962 personas)\n",
            "Russia - 2022: Leprosy (999,488 personas)\n",
            "Russia - 2023: Diabetes (999,455 personas)\n",
            "Russia - 2024: Polio (999,791 personas)\n",
            "Saudi Arabia - 2000: Hepatitis (999,823 personas)\n",
            "Saudi Arabia - 2001: Alzheimer's Disease (999,548 personas)\n",
            "Saudi Arabia - 2002: Cancer (998,353 personas)\n",
            "Saudi Arabia - 2003: Leprosy (999,678 personas)\n",
            "Saudi Arabia - 2004: Cholera (999,861 personas)\n",
            "Saudi Arabia - 2005: Ebola (999,555 personas)\n",
            "Saudi Arabia - 2006: COVID-19 (999,079 personas)\n",
            "Saudi Arabia - 2007: Malaria (999,829 personas)\n",
            "Saudi Arabia - 2008: Hypertension (999,504 personas)\n",
            "Saudi Arabia - 2009: Polio (999,786 personas)\n",
            "Saudi Arabia - 2010: Ebola (999,184 personas)\n",
            "Saudi Arabia - 2011: Leprosy (999,399 personas)\n",
            "Saudi Arabia - 2012: Parkinson's Disease (999,406 personas)\n",
            "Saudi Arabia - 2013: Diabetes (999,963 personas)\n",
            "Saudi Arabia - 2014: HIV/AIDS (999,590 personas)\n",
            "Saudi Arabia - 2015: Hypertension (999,928 personas)\n",
            "Saudi Arabia - 2016: Zika (999,833 personas)\n",
            "Saudi Arabia - 2017: Ebola (999,571 personas)\n",
            "Saudi Arabia - 2018: Influenza (999,856 personas)\n",
            "Saudi Arabia - 2019: Influenza (999,394 personas)\n",
            "Saudi Arabia - 2020: Alzheimer's Disease (999,322 personas)\n",
            "Saudi Arabia - 2021: Measles (998,228 personas)\n",
            "Saudi Arabia - 2022: Diabetes (999,667 personas)\n",
            "Saudi Arabia - 2023: Leprosy (999,937 personas)\n",
            "Saudi Arabia - 2024: HIV/AIDS (999,322 personas)\n",
            "South Africa - 2000: Diabetes (999,544 personas)\n",
            "South Africa - 2001: Leprosy (999,012 personas)\n",
            "South Africa - 2002: Hepatitis (999,683 personas)\n",
            "South Africa - 2003: Hypertension (999,604 personas)\n",
            "South Africa - 2004: Asthma (998,778 personas)\n",
            "South Africa - 2005: COVID-19 (999,845 personas)\n",
            "South Africa - 2006: Measles (999,303 personas)\n",
            "South Africa - 2007: Tuberculosis (999,885 personas)\n",
            "South Africa - 2008: Tuberculosis (999,711 personas)\n",
            "South Africa - 2009: Ebola (998,629 personas)\n",
            "South Africa - 2010: Cholera (999,921 personas)\n",
            "South Africa - 2011: Ebola (999,770 personas)\n",
            "South Africa - 2012: Tuberculosis (998,988 personas)\n",
            "South Africa - 2013: Zika (999,905 personas)\n",
            "South Africa - 2014: Polio (999,860 personas)\n",
            "South Africa - 2015: HIV/AIDS (998,262 personas)\n",
            "South Africa - 2016: Parkinson's Disease (999,991 personas)\n",
            "South Africa - 2017: Cancer (999,969 personas)\n",
            "South Africa - 2018: HIV/AIDS (999,826 personas)\n",
            "South Africa - 2019: Dengue (999,723 personas)\n",
            "South Africa - 2020: Cholera (999,573 personas)\n",
            "South Africa - 2021: Asthma (999,765 personas)\n",
            "South Africa - 2022: Cholera (999,867 personas)\n",
            "South Africa - 2023: Diabetes (999,326 personas)\n",
            "South Africa - 2024: Cancer (999,754 personas)\n",
            "South Korea - 2000: Cholera (997,975 personas)\n",
            "South Korea - 2001: Ebola (999,913 personas)\n",
            "South Korea - 2002: Ebola (999,085 personas)\n",
            "South Korea - 2003: Measles (999,641 personas)\n",
            "South Korea - 2004: Cholera (999,975 personas)\n",
            "South Korea - 2005: Measles (999,586 personas)\n",
            "South Korea - 2006: Tuberculosis (999,210 personas)\n",
            "South Korea - 2007: Diabetes (999,615 personas)\n",
            "South Korea - 2008: Diabetes (999,703 personas)\n",
            "South Korea - 2009: Cancer (999,935 personas)\n",
            "South Korea - 2010: Cancer (998,844 personas)\n",
            "South Korea - 2011: Influenza (999,199 personas)\n",
            "South Korea - 2012: Diabetes (999,555 personas)\n",
            "South Korea - 2013: Alzheimer's Disease (999,402 personas)\n",
            "South Korea - 2014: Leprosy (999,464 personas)\n",
            "South Korea - 2015: Cancer (999,966 personas)\n",
            "South Korea - 2016: Alzheimer's Disease (999,542 personas)\n",
            "South Korea - 2017: Ebola (998,802 personas)\n",
            "South Korea - 2018: Hepatitis (999,645 personas)\n",
            "South Korea - 2019: HIV/AIDS (999,811 personas)\n",
            "South Korea - 2020: Asthma (999,978 personas)\n",
            "South Korea - 2021: Asthma (999,838 personas)\n",
            "South Korea - 2022: Tuberculosis (999,833 personas)\n",
            "South Korea - 2023: Parkinson's Disease (998,300 personas)\n",
            "South Korea - 2024: Polio (999,921 personas)\n",
            "Turkey - 2000: Cancer (999,440 personas)\n",
            "Turkey - 2001: Asthma (999,136 personas)\n",
            "Turkey - 2002: Cancer (999,593 personas)\n",
            "Turkey - 2003: Hepatitis (999,924 personas)\n",
            "Turkey - 2004: Malaria (999,166 personas)\n",
            "Turkey - 2005: Alzheimer's Disease (999,870 personas)\n",
            "Turkey - 2006: Leprosy (999,807 personas)\n",
            "Turkey - 2007: Hepatitis (999,976 personas)\n",
            "Turkey - 2008: Diabetes (999,752 personas)\n",
            "Turkey - 2009: Influenza (999,846 personas)\n",
            "Turkey - 2010: Rabies (999,558 personas)\n",
            "Turkey - 2011: Zika (999,847 personas)\n",
            "Turkey - 2012: Parkinson's Disease (999,729 personas)\n",
            "Turkey - 2013: Diabetes (999,775 personas)\n",
            "Turkey - 2014: Cholera (999,935 personas)\n",
            "Turkey - 2015: Diabetes (999,080 personas)\n",
            "Turkey - 2016: Hypertension (999,905 personas)\n",
            "Turkey - 2017: COVID-19 (999,931 personas)\n",
            "Turkey - 2018: Dengue (999,988 personas)\n",
            "Turkey - 2019: Polio (999,176 personas)\n",
            "Turkey - 2020: Diabetes (999,629 personas)\n",
            "Turkey - 2021: Dengue (999,513 personas)\n",
            "Turkey - 2022: Alzheimer's Disease (999,394 personas)\n",
            "Turkey - 2023: Ebola (999,998 personas)\n",
            "Turkey - 2024: Influenza (999,910 personas)\n",
            "UK - 2000: Zika (996,872 personas)\n",
            "UK - 2001: Polio (999,607 personas)\n",
            "UK - 2002: Zika (999,999 personas)\n",
            "UK - 2003: Hepatitis (999,984 personas)\n",
            "UK - 2004: Tuberculosis (999,770 personas)\n",
            "UK - 2005: Asthma (998,858 personas)\n",
            "UK - 2006: Parkinson's Disease (999,681 personas)\n",
            "UK - 2007: Hepatitis (999,880 personas)\n",
            "UK - 2008: Asthma (999,980 personas)\n",
            "UK - 2009: Polio (997,480 personas)\n",
            "UK - 2010: HIV/AIDS (999,809 personas)\n",
            "UK - 2011: Ebola (999,623 personas)\n",
            "UK - 2012: Cholera (999,806 personas)\n",
            "UK - 2013: COVID-19 (999,706 personas)\n",
            "UK - 2014: Ebola (999,390 personas)\n",
            "UK - 2015: Influenza (999,612 personas)\n",
            "UK - 2016: Dengue (999,505 personas)\n",
            "UK - 2017: Polio (999,838 personas)\n",
            "UK - 2018: HIV/AIDS (999,539 personas)\n",
            "UK - 2019: Cancer (999,858 personas)\n",
            "UK - 2020: Polio (999,917 personas)\n",
            "UK - 2021: Cholera (998,902 personas)\n",
            "UK - 2022: Influenza (999,991 personas)\n",
            "UK - 2023: Asthma (999,322 personas)\n",
            "UK - 2024: Asthma (999,253 personas)\n",
            "USA - 2000: Influenza (999,925 personas)\n",
            "USA - 2001: COVID-19 (999,389 personas)\n",
            "USA - 2002: Malaria (999,514 personas)\n",
            "USA - 2003: Tuberculosis (999,656 personas)\n",
            "USA - 2004: Hypertension (999,961 personas)\n",
            "USA - 2005: HIV/AIDS (999,934 personas)\n",
            "USA - 2006: Ebola (999,615 personas)\n",
            "USA - 2007: Asthma (999,479 personas)\n",
            "USA - 2008: Polio (999,891 personas)\n",
            "USA - 2009: Ebola (999,398 personas)\n",
            "USA - 2010: COVID-19 (999,352 personas)\n",
            "USA - 2011: Polio (999,615 personas)\n",
            "USA - 2012: HIV/AIDS (999,924 personas)\n",
            "USA - 2013: Parkinson's Disease (999,951 personas)\n",
            "USA - 2014: Influenza (999,150 personas)\n",
            "USA - 2015: Polio (999,374 personas)\n",
            "USA - 2016: Leprosy (999,877 personas)\n",
            "USA - 2017: Cholera (998,265 personas)\n",
            "USA - 2018: Rabies (999,569 personas)\n",
            "USA - 2019: Cholera (998,833 personas)\n",
            "USA - 2020: Cancer (998,710 personas)\n",
            "USA - 2021: Tuberculosis (999,879 personas)\n",
            "USA - 2022: Leprosy (999,448 personas)\n",
            "USA - 2023: Measles (998,817 personas)\n",
            "USA - 2024: Leprosy (999,582 personas)\n"
          ]
        }
      ]
    },
    {
      "cell_type": "markdown",
      "source": [
        "#**Enfermedades más comunes por género** :\n",
        "Voy a analizar qué **enfermedades** afectan más a **mujeres** y cuáles a **hombres** y a una tercera categoría llamada **other** ,teniendo en cuenta estos datos."
      ],
      "metadata": {
        "id": "n-gKHbq9W-yW"
      }
    },
    {
      "cell_type": "code",
      "source": [
        "enfermedad_sexo_poblacion = df.groupby([\"Gender\", \"Disease Name\"])[\"Population Affected\"].sum().reset_index()\n",
        "\n",
        "print(\"Enfermedades más comunes por género:\\n\")\n",
        "for gender in enfermedad_sexo_poblacion[\"Gender\"].unique():\n",
        "    subset = enfermedad_sexo_poblacion[enfermedad_sexo_poblacion[\"Gender\"] == gender]\n",
        "    top = subset.loc[subset[\"Population Affected\"].idxmax()]\n",
        "    print(f\"{gender}: {top['Disease Name']} ({top['Population Affected']:,} personas)\")"
      ],
      "metadata": {
        "colab": {
          "base_uri": "https://localhost:8080/"
        },
        "id": "XS3cUWiC45G8",
        "outputId": "f1cab817-f1df-4e89-db2c-f7243aa0a793"
      },
      "execution_count": 142,
      "outputs": [
        {
          "output_type": "stream",
          "name": "stdout",
          "text": [
            "Enfermedades más comunes por género:\n",
            "\n",
            "Female: Zika (8,448,262,662 personas)\n",
            "Male: Leprosy (8,532,327,840 personas)\n",
            "Other: HIV/AIDS (8,444,815,364 personas)\n"
          ]
        }
      ]
    },
    {
      "cell_type": "markdown",
      "source": [
        "Zika es la enfermedad más común en mujeres, Lepra en hombres y HIV en categoría other. Me sorprende un poco que la lepra sea la enfermedad más común en hombres así que voy a analizar más la incidencia de esta enfermedad y dónde es más habitual."
      ],
      "metadata": {
        "id": "X_V8SlVix_s_"
      }
    },
    {
      "cell_type": "markdown",
      "source": [
        "#**Incidencia de la Lepra en el mundo teniendo en cuenta el porcentaje de Urbanización y el índice de Educación**"
      ],
      "metadata": {
        "id": "d_Lt-OnM5ivb"
      }
    },
    {
      "cell_type": "code",
      "source": [
        "df_lepra = df[df[\"Disease Name\"] == \"Leprosy\"]\n",
        "\n",
        "df_sorted = df_lepra.sort_values(by=\"Prevalence Rate (%)\", ascending=False)\n",
        "\n",
        "#top_countries = df_sorted[[\"Country\", \"Prevalence Rate (%)\", \"Urbanization Rate (%)\"]]\n",
        "top_countries = df_sorted[[\"Country\", \"Prevalence Rate (%)\", \"Urbanization Rate (%)\", \"Education Index\"]]\n",
        "\n",
        "print(top_countries.head(10).to_string(index=False))\n",
        "\n"
      ],
      "metadata": {
        "colab": {
          "base_uri": "https://localhost:8080/"
        },
        "id": "oG7q5ZMVyWM-",
        "outputId": "0a238408-7972-4aa5-8b35-a7248fd54e3e"
      },
      "execution_count": 145,
      "outputs": [
        {
          "output_type": "stream",
          "name": "stdout",
          "text": [
            "    Country  Prevalence Rate (%)  Urbanization Rate (%)  Education Index\n",
            "    Nigeria                20.00                  23.25             0.80\n",
            "     Mexico                20.00                  24.54             0.82\n",
            "      Italy                20.00                  81.42             0.88\n",
            "     Russia                20.00                  24.85             0.82\n",
            "      India                20.00                  85.93             0.86\n",
            "         UK                20.00                  38.65             0.85\n",
            "South Korea                20.00                  41.08             0.62\n",
            "     Brazil                20.00                  85.95             0.52\n",
            "     Canada                20.00                  80.67             0.60\n",
            "     Russia                19.99                  58.19             0.73\n"
          ]
        }
      ]
    },
    {
      "cell_type": "markdown",
      "source": [
        "De los países donde la prevalencia es más alta, veo que están Italia y UK que no me cuadra en absoluto."
      ],
      "metadata": {
        "id": "tQ0KAEDs9oB2"
      }
    },
    {
      "cell_type": "markdown",
      "source": [
        "Sigo analizando los datos aunque no sean reales y por tanto las conclusiones obtenidas buenas."
      ],
      "metadata": {
        "id": "VnQpbTqERTSc"
      }
    },
    {
      "cell_type": "markdown",
      "source": [
        "#**Enfermedades con mayor tasa de mortalidad por país y grupo de edad**"
      ],
      "metadata": {
        "id": "glP1ZVmk7Isb"
      }
    },
    {
      "cell_type": "code",
      "source": [
        "print(\"Enfermedades con mayor tasa de mortalidad por país y grupo de edad:\\n\")\n",
        "for country in df[\"Country\"].unique():\n",
        "    country_data = df[df[\"Country\"] == country]\n",
        "\n",
        "    # Para cada grupo de edad dentro del país\n",
        "    for age_group in country_data[\"Age Group\"].unique():\n",
        "        subset = country_data[country_data[\"Age Group\"] == age_group]\n",
        "        if not subset.empty:\n",
        "            top = subset.loc[subset[\"Mortality Rate (%)\"].idxmax()]\n",
        "            print(f\"{country} | Edad: {age_group} → {top['Disease Name']} ({top['Mortality Rate (%)']}%)\")"
      ],
      "metadata": {
        "colab": {
          "base_uri": "https://localhost:8080/"
        },
        "id": "LYQ2TfYl7GiC",
        "outputId": "07edca6d-953c-4961-d987-17a8082e7818"
      },
      "execution_count": 148,
      "outputs": [
        {
          "output_type": "stream",
          "name": "stdout",
          "text": [
            "Enfermedades con mayor tasa de mortalidad por país y grupo de edad:\n",
            "\n",
            "Italy | Edad: 0-18 → Cancer (10.0%)\n",
            "Italy | Edad: 61+ → Measles (10.0%)\n",
            "Italy | Edad: 19-35 → Leprosy (10.0%)\n",
            "Italy | Edad: 36-60 → Rabies (10.0%)\n",
            "France | Edad: 61+ → Leprosy (10.0%)\n",
            "France | Edad: 19-35 → Hepatitis (10.0%)\n",
            "France | Edad: 0-18 → Hepatitis (10.0%)\n",
            "France | Edad: 36-60 → Leprosy (10.0%)\n",
            "Turkey | Edad: 36-60 → Alzheimer's Disease (10.0%)\n",
            "Turkey | Edad: 19-35 → Ebola (10.0%)\n",
            "Turkey | Edad: 0-18 → Diabetes (10.0%)\n",
            "Turkey | Edad: 61+ → Hepatitis (10.0%)\n",
            "Indonesia | Edad: 0-18 → Asthma (10.0%)\n",
            "Indonesia | Edad: 36-60 → Asthma (10.0%)\n",
            "Indonesia | Edad: 19-35 → Rabies (10.0%)\n",
            "Indonesia | Edad: 61+ → Polio (10.0%)\n",
            "Saudi Arabia | Edad: 61+ → Cancer (10.0%)\n",
            "Saudi Arabia | Edad: 0-18 → Cancer (10.0%)\n",
            "Saudi Arabia | Edad: 36-60 → Cholera (10.0%)\n",
            "Saudi Arabia | Edad: 19-35 → Polio (10.0%)\n",
            "USA | Edad: 61+ → Tuberculosis (10.0%)\n",
            "USA | Edad: 36-60 → Tuberculosis (10.0%)\n",
            "USA | Edad: 0-18 → Hypertension (10.0%)\n",
            "USA | Edad: 19-35 → Zika (10.0%)\n",
            "Nigeria | Edad: 0-18 → Leprosy (10.0%)\n",
            "Nigeria | Edad: 36-60 → Asthma (10.0%)\n",
            "Nigeria | Edad: 19-35 → Leprosy (10.0%)\n",
            "Nigeria | Edad: 61+ → Diabetes (10.0%)\n",
            "Australia | Edad: 61+ → Hypertension (10.0%)\n",
            "Australia | Edad: 19-35 → Diabetes (10.0%)\n",
            "Australia | Edad: 0-18 → Tuberculosis (10.0%)\n",
            "Australia | Edad: 36-60 → Asthma (10.0%)\n",
            "Canada | Edad: 36-60 → Tuberculosis (10.0%)\n",
            "Canada | Edad: 61+ → HIV/AIDS (10.0%)\n",
            "Canada | Edad: 0-18 → Rabies (10.0%)\n",
            "Canada | Edad: 19-35 → Malaria (10.0%)\n",
            "Mexico | Edad: 0-18 → Zika (10.0%)\n",
            "Mexico | Edad: 36-60 → Measles (10.0%)\n",
            "Mexico | Edad: 61+ → Cancer (10.0%)\n",
            "Mexico | Edad: 19-35 → Leprosy (10.0%)\n",
            "China | Edad: 36-60 → Polio (10.0%)\n",
            "China | Edad: 19-35 → Influenza (10.0%)\n",
            "China | Edad: 61+ → Ebola (10.0%)\n",
            "China | Edad: 0-18 → COVID-19 (10.0%)\n",
            "South Africa | Edad: 61+ → Asthma (10.0%)\n",
            "South Africa | Edad: 0-18 → Parkinson's Disease (10.0%)\n",
            "South Africa | Edad: 36-60 → Malaria (10.0%)\n",
            "South Africa | Edad: 19-35 → Dengue (10.0%)\n",
            "Japan | Edad: 19-35 → Malaria (10.0%)\n",
            "Japan | Edad: 0-18 → Cholera (10.0%)\n",
            "Japan | Edad: 36-60 → Hepatitis (10.0%)\n",
            "Japan | Edad: 61+ → Hypertension (10.0%)\n",
            "UK | Edad: 0-18 → Polio (10.0%)\n",
            "UK | Edad: 61+ → Malaria (10.0%)\n",
            "UK | Edad: 19-35 → Ebola (10.0%)\n",
            "UK | Edad: 36-60 → Rabies (10.0%)\n",
            "Russia | Edad: 36-60 → Measles (10.0%)\n",
            "Russia | Edad: 0-18 → Dengue (10.0%)\n",
            "Russia | Edad: 61+ → Dengue (10.0%)\n",
            "Russia | Edad: 19-35 → Leprosy (10.0%)\n",
            "Brazil | Edad: 61+ → Measles (10.0%)\n",
            "Brazil | Edad: 0-18 → Rabies (10.0%)\n",
            "Brazil | Edad: 19-35 → Rabies (10.0%)\n",
            "Brazil | Edad: 36-60 → Asthma (10.0%)\n",
            "Germany | Edad: 61+ → Parkinson's Disease (10.0%)\n",
            "Germany | Edad: 19-35 → Hepatitis (10.0%)\n",
            "Germany | Edad: 36-60 → Tuberculosis (10.0%)\n",
            "Germany | Edad: 0-18 → Cancer (10.0%)\n",
            "India | Edad: 0-18 → COVID-19 (10.0%)\n",
            "India | Edad: 36-60 → Polio (10.0%)\n",
            "India | Edad: 19-35 → Parkinson's Disease (10.0%)\n",
            "India | Edad: 61+ → Zika (10.0%)\n",
            "Argentina | Edad: 61+ → HIV/AIDS (10.0%)\n",
            "Argentina | Edad: 0-18 → Hepatitis (10.0%)\n",
            "Argentina | Edad: 19-35 → Alzheimer's Disease (10.0%)\n",
            "Argentina | Edad: 36-60 → Zika (10.0%)\n",
            "South Korea | Edad: 36-60 → Ebola (10.0%)\n",
            "South Korea | Edad: 0-18 → Asthma (10.0%)\n",
            "South Korea | Edad: 61+ → Hepatitis (10.0%)\n",
            "South Korea | Edad: 19-35 → Dengue (10.0%)\n"
          ]
        }
      ]
    },
    {
      "cell_type": "markdown",
      "source": [
        "Saco las enfermedades más comunes por país por rango de edad. Para ello, habría que ir eligiendo el país:"
      ],
      "metadata": {
        "id": "tcOBWfacQtFY"
      }
    },
    {
      "cell_type": "code",
      "source": [
        "pais = \"Argentina\"\n",
        "df_pais = df[df[\"Country\"] == pais]\n",
        "\n",
        "print(f\"Enfermedad más común por rango de edad en {pais}:\\n\")\n",
        "for age_group in df_pais[\"Age Group\"].unique():\n",
        "    subset = df_pais[df_pais[\"Age Group\"] == age_group]\n",
        "    top = subset.loc[subset[\"Population Affected\"].idxmax()]\n",
        "    print(f\"Edad {age_group}: {top['Disease Name']} ({top['Population Affected']:,} personas)\")"
      ],
      "metadata": {
        "colab": {
          "base_uri": "https://localhost:8080/"
        },
        "id": "2_d8sptSQqPF",
        "outputId": "4ec5f6be-c8cb-4e1c-c562-87afd4a43739"
      },
      "execution_count": 154,
      "outputs": [
        {
          "output_type": "stream",
          "name": "stdout",
          "text": [
            "Enfermedad más común por rango de edad en Argentina:\n",
            "\n",
            "Edad 61+: Measles (999,962 personas)\n",
            "Edad 0-18: Asthma (1,000,000 personas)\n",
            "Edad 19-35: Cholera (999,995 personas)\n",
            "Edad 36-60: Diabetes (999,775 personas)\n"
          ]
        }
      ]
    },
    {
      "cell_type": "markdown",
      "source": [
        "#**Enfermedades con mayor tasa de mortalidad por país y enfermedad**"
      ],
      "metadata": {
        "id": "Aztp2ZLKRhhB"
      }
    },
    {
      "cell_type": "code",
      "source": [
        "enfermedad_tasamortalidad_pais = df.groupby([\"Country\", \"Disease Name\"])[\"Mortality Rate (%)\"].mean().reset_index()\n",
        "sorted_group = enfermedad_tasamortalidad_pais.sort_values(by=[\"Country\", \"Mortality Rate (%)\"], ascending=[True, False])\n",
        "print(\"Enfermedades con mayor tasa de mortalidad por país:\\n\")\n",
        "for country in sorted_group[\"Country\"].unique():\n",
        "    subset = sorted_group[sorted_group[\"Country\"] == country]\n",
        "    top = subset.iloc[0]  # enfermedad con mayor mortalidad en ese país\n",
        "    print(f\"{country}: {top['Disease Name']} ({top['Mortality Rate (%)']}%)\")"
      ],
      "metadata": {
        "colab": {
          "base_uri": "https://localhost:8080/"
        },
        "id": "2QHICVQF6PDb",
        "outputId": "7ade3ea7-fb95-4bd1-9afe-e3b2de78ee67"
      },
      "execution_count": 147,
      "outputs": [
        {
          "output_type": "stream",
          "name": "stdout",
          "text": [
            "Enfermedades con mayor tasa de mortalidad por país:\n",
            "\n",
            "Argentina: Diabetes (5.127741670094611%)\n",
            "Australia: HIV/AIDS (5.138639618138425%)\n",
            "Brazil: COVID-19 (5.179767061708214%)\n",
            "Canada: Rabies (5.151473895582329%)\n",
            "China: Asthma (5.184743019020639%)\n",
            "France: Parkinson's Disease (5.1708602150537635%)\n",
            "Germany: Asthma (5.188142119888845%)\n",
            "India: Leprosy (5.2024929859719435%)\n",
            "Indonesia: Parkinson's Disease (5.152597077244258%)\n",
            "Italy: Alzheimer's Disease (5.204165998396151%)\n",
            "Japan: Hepatitis (5.155308896210873%)\n",
            "Mexico: Tuberculosis (5.166148538961039%)\n",
            "Nigeria: COVID-19 (5.220434439178515%)\n",
            "Russia: Cancer (5.163564705882353%)\n",
            "Saudi Arabia: Asthma (5.141629802095459%)\n",
            "South Africa: Zika (5.097000400480576%)\n",
            "South Korea: Parkinson's Disease (5.164582329317269%)\n",
            "Turkey: Zika (5.157434959349594%)\n",
            "UK: Measles (5.190866471326915%)\n",
            "USA: Rabies (5.126278225806452%)\n"
          ]
        }
      ]
    },
    {
      "cell_type": "markdown",
      "source": [
        "#**Recuperación Promedio**"
      ],
      "metadata": {
        "id": "9E_tRntwSXng"
      }
    },
    {
      "cell_type": "code",
      "source": [
        "recuperacion_promedio = df.groupby(\"Country\")[\"Recovery Rate (%)\"].mean()\n",
        "print(recuperacion_promedio)"
      ],
      "metadata": {
        "colab": {
          "base_uri": "https://localhost:8080/"
        },
        "id": "XrjZTrXCSWpB",
        "outputId": "89560957-b6ae-4557-d451-e75e2d3440e9"
      },
      "execution_count": 112,
      "outputs": [
        {
          "output_type": "stream",
          "name": "stdout",
          "text": [
            "Country\n",
            "Argentina       74.529121\n",
            "Australia       74.492637\n",
            "Brazil          74.400868\n",
            "Canada          74.512061\n",
            "China           74.533069\n",
            "France          74.460776\n",
            "Germany         74.550599\n",
            "India           74.461938\n",
            "Indonesia       74.604501\n",
            "Italy           74.565339\n",
            "Japan           74.416866\n",
            "Mexico          74.509848\n",
            "Nigeria         74.457166\n",
            "Russia          74.491571\n",
            "Saudi Arabia    74.604349\n",
            "South Africa    74.461773\n",
            "South Korea     74.455838\n",
            "Turkey          74.457858\n",
            "UK              74.465987\n",
            "USA             74.506540\n",
            "Name: Recovery Rate (%), dtype: float64\n"
          ]
        }
      ]
    },
    {
      "cell_type": "markdown",
      "source": [
        "#**Enfermedad más y menos mortal por país**"
      ],
      "metadata": {
        "id": "Q2STUJNZwPgu"
      }
    },
    {
      "cell_type": "code",
      "source": [
        "for country in df[\"Country\"].unique():\n",
        "    subset = df[df[\"Country\"] == country]\n",
        "    max_row = subset.loc[subset[\"Mortality Rate (%)\"].idxmax()]\n",
        "    min_row = subset.loc[subset[\"Mortality Rate (%)\"].idxmin()]\n",
        "\n",
        "    print(f\"\\n {country}\")\n",
        "    print(f\"  Más mortal: {max_row['Disease Name']} ({max_row['Mortality Rate (%)']}%)\")\n",
        "    print(f\"  Menos mortal: {min_row['Disease Name']} ({min_row['Mortality Rate (%)']}%)\")"
      ],
      "metadata": {
        "colab": {
          "base_uri": "https://localhost:8080/"
        },
        "id": "9Ep6rksMwZki",
        "outputId": "95e887e9-00dc-41bc-9a44-be06a604615a"
      },
      "execution_count": 123,
      "outputs": [
        {
          "output_type": "stream",
          "name": "stdout",
          "text": [
            "\n",
            " Italy\n",
            "  Más mortal: Cancer (10.0%)\n",
            "  Menos mortal: Parkinson's Disease (0.1%)\n",
            "\n",
            " France\n",
            "  Más mortal: Leprosy (10.0%)\n",
            "  Menos mortal: Cholera (0.1%)\n",
            "\n",
            " Turkey\n",
            "  Más mortal: Ebola (10.0%)\n",
            "  Menos mortal: Tuberculosis (0.1%)\n",
            "\n",
            " Indonesia\n",
            "  Más mortal: Asthma (10.0%)\n",
            "  Menos mortal: Influenza (0.1%)\n",
            "\n",
            " Saudi Arabia\n",
            "  Más mortal: Cancer (10.0%)\n",
            "  Menos mortal: Asthma (0.1%)\n",
            "\n",
            " USA\n",
            "  Más mortal: Zika (10.0%)\n",
            "  Menos mortal: HIV/AIDS (0.1%)\n",
            "\n",
            " Nigeria\n",
            "  Más mortal: Leprosy (10.0%)\n",
            "  Menos mortal: Influenza (0.1%)\n",
            "\n",
            " Australia\n",
            "  Más mortal: Hypertension (10.0%)\n",
            "  Menos mortal: Hepatitis (0.1%)\n",
            "\n",
            " Canada\n",
            "  Más mortal: HIV/AIDS (10.0%)\n",
            "  Menos mortal: COVID-19 (0.1%)\n",
            "\n",
            " Mexico\n",
            "  Más mortal: Cancer (10.0%)\n",
            "  Menos mortal: Alzheimer's Disease (0.1%)\n",
            "\n",
            " China\n",
            "  Más mortal: COVID-19 (10.0%)\n",
            "  Menos mortal: Asthma (0.1%)\n",
            "\n",
            " South Africa\n",
            "  Más mortal: Dengue (10.0%)\n",
            "  Menos mortal: Polio (0.1%)\n",
            "\n",
            " Japan\n",
            "  Más mortal: Malaria (10.0%)\n",
            "  Menos mortal: Malaria (0.1%)\n",
            "\n",
            " UK\n",
            "  Más mortal: Ebola (10.0%)\n",
            "  Menos mortal: Rabies (0.1%)\n",
            "\n",
            " Russia\n",
            "  Más mortal: Dengue (10.0%)\n",
            "  Menos mortal: Asthma (0.1%)\n",
            "\n",
            " Brazil\n",
            "  Más mortal: Rabies (10.0%)\n",
            "  Menos mortal: Polio (0.1%)\n",
            "\n",
            " Germany\n",
            "  Más mortal: Cancer (10.0%)\n",
            "  Menos mortal: Parkinson's Disease (0.1%)\n",
            "\n",
            " India\n",
            "  Más mortal: Parkinson's Disease (10.0%)\n",
            "  Menos mortal: HIV/AIDS (0.1%)\n",
            "\n",
            " Argentina\n",
            "  Más mortal: Zika (10.0%)\n",
            "  Menos mortal: HIV/AIDS (0.1%)\n",
            "\n",
            " South Korea\n",
            "  Más mortal: Dengue (10.0%)\n",
            "  Menos mortal: Malaria (0.1%)\n"
          ]
        }
      ]
    },
    {
      "cell_type": "markdown",
      "source": [
        "#**Enfermedad más común por continente**"
      ],
      "metadata": {
        "id": "OJ60f5cZ8ZeX"
      }
    },
    {
      "cell_type": "code",
      "source": [
        "enfermedad_continente = df.groupby([\"Continente\", \"Disease Name\"])[\"Population Affected\"].sum().reset_index()\n",
        "\n",
        "print(\"Enfermedad más común por continente:\\n\")\n",
        "for continent in enfermedad_continente[\"Continente\"].unique():\n",
        "    subset = enfermedad_continente[enfermedad_continente[\"Continente\"] == continent]\n",
        "    top = subset.loc[subset[\"Population Affected\"].idxmax()]\n",
        "    print(f\"{continent}: {top['Disease Name']} ({top['Population Affected']:,} personas)\")"
      ],
      "metadata": {
        "colab": {
          "base_uri": "https://localhost:8080/"
        },
        "id": "FmkYwDVT8CFj",
        "outputId": "ab72d8fb-98c0-400d-ae6c-cbc37efe6ddb"
      },
      "execution_count": 152,
      "outputs": [
        {
          "output_type": "stream",
          "name": "stdout",
          "text": [
            "Enfermedad más común por continente:\n",
            "\n",
            "América: Zika (6,361,801,871 personas)\n",
            "Asia: HIV/AIDS (10,144,780,099 personas)\n",
            "Europa: Rabies (5,135,310,720 personas)\n",
            "Oceanía: Hepatitis (1,293,990,565 personas)\n",
            "África: Polio (2,575,989,103 personas)\n"
          ]
        }
      ]
    },
    {
      "cell_type": "markdown",
      "source": [
        "##**OBJETIVO Y CONCLUSIONES - BREVE RESUMEN PARA PRESENTACIÓN**"
      ],
      "metadata": {
        "id": "kDuqd70u8lrp"
      }
    },
    {
      "cell_type": "markdown",
      "source": [
        "Este conjunto de datos ofrece estadísticas completas sobre la salud global, con un enfoque en diversas enfermedades, tratamientos y resultados. Los datos abarcan múltiples países (20) y desde el año 2000 al 2024. Me gustaría hacer un análisis de estos datos para ver tipos de enfermedades por país y región del mundo y por sexo, teniendo también en cuenta el acceso a la Sanidad en cada uno de los países, dónde viven, y también hacer una comparativa por continentes.\n",
        "\n",
        "Este dataset me ha desconcertado en varias ocasiones arrojando resultados que no me parecen correctos, he revisado el origen de los datos y aunque teóricamente se han basado en estadísticas de  prevalencias de enfermedades en el mundo, algunos de los datos son sintéticos, por lo que es normal que los resultados sean un poco extraños en ocasiones, incluso imposibles.\n",
        "\n",
        "Tras los análisis realizados se ha llegado a las siguientes conclusiones:\n",
        "\n",
        "*   **Enfermedad con más población afectada** en estos 24 años de estudio es el **ZIKA 25,307,554,082 personas**\n",
        "*   **Enfermedad con más casos por país**, aquí me ha llamado la atención que en **Italia , Turquía y Canadá la enfermedad con más casos sea Ébola y que en UK la enfermedad con más casos sea Zika**\n",
        "*   **Enfermedad más común por cantidad de Población Afectada** me llama la atención que en USA en los años 2021 y 2024 la enfermedad con más enfermos fue la **lepra**, que es imposible. También extraña que en South Korea la enfermedad con más gente afectada fuera **polio**, lo cual es bastante improbable.\n",
        "*  **Enfermedades por género más comunes** fueron:\n",
        "      \n",
        "      *    **Female: Zika** (8,448,262,662 personas)\n",
        "\n",
        "      *   **Other: HIV/AIDS**(8,444,815,364 personas)\n",
        "\n",
        "      *   **Male: Leprosy**(8,532,327,840 personas)\n",
        "  \n",
        "\n",
        "  Me sorprende mucho que la lepra sea la enfermedad más común en hombres así que voy a analizar más la incidencia de esta enfermedad y dónde es más habitual, así que saco valores de la lepra por porcentaje de prevalencia , porcentaje de urbanización e índice de educación. Obtengo los siguientes valores:\n",
        "![image.png](data:image/png;base64,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)\n",
        "\n",
        "Aquí obtengo valores muy extraños de incidencia de la lepra.\n",
        "\n",
        "*   **Mortalidad por país por rango de edad** veo valores que tampoco me parecen reales. Por ejemplo mirando los valores en Argentina obtengo lo siguiente:\n",
        "Enfermedad más común por rango de edad en Argentina:\n",
        "\n",
        "Edad 61+: Measles (999,962 personas)\n",
        "Edad 0-18: Asthma (1,000,000 personas)\n",
        "Edad 19-35: Cholera (999,995 personas)\n",
        "Edad 36-60: Diabetes (999,775 personas)\n",
        "\n",
        "Me sorprende que la enfermedad más común en el rango de 19-35 años sea el cólera.\n",
        "\n",
        "*   **Tasa de mortalidad por país** que obtengo es la siguiente:\n",
        "Enfermedades con mayor tasa de mortalidad por país:\n",
        "\n",
        "\n",
        "\n",
        "\n",
        "    *   Argentina: Diabetes (5.127741670094611%)\n",
        "    *   Australia: HIV/AIDS (5.138639618138425%)\n",
        "    *   Brazil: COVID-19 (5.179767061708214%)\n",
        "    *   Canada: Rabies (5.151473895582329%)\n",
        "    *   China: Asthma (5.184743019020639%)\n",
        "    *   France: Parkinson's Disease (5.1708602150537635%)\n",
        "    *   Germany: Asthma (5.188142119888845%)\n",
        "    *   India: Leprosy (5.2024929859719435%)\n",
        "    *   Indonesia: Parkinson's Disease (5.152597077244258%)\n",
        "    *   Italy: Alzheimer's Disease (5.204165998396151%)\n",
        "    *   Japan: Hepatitis (5.155308896210873%)\n",
        "    *   Mexico: Tuberculosis (5.166148538961039%)\n",
        "    *   Nigeria: COVID-19 (5.220434439178515%)\n",
        "    *   Russia: Cancer (5.163564705882353%)\n",
        "    *   Saudi Arabia: Asthma (5.141629802095459%)\n",
        "    *   South Africa: Zika (5.097000400480576%)\n",
        "    *  South Korea: Parkinson's Disease (5.164582329317269%)\n",
        "    *   Turkey: Zika (5.157434959349594%)\n",
        "    *   UK: Measles (5.190866471326915%)\n",
        "    *   USA: Rabies (5.126278225806452%)\n",
        "\n",
        "Me sorprende mucho que Canadá, por ejemplo, tenga una tasa de mortalidad por rabia del 5,15%.\n",
        "\n",
        "\n",
        "*  **Porcentaje promedio de recuperación por país** es muy similiar en todos, en torno al 74%.\n",
        "\n",
        "*   **Enfermedad más y menos mortal por país**:\n",
        "Me llaman la atención algunos valores como:\n",
        "France\n",
        "  Más mortal: Leprosy (10.0%)\n",
        "  Menos mortal: Cholera (0.1%)\n",
        "\n",
        " Turkey\n",
        "  Más mortal: Ebola (10.0%)\n",
        "  Menos mortal: Tuberculosis (0.1%)\n",
        "\n",
        " USA\n",
        "  Más mortal: Zika (10.0%)\n",
        "  Menos mortal: HIV/AIDS (0.1%)\n",
        "\n",
        "  No creo que en Francia la enfermedad más mortal sea la lepra o que en Turquía sea el Ébola o en USA el Zika.\n",
        "\n",
        "*   **Enfermedad con más afectados por continente**: Obtengo los siguientes valores:\n",
        "Enfermedad más común por continente:\n",
        "\n",
        "    *   América :  Zika (6,361,801,871 personas)\n",
        "    *   Asia: HIV/AIDS (10,144,780,099 personas)\n",
        "    *   Oceanía: Hepatitis (1,293,990,565 personas)\n",
        "    *   Europa: Rabies (5,135,310,720 personas)\n",
        "    *   África: Polio (2,575,989,103 personas)\n",
        "\n",
        "Aquí igualmente no me cuadra que en Asia la enfermedad más común sea HIV o que en Europa sea la rabia.\n",
        "\n",
        "En definitiva, aunque este dataset parecía muy completo, interesante y traía un montón de información para poder comparar países en función de muchas variables, el hecho de que haya muchos datos sintéticos ha distorsionado por completo los resultados y por tanto no se puede sacar ninguna conclusión coherente de ellos.\n",
        "\n",
        "\n",
        "\n",
        "\n"
      ],
      "metadata": {
        "id": "YHOH4C-V8qmH"
      }
    }
  ]
}