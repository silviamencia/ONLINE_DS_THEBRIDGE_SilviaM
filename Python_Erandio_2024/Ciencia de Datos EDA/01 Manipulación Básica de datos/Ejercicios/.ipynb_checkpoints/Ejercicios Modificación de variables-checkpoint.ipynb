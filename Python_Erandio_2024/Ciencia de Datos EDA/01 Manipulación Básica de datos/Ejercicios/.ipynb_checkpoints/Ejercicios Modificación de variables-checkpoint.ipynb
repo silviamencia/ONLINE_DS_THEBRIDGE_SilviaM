{
 "cells": [
  {
   "cell_type": "markdown",
   "metadata": {
    "id": "QwRQRsUfgNir"
   },
   "source": [
    "# Establecemos el directorio de trabajo"
   ]
  },
  {
   "cell_type": "code",
   "execution_count": null,
   "metadata": {
    "id": "_2bC986vgy8l"
   },
   "outputs": [],
   "source": [
    "import os\n",
    "os.chdir(r\"/home/laptop/Descargas/Python Avanzado/Python Avanzado/1- ModificacionesBasicas/Ejercicios/\")\n",
    "\n",
    "import pandas as pd\n",
    "import numpy as np"
   ]
  },
  {
   "cell_type": "markdown",
   "metadata": {
    "id": "P0N9qFEPgxl1"
   },
   "source": [
    "# 1. Cargar los datos de Train."
   ]
  },
  {
   "cell_type": "code",
   "execution_count": null,
   "metadata": {
    "id": "S5MLDfNFgw41"
   },
   "outputs": [],
   "source": []
  },
  {
   "cell_type": "markdown",
   "metadata": {
    "id": "PJIfJ_1Agv6v"
   },
   "source": [
    "# 2. Para la variable “MSZoning” eliminar de la valor “C (all)” y convertirlo en \"C\"."
   ]
  },
  {
   "cell_type": "code",
   "execution_count": null,
   "metadata": {
    "id": "0uAbXlDvgvMi"
   },
   "outputs": [],
   "source": []
  },
  {
   "cell_type": "markdown",
   "metadata": {
    "id": "bmYXilNqgtAK"
   },
   "source": [
    "# 3. Comprobar que se ha realizado correctamente el cambio."
   ]
  },
  {
   "cell_type": "code",
   "execution_count": null,
   "metadata": {
    "id": "C3IWaJodgr0J"
   },
   "outputs": [],
   "source": []
  },
  {
   "cell_type": "markdown",
   "metadata": {
    "id": "0JyV0_Aggoov"
   },
   "source": [
    "# 4. Crear una nueva variable que se llame Crisis."
   ]
  },
  {
   "cell_type": "code",
   "execution_count": null,
   "metadata": {
    "id": "ahx05DXfgpPk"
   },
   "outputs": [],
   "source": []
  },
  {
   "cell_type": "markdown",
   "metadata": {
    "id": "W6PuqJK-gnb6"
   },
   "source": [
    "# 5. Convertir esa columna en un valor booleano\n",
    "Transformar la variable anterior para determinar (Debe tomar los valores Sí o No), basándose en la variable “YrSold”, si la casa se vendió en el periodo sin crisis (antes de 2008) o tras el estallido de la crisis (a partir de 2008)."
   ]
  },
  {
   "cell_type": "code",
   "execution_count": null,
   "metadata": {
    "id": "QXCJAs4ngmm-"
   },
   "outputs": [],
   "source": []
  },
  {
   "cell_type": "markdown",
   "metadata": {
    "id": "-PLVrpV9glTm"
   },
   "source": [
    "Otra manera"
   ]
  },
  {
   "cell_type": "code",
   "execution_count": null,
   "metadata": {
    "id": "Uph5cCwjgklZ"
   },
   "outputs": [],
   "source": []
  },
  {
   "cell_type": "markdown",
   "metadata": {
    "id": "LGZkDxcLgjT8"
   },
   "source": [
    "# 6. Comprobar que se ha realizado correctamente."
   ]
  },
  {
   "cell_type": "code",
   "execution_count": null,
   "metadata": {
    "id": "XuBXXWUHgikG"
   },
   "outputs": [],
   "source": []
  },
  {
   "cell_type": "markdown",
   "metadata": {
    "id": "DeJT_OQIghZq"
   },
   "source": [
    "# 7. Crear un nuevo grupo de datos con las 10 casas más caras, en función de la variable “SalePrice”."
   ]
  },
  {
   "cell_type": "code",
   "execution_count": null,
   "metadata": {
    "id": "PECjkOT1ggmr"
   },
   "outputs": [],
   "source": []
  },
  {
   "cell_type": "markdown",
   "metadata": {
    "id": "qOXSGCgbgdVE"
   },
   "source": [
    "# 8. Determinar la calle en la que se encuentra la casa más cara.\n",
    "Consulta Cruzada"
   ]
  },
  {
   "cell_type": "code",
   "execution_count": null,
   "metadata": {
    "id": "kE1wXHtqgeLJ"
   },
   "outputs": [],
   "source": []
  },
  {
   "cell_type": "markdown",
   "metadata": {
    "id": "UWk9yxxQgaoR"
   },
   "source": [
    "# 9. Crear una variable llamada “Reforma” y que muestre los años que pasaron entre la última  reforma y la venta (YrSold-YearRemodAdd)."
   ]
  },
  {
   "cell_type": "code",
   "execution_count": null,
   "metadata": {
    "id": "pmcsQLlTgY0V"
   },
   "outputs": [],
   "source": []
  },
  {
   "cell_type": "markdown",
   "metadata": {
    "id": "asoq-WqsgYHQ"
   },
   "source": [
    "# 11. Guardar los datos."
   ]
  },
  {
   "cell_type": "code",
   "execution_count": null,
   "metadata": {
    "id": "44346JKwgXZZ"
   },
   "outputs": [],
   "source": []
  }
 ],
 "metadata": {
  "colab": {
   "authorship_tag": "ABX9TyPt54bhcET2JKkasv8rbERE",
   "provenance": []
  },
  "kernelspec": {
   "display_name": "Python 3 (ipykernel)",
   "language": "python",
   "name": "python3"
  },
  "language_info": {
   "codemirror_mode": {
    "name": "ipython",
    "version": 3
   },
   "file_extension": ".py",
   "mimetype": "text/x-python",
   "name": "python",
   "nbconvert_exporter": "python",
   "pygments_lexer": "ipython3",
   "version": "3.12.3"
  }
 },
 "nbformat": 4,
 "nbformat_minor": 1
}
